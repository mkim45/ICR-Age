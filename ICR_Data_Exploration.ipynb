{
 "cells": [
  {
   "cell_type": "code",
   "execution_count": 57,
   "id": "f52acf34",
   "metadata": {},
   "outputs": [],
   "source": [
    "import pandas as pd\n",
    "import numpy as np\n",
    "import seaborn as sns\n",
    "import matplotlib.pyplot as plt\n",
    "from sklearn.metrics import mean_squared_error\n",
    "from sklearn.model_selection import cross_val_score,train_test_split, KFold, cross_val_predict\n",
    "from sklearn.metrics import mean_squared_error,r2_score,roc_curve,auc,precision_recall_curve, accuracy_score, \\\n",
    "recall_score, precision_score, confusion_matrix\n",
    "from sklearn.tree import DecisionTreeRegressor,DecisionTreeClassifier\n",
    "from sklearn.model_selection import GridSearchCV, ParameterGrid, StratifiedKFold, RandomizedSearchCV\n",
    "from sklearn.ensemble import VotingRegressor, VotingClassifier, StackingRegressor, StackingClassifier, GradientBoostingRegressor,GradientBoostingClassifier, BaggingRegressor,BaggingClassifier,RandomForestRegressor,RandomForestClassifier,AdaBoostRegressor,AdaBoostClassifier\n",
    "from sklearn.linear_model import LinearRegression,LogisticRegression, LassoCV, RidgeCV, ElasticNetCV\n",
    "from sklearn.neighbors import KNeighborsRegressor\n",
    "import itertools as it\n",
    "import time as time\n",
    "import xgboost as xgb\n",
    "from pyearth import Earth\n",
    "from sklearn.impute import KNNImputer\n",
    "from sklearn.preprocessing import StandardScaler\n",
    "from sklearn.feature_selection import VarianceThreshold\n",
    "from catboost import CatBoostClassifier\n",
    "import warnings\n",
    "warnings.filterwarnings(\"ignore\")\n",
    "from sklearn.isotonic import IsotonicRegression\n",
    "from sklearn.metrics import log_loss"
   ]
  },
  {
   "cell_type": "code",
   "execution_count": 47,
   "id": "a679850e",
   "metadata": {},
   "outputs": [],
   "source": [
    "# Import the data\n",
    "train = pd.read_csv('train.csv')\n",
    "test = pd.read_csv('test.csv')\n",
    "greeks = pd.read_csv('greeks.csv')"
   ]
  },
  {
   "cell_type": "code",
   "execution_count": 48,
   "id": "b3212d98",
   "metadata": {},
   "outputs": [],
   "source": [
    "# Change to dummy variables\n",
    "train['EJ'] = train['EJ'].apply(lambda x: 0 if x == 'A' else 1)\n",
    "test['EJ'] = test['EJ'].apply(lambda x: 0 if x == 'A' else 1)\n",
    "\n",
    "#Separating train data for predictors and response\n",
    "X_train = train.drop('Class', axis = 1)\n",
    "y_train = train.loc[:, 'Class']\n",
    "\n",
    "#Dropping id column\n",
    "X_train = X_train.drop('Id', axis = 1)\n",
    "test = test.drop('Id', axis = 1)\n",
    "\n",
    "#Creating validation data set\n",
    "X_train, X_val, y_train, y_val = train_test_split(X_train, y_train, test_size = 0.10, stratify = y_train)\n",
    "\n",
    "#Scaling the train and test data\n",
    "scaler = StandardScaler()\n",
    "X_train_scaled = scaler.fit_transform(X_train)\n",
    "X_test_scaled = scaler.transform(test)\n",
    "X_val_scaled = scaler.transform(X_val)\n",
    "X_train = pd.DataFrame(X_train_scaled)\n",
    "X_test = pd.DataFrame(X_test_scaled)\n",
    "X_val = pd.DataFrame(X_val_scaled)"
   ]
  },
  {
   "cell_type": "code",
   "execution_count": 61,
   "id": "30ad01f6",
   "metadata": {},
   "outputs": [],
   "source": [
    "#Using for loop to iterate over potential values of n_neighbors for imputing missing values, using a \n",
    "#CatBoostRegressor() to get train MSE as the parameter to choose best value\n",
    "scores = []\n",
    "val_scores = []\n",
    "for i in range(1, 15):\n",
    "    imputer = KNNImputer(n_neighbors = i)\n",
    "    X_train_imputed = imputer.fit_transform(X_train)\n",
    "    model_test = CatBoostClassifier(verbose = False)\n",
    "    model_test.fit(X_train_imputed, y_train)\n",
    "\n",
    "    true_labels = np.array(y_train)\n",
    "    predicted_probs = np.array(model_test.predict_proba(X_train_imputed))\n",
    "\n",
    "    class_weights = np.mean(true_labels) / np.bincount(true_labels)\n",
    "    logloss_per_class = log_loss(true_labels, predicted_probs, labels=[0, 1], normalize=False)\n",
    "    balanced_logloss = np.sum(logloss_per_class * class_weights)\n",
    "    scores.append(balanced_logloss)\n",
    "    true_labels = np.array(y_val)\n",
    "    predicted_probs = np.array(model_test.predict_proba(X_val))\n",
    "\n",
    "    class_weights = np.mean(true_labels) / np.bincount(true_labels)\n",
    "    logloss_per_class = log_loss(true_labels, predicted_probs, labels=[0, 1], normalize=False)\n",
    "    balanced_logloss = np.sum(logloss_per_class * class_weights)\n",
    "    \n",
    "    val_scores.append(balanced_logloss)"
   ]
  },
  {
   "cell_type": "code",
   "execution_count": 63,
   "id": "64ff8d5b",
   "metadata": {},
   "outputs": [
    {
     "data": {
      "text/plain": [
       "<matplotlib.legend.Legend at 0x7ff6193e72e8>"
      ]
     },
     "execution_count": 63,
     "metadata": {},
     "output_type": "execute_result"
    },
    {
     "data": {
      "image/png": "[encoded data removed]",
      "text/plain": [
       "<Figure size 432x288 with 1 Axes>"
      ]
     },
     "metadata": {
      "needs_background": "light"
     },
     "output_type": "display_data"
    }
   ],
   "source": [
    "x = range(1, len(scores) + 1)\n",
    "plt.plot(x, scores, label = 'Train Scores')\n",
    "plt.plot(x, val_scores, label = 'Validation Scores')\n",
    "plt.legend()"
   ]
  },
  {
   "cell_type": "code",
   "execution_count": 9,
   "id": "0398e948",
   "metadata": {},
   "outputs": [
    {
     "name": "stdout",
     "output_type": "stream",
     "text": [
      "Id        0\n",
      "AB        0\n",
      "AF        0\n",
      "AH        0\n",
      "AM        0\n",
      "AR        0\n",
      "AX        0\n",
      "AY        0\n",
      "AZ        0\n",
      "BC        0\n",
      "BD        0\n",
      "BN        0\n",
      "BP        0\n",
      "BQ       60\n",
      "BR        0\n",
      "BZ        0\n",
      "CB        2\n",
      "CC        3\n",
      "CD        0\n",
      "CF        0\n",
      "CH        0\n",
      "CL        0\n",
      "CR        0\n",
      "CS        0\n",
      "CU        0\n",
      "CW        0\n",
      "DA        0\n",
      "DE        0\n",
      "DF        0\n",
      "DH        0\n",
      "DI        0\n",
      "DL        0\n",
      "DN        0\n",
      "DU        1\n",
      "DV        0\n",
      "DY        0\n",
      "EB        0\n",
      "EE        0\n",
      "EG        0\n",
      "EH        0\n",
      "EJ        0\n",
      "EL       60\n",
      "EP        0\n",
      "EU        0\n",
      "FC        1\n",
      "FD        0\n",
      "FE        0\n",
      "FI        0\n",
      "FL        1\n",
      "FR        0\n",
      "FS        2\n",
      "GB        0\n",
      "GE        0\n",
      "GF        0\n",
      "GH        0\n",
      "GI        0\n",
      "GL        1\n",
      "Class     0\n",
      "dtype: int64\n"
     ]
    }
   ],
   "source": [
    "# Initial data analysis\n",
    "print(train.isnull().sum())"
   ]
  },
  {
   "cell_type": "code",
   "execution_count": null,
   "id": "1cc1eda6",
   "metadata": {},
   "outputs": [],
   "source": []
  }
 ],
 "metadata": {
  "kernelspec": {
   "display_name": "Python 3",
   "language": "python",
   "name": "python3"
  },
  "language_info": {
   "codemirror_mode": {
    "name": "ipython",
    "version": 3
   },
   "file_extension": ".py",
   "mimetype": "text/x-python",
   "name": "python",
   "nbconvert_exporter": "python",
   "pygments_lexer": "ipython3",
   "version": "3.6.13"
  }
 },
 "nbformat": 4,
 "nbformat_minor": 5
}
