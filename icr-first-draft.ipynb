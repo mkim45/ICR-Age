{
 "cells": [
  {
   "cell_type": "code",
   "execution_count": 1,
   "id": "cba0aa9a",
   "metadata": {
    "execution": {
     "iopub.execute_input": "2023-07-25T15:40:47.433557Z",
     "iopub.status.busy": "2023-07-25T15:40:47.432558Z",
     "iopub.status.idle": "2023-07-25T15:40:52.586962Z",
     "shell.execute_reply": "2023-07-25T15:40:52.585606Z"
    },
    "papermill": {
     "duration": 5.168714,
     "end_time": "2023-07-25T15:40:52.590619",
     "exception": false,
     "start_time": "2023-07-25T15:40:47.421905",
     "status": "completed"
    },
    "tags": []
   },
   "outputs": [],
   "source": [
    "import time\n",
    "import numpy as np\n",
    "import pandas as pd\n",
    "import warnings\n",
    "def ignore_warn(*args,**kwargs):\n",
    "    pass\n",
    "warnings.warn = ignore_warn\n",
    "import matplotlib\n",
    "import matplotlib.pyplot as plt\n",
    "import seaborn as sns\n",
    "import optuna\n",
    "from sklearn.preprocessing import LabelEncoder\n",
    "from sklearn.model_selection import cross_val_score, KFold\n",
    "from sklearn.metrics import f1_score\n",
    "import xgboost as xgboost\n",
    "import lightgbm as lgb\n",
    "from catboost import CatBoostClassifier\n",
    "from sklearn.ensemble import RandomForestClassifier, AdaBoostClassifier\n",
    "from sklearn.tree import DecisionTreeClassifier\n",
    "from sklearn.experimental import enable_hist_gradient_boosting  \n",
    "from sklearn.ensemble import HistGradientBoostingClassifier\n",
    "from sklearn.ensemble import ExtraTreesClassifier\n",
    "from sklearn.model_selection import cross_val_predict\n",
    "from sklearn.ensemble import StackingClassifier, VotingClassifier"
   ]
  },
  {
   "cell_type": "code",
   "execution_count": 2,
   "id": "860d65f3",
   "metadata": {
    "execution": {
     "iopub.execute_input": "2023-07-25T15:40:52.608944Z",
     "iopub.status.busy": "2023-07-25T15:40:52.608402Z",
     "iopub.status.idle": "2023-07-25T15:40:52.671841Z",
     "shell.execute_reply": "2023-07-25T15:40:52.670288Z"
    },
    "papermill": {
     "duration": 0.076592,
     "end_time": "2023-07-25T15:40:52.675499",
     "exception": false,
     "start_time": "2023-07-25T15:40:52.598907",
     "status": "completed"
    },
    "tags": []
   },
   "outputs": [],
   "source": [
    "train = pd.read_csv('/kaggle/input/icr-identify-age-related-conditions/train.csv')\n",
    "test = pd.read_csv('/kaggle/input/icr-identify-age-related-conditions/test.csv')\n",
    "final = pd.read_csv('/kaggle/input/icr-identify-age-related-conditions/sample_submission.csv')"
   ]
  },
  {
   "cell_type": "code",
   "execution_count": 3,
   "id": "73543a2b",
   "metadata": {
    "execution": {
     "iopub.execute_input": "2023-07-25T15:40:52.693182Z",
     "iopub.status.busy": "2023-07-25T15:40:52.692585Z",
     "iopub.status.idle": "2023-07-25T15:40:52.711097Z",
     "shell.execute_reply": "2023-07-25T15:40:52.709490Z"
    },
    "papermill": {
     "duration": 0.031343,
     "end_time": "2023-07-25T15:40:52.714576",
     "exception": false,
     "start_time": "2023-07-25T15:40:52.683233",
     "status": "completed"
    },
    "tags": []
   },
   "outputs": [],
   "source": [
    "encoder = LabelEncoder()\n",
    "train.loc[:, 'EJ'] = encoder.fit_transform(train.loc[:, 'EJ'])\n",
    "test.loc[:, 'EJ'] = encoder.fit_transform(test.loc[:, 'EJ'])"
   ]
  },
  {
   "cell_type": "code",
   "execution_count": 4,
   "id": "9ef6551a",
   "metadata": {
    "execution": {
     "iopub.execute_input": "2023-07-25T15:40:52.733235Z",
     "iopub.status.busy": "2023-07-25T15:40:52.732398Z",
     "iopub.status.idle": "2023-07-25T15:40:52.758373Z",
     "shell.execute_reply": "2023-07-25T15:40:52.756871Z"
    },
    "papermill": {
     "duration": 0.039066,
     "end_time": "2023-07-25T15:40:52.761504",
     "exception": false,
     "start_time": "2023-07-25T15:40:52.722438",
     "status": "completed"
    },
    "tags": []
   },
   "outputs": [],
   "source": [
    "# taken directly from https://www.kaggle.com/code/chensilin/icr-eda-lightgbm-xgboost-optuna/input\n",
    "seed = 617\n",
    "zero, one = np.bincount(train.loc[:, 'Class'])\n",
    "one_df = train.iloc[(train.loc[:, 'Class'] == 1).tolist(), :] \n",
    "zero_df = train.iloc[(train.loc[:, 'Class'] == 0).tolist(), :]\n",
    "zero_df = zero_df.sample(n=one, random_state=seed)\n",
    "oversampled_df = pd.concat([train.iloc[(train.loc[:, 'Class'] == 0).tolist(), :], one_df, one_df, one_df, one_df])\n",
    "oversampled_df = oversampled_df.sample(frac=1, random_state=seed)"
   ]
  },
  {
   "cell_type": "code",
   "execution_count": 5,
   "id": "741f78d2",
   "metadata": {
    "execution": {
     "iopub.execute_input": "2023-07-25T15:40:52.778870Z",
     "iopub.status.busy": "2023-07-25T15:40:52.778385Z",
     "iopub.status.idle": "2023-07-25T15:40:52.787039Z",
     "shell.execute_reply": "2023-07-25T15:40:52.785491Z"
    },
    "papermill": {
     "duration": 0.020693,
     "end_time": "2023-07-25T15:40:52.789790",
     "exception": false,
     "start_time": "2023-07-25T15:40:52.769097",
     "status": "completed"
    },
    "tags": []
   },
   "outputs": [],
   "source": [
    "# taken directly from https://www.kaggle.com/code/chensilin/icr-eda-lightgbm-xgboost-optuna/input\n",
    "def balanced_log_loss(y_true, y_pred):\n",
    "    N_0 = np.sum(1 - y_true)\n",
    "    N_1 = np.sum(y_true)\n",
    "    w_0 = 1 / N_0\n",
    "    w_1 = 1 / N_1\n",
    "    p_1 = np.clip(y_pred[:, 1], 1e-15, 1-1e-15)\n",
    "    p_0 = 1 - p_1\n",
    "    log_loss_0 = -np.sum((1 - y_true) * np.log(p_0))\n",
    "    log_loss_1 = -np.sum(y_true * np.log(p_1))\n",
    "    balanced_log_loss = (w_0 * log_loss_0 + w_1 * log_loss_1) / 2\n",
    "    return balanced_log_loss"
   ]
  },
  {
   "cell_type": "code",
   "execution_count": 6,
   "id": "bd5dbc72",
   "metadata": {
    "execution": {
     "iopub.execute_input": "2023-07-25T15:40:52.811587Z",
     "iopub.status.busy": "2023-07-25T15:40:52.811034Z",
     "iopub.status.idle": "2023-07-25T15:40:52.821211Z",
     "shell.execute_reply": "2023-07-25T15:40:52.819958Z"
    },
    "papermill": {
     "duration": 0.02661,
     "end_time": "2023-07-25T15:40:52.824173",
     "exception": false,
     "start_time": "2023-07-25T15:40:52.797563",
     "status": "completed"
    },
    "tags": []
   },
   "outputs": [],
   "source": [
    "# taken directly from https://www.kaggle.com/code/chensilin/icr-eda-lightgbm-xgboost-optuna/input\n",
    "n_folds = 10\n",
    "def CV(model, data, loss_function):\n",
    "    skf = KFold(n_splits=n_folds, shuffle=True, random_state=seed)\n",
    "    kfold = skf.split(data.iloc[:,1:-1], data.iloc[:, -1])\n",
    "    losses = []\n",
    "    for (train_id, val_id) in kfold:\n",
    "        x_train = data.iloc[train_id, 1:-1]\n",
    "        y_train = data.iloc[train_id, -1]\n",
    "        x_val = data.iloc[val_id, 1:-1]\n",
    "        y_val = data.iloc[val_id, -1]\n",
    "        model.fit(x_train, y_train)\n",
    "        pred_val = model.predict_proba(x_val)\n",
    "        loss = loss_function(y_val, pred_val)\n",
    "        losses.append(loss)\n",
    "    return np.sum(losses) / n_folds"
   ]
  },
  {
   "cell_type": "code",
   "execution_count": 7,
   "id": "00ee80e2",
   "metadata": {
    "execution": {
     "iopub.execute_input": "2023-07-25T15:40:52.841544Z",
     "iopub.status.busy": "2023-07-25T15:40:52.841008Z",
     "iopub.status.idle": "2023-07-25T15:40:52.852512Z",
     "shell.execute_reply": "2023-07-25T15:40:52.851101Z"
    },
    "papermill": {
     "duration": 0.023286,
     "end_time": "2023-07-25T15:40:52.855034",
     "exception": false,
     "start_time": "2023-07-25T15:40:52.831748",
     "status": "completed"
    },
    "tags": []
   },
   "outputs": [],
   "source": [
    "X_train = oversampled_df.drop(columns=['Class', 'Id'])\n",
    "y_train = oversampled_df['Class']"
   ]
  },
  {
   "cell_type": "code",
   "execution_count": 8,
   "id": "2dcf19e3",
   "metadata": {
    "execution": {
     "iopub.execute_input": "2023-07-25T15:40:52.872740Z",
     "iopub.status.busy": "2023-07-25T15:40:52.872157Z",
     "iopub.status.idle": "2023-07-25T15:40:52.885440Z",
     "shell.execute_reply": "2023-07-25T15:40:52.883421Z"
    },
    "papermill": {
     "duration": 0.026472,
     "end_time": "2023-07-25T15:40:52.889038",
     "exception": false,
     "start_time": "2023-07-25T15:40:52.862566",
     "status": "completed"
    },
    "tags": []
   },
   "outputs": [],
   "source": [
    "def xgb(trial):\n",
    "    param = {\n",
    "        'n_estimators': trial.suggest_int('n_estimators', 50, 200, 10),\n",
    "        'lambda': trial.suggest_loguniform('lambda', 1e-3, 10.0),\n",
    "        'alpha': trial.suggest_loguniform('alpha', 1e-3, 10.0),\n",
    "        'colsample_bytree': trial.suggest_categorical('colsample_bytree', [0.3, 0.4, 0.5, 0.6, 0.7, 0.8, 0.9, 1.0]),\n",
    "        'subsample': trial.suggest_categorical('subsample', [0.4, 0.5, 0.6, 0.7, 0.8, 1.0]),\n",
    "        'learning_rate': trial.suggest_float('learning_rate', 1e-5, 1e-1),\n",
    "        'max_depth': trial.suggest_int('max_depth', 3, 20),\n",
    "        'min_child_weight': trial.suggest_int('min_child_weight', 1, 50),\n",
    "    }\n",
    "    model = xgb.XGBClassifier(**param, random_state = seed)\n",
    "    score = CV(model, oversampled_df, balanced_log_loss)\n",
    "    return score"
   ]
  },
  {
   "cell_type": "code",
   "execution_count": 9,
   "id": "416e8000",
   "metadata": {
    "execution": {
     "iopub.execute_input": "2023-07-25T15:40:52.908459Z",
     "iopub.status.busy": "2023-07-25T15:40:52.907592Z",
     "iopub.status.idle": "2023-07-25T15:40:52.918089Z",
     "shell.execute_reply": "2023-07-25T15:40:52.916836Z"
    },
    "papermill": {
     "duration": 0.025109,
     "end_time": "2023-07-25T15:40:52.922912",
     "exception": false,
     "start_time": "2023-07-25T15:40:52.897803",
     "status": "completed"
    },
    "tags": []
   },
   "outputs": [],
   "source": [
    "def lgbm(trial):\n",
    "    param = {\n",
    "        'n_estimators': trial.suggest_int('n_estimators', 50, 200, 10),\n",
    "        'reg_alpha': trial.suggest_loguniform('reg_alpha', 1e-3, 10.0),\n",
    "        'reg_lambda': trial.suggest_loguniform('reg_lambda', 1e-3, 10.0),\n",
    "        'colsample_bytree': trial.suggest_categorical('colsample_bytree', [0.3,0.4,0.5,0.6,0.7,0.8,0.9,1.0]),\n",
    "        'subsample': trial.suggest_categorical('subsample', [0.4,0.5,0.6,0.7,0.8,1.0]),\n",
    "        'learning_rate': trial.suggest_float('learning_rate', 1e-5, 1e-1),\n",
    "        'max_depth': trial.suggest_int('max_depth', 3, 20),\n",
    "        'num_leaves' : trial.suggest_int('num_leaves', 10, 50),\n",
    "        'min_child_samples': trial.suggest_int('min_child_samples', 1, 50),\n",
    "    }\n",
    "    model = lgb.LGBMClassifier(**param, random_state = seed)\n",
    "    score = CV(model, oversampled_df, balanced_log_loss)\n",
    "    return score"
   ]
  },
  {
   "cell_type": "code",
   "execution_count": 10,
   "id": "00ea7964",
   "metadata": {
    "execution": {
     "iopub.execute_input": "2023-07-25T15:40:52.947516Z",
     "iopub.status.busy": "2023-07-25T15:40:52.945796Z",
     "iopub.status.idle": "2023-07-25T15:40:52.956650Z",
     "shell.execute_reply": "2023-07-25T15:40:52.955591Z"
    },
    "papermill": {
     "duration": 0.025184,
     "end_time": "2023-07-25T15:40:52.959670",
     "exception": false,
     "start_time": "2023-07-25T15:40:52.934486",
     "status": "completed"
    },
    "tags": []
   },
   "outputs": [],
   "source": [
    "def catboost(trial):\n",
    "    param = {\n",
    "        'n_estimators': trial.suggest_int('n_estimators', 50, 150, 10),\n",
    "        'reg_lambda': trial.suggest_loguniform('lambda', 1e-3, 10.0),\n",
    "        'colsample_bylevel': trial.suggest_categorical('colsample_bylevel', [0.3, 0.4, 0.5, 0.6, 0.7, 0.8, 0.9, 1.0]),\n",
    "        'subsample': trial.suggest_categorical('subsample', [0.4, 0.5, 0.6, 0.7, 0.8, 1.0]),\n",
    "        'learning_rate': trial.suggest_float('learning_rate', 1e-4, 1e-1),\n",
    "        'max_depth': trial.suggest_int('max_depth', 3, 10),\n",
    "        'one_hot_max_size': trial.suggest_int('one_hot_max_size', 2, 10),\n",
    "    }\n",
    "    model = CatBoostClassifier(**param, random_seed=seed, verbose=False)\n",
    "    score = CV(model, oversampled_df, balanced_log_loss)\n",
    "    return score"
   ]
  },
  {
   "cell_type": "code",
   "execution_count": 11,
   "id": "8d2b8f58",
   "metadata": {
    "execution": {
     "iopub.execute_input": "2023-07-25T15:40:52.981065Z",
     "iopub.status.busy": "2023-07-25T15:40:52.980048Z",
     "iopub.status.idle": "2023-07-25T15:40:52.989362Z",
     "shell.execute_reply": "2023-07-25T15:40:52.988118Z"
    },
    "papermill": {
     "duration": 0.025606,
     "end_time": "2023-07-25T15:40:52.994019",
     "exception": false,
     "start_time": "2023-07-25T15:40:52.968413",
     "status": "completed"
    },
    "tags": []
   },
   "outputs": [],
   "source": [
    "def hgbc(trial):\n",
    "    param = {\n",
    "        'learning_rate': trial.suggest_float('learning_rate', 0.0001, 1.0),\n",
    "        'max_depth': trial.suggest_int('max_depth', 3, 15),\n",
    "        'min_samples_leaf': trial.suggest_int('min_samples_leaf', 1, 20),\n",
    "        'max_iter': trial.suggest_int('max_iter', 50, 200, 10),\n",
    "    }\n",
    "    model = HistGradientBoostingClassifier(**param, random_state=seed)\n",
    "    score = CV(model, oversampled_df, balanced_log_loss)\n",
    "    return score"
   ]
  },
  {
   "cell_type": "code",
   "execution_count": 12,
   "id": "606a5c7b",
   "metadata": {
    "execution": {
     "iopub.execute_input": "2023-07-25T15:40:53.013585Z",
     "iopub.status.busy": "2023-07-25T15:40:53.012605Z",
     "iopub.status.idle": "2023-07-25T15:40:53.018508Z",
     "shell.execute_reply": "2023-07-25T15:40:53.017380Z"
    },
    "papermill": {
     "duration": 0.01897,
     "end_time": "2023-07-25T15:40:53.021085",
     "exception": false,
     "start_time": "2023-07-25T15:40:53.002115",
     "status": "completed"
    },
    "tags": []
   },
   "outputs": [],
   "source": [
    "#start = time.time()\n",
    "\n",
    "#study1 = optuna.create_study(direction='minimize', study_name=\"CatBoost Stacking\")\n",
    "#n_trials = 25\n",
    "#study1.optimize(catboost_meta, n_trials=n_trials)\n",
    "#print('Best trial:', study1.best_trial.params)\n",
    "#print('Best values:', study1.best_value)\n",
    "\n",
    "#end = time.time()\n",
    "#print('It has taken {:.5f} seconds to search for the best Hyperparameter'.format(end-start))"
   ]
  },
  {
   "cell_type": "code",
   "execution_count": 13,
   "id": "096a6159",
   "metadata": {
    "execution": {
     "iopub.execute_input": "2023-07-25T15:40:53.039665Z",
     "iopub.status.busy": "2023-07-25T15:40:53.038629Z",
     "iopub.status.idle": "2023-07-25T15:40:53.395889Z",
     "shell.execute_reply": "2023-07-25T15:40:53.394461Z"
    },
    "papermill": {
     "duration": 0.370301,
     "end_time": "2023-07-25T15:40:53.399187",
     "exception": false,
     "start_time": "2023-07-25T15:40:53.028886",
     "status": "completed"
    },
    "tags": []
   },
   "outputs": [],
   "source": [
    "xgb_model = xgboost.XGBClassifier(n_estimators=200, reg_lambda=0.15325900166549988, reg_alpha=0.0044700650580230235, \n",
    "                              colsample_bytree=0.3, subsample=1.0, learning_rate=0.09975673376458177, \n",
    "                              max_depth=11, min_child_weight=2, random_state=seed).fit(X_train, y_train)\n",
    "xgb = xgb_model.predict_proba(test.iloc[:, 1:])"
   ]
  },
  {
   "cell_type": "code",
   "execution_count": 14,
   "id": "396ca178",
   "metadata": {
    "execution": {
     "iopub.execute_input": "2023-07-25T15:40:53.418161Z",
     "iopub.status.busy": "2023-07-25T15:40:53.417666Z",
     "iopub.status.idle": "2023-07-25T15:40:54.579230Z",
     "shell.execute_reply": "2023-07-25T15:40:54.577963Z"
    },
    "papermill": {
     "duration": 1.175054,
     "end_time": "2023-07-25T15:40:54.583056",
     "exception": false,
     "start_time": "2023-07-25T15:40:53.408002",
     "status": "completed"
    },
    "tags": []
   },
   "outputs": [],
   "source": [
    "lgbm_model = lgb.LGBMClassifier(n_estimators=200, reg_alpha=0.0016725623110267532, reg_lambda=0.0038043774323061946, \n",
    "                                 colsample_bytree=0.3, subsample=0.4, learning_rate=0.09367295744238123, max_depth=11, \n",
    "                                 num_leaves=50, min_child_samples=26, random_state=seed).fit(X_train, y_train)\n",
    "lgbm = lgbm_model.predict_proba(test.iloc[:, 1:])"
   ]
  },
  {
   "cell_type": "code",
   "execution_count": 15,
   "id": "8e12a965",
   "metadata": {
    "execution": {
     "iopub.execute_input": "2023-07-25T15:40:54.601176Z",
     "iopub.status.busy": "2023-07-25T15:40:54.600687Z",
     "iopub.status.idle": "2023-07-25T15:40:57.327826Z",
     "shell.execute_reply": "2023-07-25T15:40:57.326229Z"
    },
    "papermill": {
     "duration": 2.740373,
     "end_time": "2023-07-25T15:40:57.331287",
     "exception": false,
     "start_time": "2023-07-25T15:40:54.590914",
     "status": "completed"
    },
    "tags": []
   },
   "outputs": [],
   "source": [
    "cat_model = CatBoostClassifier(n_estimators=70, reg_lambda=0.01606738047167, colsample_bylevel=0.3, \n",
    "                              subsample=0.7, learning_rate=0.0865881098465479, \n",
    "                              max_depth=9, one_hot_max_size=10, random_state=seed, verbose=False).fit(X_train, y_train)\n",
    "cat = cat_model.predict_proba(test.iloc[:, 1:])"
   ]
  },
  {
   "cell_type": "code",
   "execution_count": 16,
   "id": "0af73f96",
   "metadata": {
    "execution": {
     "iopub.execute_input": "2023-07-25T15:40:57.349875Z",
     "iopub.status.busy": "2023-07-25T15:40:57.348538Z",
     "iopub.status.idle": "2023-07-25T15:40:58.085417Z",
     "shell.execute_reply": "2023-07-25T15:40:58.084037Z"
    },
    "papermill": {
     "duration": 0.749366,
     "end_time": "2023-07-25T15:40:58.088501",
     "exception": false,
     "start_time": "2023-07-25T15:40:57.339135",
     "status": "completed"
    },
    "tags": []
   },
   "outputs": [],
   "source": [
    "hgbc_model = HistGradientBoostingClassifier(max_iter=170, max_depth=4, min_samples_leaf=9,\n",
    "                                         learning_rate=0.17193627413211837, random_state=seed).fit(X_train, y_train)\n",
    "hgbc = hgbc_model.predict_proba(test.iloc[:, 1:])"
   ]
  },
  {
   "cell_type": "code",
   "execution_count": 17,
   "id": "6d4f9655",
   "metadata": {
    "execution": {
     "iopub.execute_input": "2023-07-25T15:40:58.107902Z",
     "iopub.status.busy": "2023-07-25T15:40:58.106458Z",
     "iopub.status.idle": "2023-07-25T15:40:58.117418Z",
     "shell.execute_reply": "2023-07-25T15:40:58.116218Z"
    },
    "papermill": {
     "duration": 0.023938,
     "end_time": "2023-07-25T15:40:58.120325",
     "exception": false,
     "start_time": "2023-07-25T15:40:58.096387",
     "status": "completed"
    },
    "tags": []
   },
   "outputs": [],
   "source": [
    "def catboost_meta(trial):\n",
    "    param = {\n",
    "        'n_estimators': trial.suggest_int('n_estimators', 50, 150, 10),\n",
    "        'reg_lambda': trial.suggest_loguniform('lambda', 1e-3, 0.1),\n",
    "        'colsample_bylevel': trial.suggest_categorical('colsample_bylevel', [0.3, 0.4, 0.5, 0.6, 0.7, 0.8, 0.9, 1.0]),\n",
    "        'subsample': trial.suggest_categorical('subsample', [0.4, 0.5, 0.6, 0.7, 0.8, 1.0]),\n",
    "        'learning_rate': trial.suggest_float('learning_rate', 1e-3, 1e-1),\n",
    "        'max_depth': trial.suggest_int('max_depth', 3, 10),\n",
    "        'one_hot_max_size': trial.suggest_int('one_hot_max_size', 2, 10),\n",
    "    }\n",
    "    model = StackingClassifier(\n",
    "        estimators=[(\"catboost\", cat_model), (\"hist_gradient_boosting\", hgbc_model),\n",
    "                    (\"lgbm\", lgbm_model), (\"xgboost\", xgb_model)],\n",
    "        final_estimator=CatBoostClassifier(**param, random_state=seed, verbose=False)\n",
    "    )\n",
    "    score = CV(model, oversampled_df, balanced_log_loss)\n",
    "    return score"
   ]
  },
  {
   "cell_type": "code",
   "execution_count": 18,
   "id": "f797ae57",
   "metadata": {
    "execution": {
     "iopub.execute_input": "2023-07-25T15:40:58.139019Z",
     "iopub.status.busy": "2023-07-25T15:40:58.137870Z",
     "iopub.status.idle": "2023-07-25T15:40:58.148634Z",
     "shell.execute_reply": "2023-07-25T15:40:58.147379Z"
    },
    "papermill": {
     "duration": 0.023419,
     "end_time": "2023-07-25T15:40:58.151578",
     "exception": false,
     "start_time": "2023-07-25T15:40:58.128159",
     "status": "completed"
    },
    "tags": []
   },
   "outputs": [],
   "source": [
    "def xgb_meta(trial):\n",
    "    param = {\n",
    "        'n_estimators': trial.suggest_int('n_estimators', 50, 200, 10),\n",
    "        'lambda': trial.suggest_loguniform('lambda', 1e-3, 0.1),\n",
    "        'alpha': trial.suggest_loguniform('alpha', 1e-3, 0.1),\n",
    "        'colsample_bytree': trial.suggest_categorical('colsample_bytree', [0.3, 0.4, 0.5, 0.6, 0.7, 0.8, 0.9, 1.0]),\n",
    "        'subsample': trial.suggest_categorical('subsample', [0.4, 0.5, 0.6, 0.7, 0.8, 1.0]),\n",
    "        'learning_rate': trial.suggest_float('learning_rate', 1e-4, 1e-1),\n",
    "        'max_depth': trial.suggest_int('max_depth', 3, 20),\n",
    "        'min_child_weight': trial.suggest_int('min_child_weight', 1, 50),\n",
    "    }\n",
    "    model = StackingClassifier(\n",
    "        estimators=[(\"catboost\", cat_model), (\"hist_gradient_boosting\", hgbc_model),\n",
    "                    (\"lgbm\", lgbm_model), (\"xgboost\", xgb_model)],\n",
    "        final_estimator=xgboost.XGBClassifier(**param, random_state=seed, verbose=False)\n",
    "    )\n",
    "    score = CV(model, oversampled_df, balanced_log_loss)\n",
    "    return score"
   ]
  },
  {
   "cell_type": "code",
   "execution_count": 19,
   "id": "2ee8b064",
   "metadata": {
    "execution": {
     "iopub.execute_input": "2023-07-25T15:40:58.169853Z",
     "iopub.status.busy": "2023-07-25T15:40:58.169342Z",
     "iopub.status.idle": "2023-07-25T15:40:58.178146Z",
     "shell.execute_reply": "2023-07-25T15:40:58.176794Z"
    },
    "papermill": {
     "duration": 0.021069,
     "end_time": "2023-07-25T15:40:58.180743",
     "exception": false,
     "start_time": "2023-07-25T15:40:58.159674",
     "status": "completed"
    },
    "tags": []
   },
   "outputs": [],
   "source": [
    "def hgbc_meta(trial):\n",
    "    param = {\n",
    "        'learning_rate': trial.suggest_float('learning_rate', 0.0001, 1.0),\n",
    "        'max_depth': trial.suggest_int('max_depth', 3, 15),\n",
    "        'min_samples_leaf': trial.suggest_int('min_samples_leaf', 1, 20),\n",
    "        'max_iter': trial.suggest_int('max_iter', 50, 200, 10),\n",
    "    }\n",
    "    model = StackingClassifier(\n",
    "        estimators=[(\"catboost\", cat_model), (\"hist_gradient_boosting\", hgbc_model),\n",
    "                    (\"lgbm\", lgbm_model), (\"xgboost\", xgb_model)],\n",
    "        final_estimator=HistGradientBoostingClassifier(**param, random_state=seed, verbose=False)\n",
    "    )\n",
    "    score = CV(model, oversampled_df, balanced_log_loss)\n",
    "    return score"
   ]
  },
  {
   "cell_type": "code",
   "execution_count": 20,
   "id": "6bc99b44",
   "metadata": {
    "execution": {
     "iopub.execute_input": "2023-07-25T15:40:58.198872Z",
     "iopub.status.busy": "2023-07-25T15:40:58.198355Z",
     "iopub.status.idle": "2023-07-25T15:40:58.227511Z",
     "shell.execute_reply": "2023-07-25T15:40:58.226112Z"
    },
    "papermill": {
     "duration": 0.043052,
     "end_time": "2023-07-25T15:40:58.231624",
     "exception": false,
     "start_time": "2023-07-25T15:40:58.188572",
     "status": "completed"
    },
    "tags": []
   },
   "outputs": [
    {
     "data": {
      "text/html": [
       "<div>\n",
       "<style scoped>\n",
       "    .dataframe tbody tr th:only-of-type {\n",
       "        vertical-align: middle;\n",
       "    }\n",
       "\n",
       "    .dataframe tbody tr th {\n",
       "        vertical-align: top;\n",
       "    }\n",
       "\n",
       "    .dataframe thead th {\n",
       "        text-align: right;\n",
       "    }\n",
       "</style>\n",
       "<table border=\"1\" class=\"dataframe\">\n",
       "  <thead>\n",
       "    <tr style=\"text-align: right;\">\n",
       "      <th></th>\n",
       "      <th>Id</th>\n",
       "      <th>class_0</th>\n",
       "      <th>class_1</th>\n",
       "    </tr>\n",
       "  </thead>\n",
       "  <tbody>\n",
       "    <tr>\n",
       "      <th>0</th>\n",
       "      <td>00eed32682bb</td>\n",
       "      <td>0.964072</td>\n",
       "      <td>0.035928</td>\n",
       "    </tr>\n",
       "    <tr>\n",
       "      <th>1</th>\n",
       "      <td>010ebe33f668</td>\n",
       "      <td>0.964072</td>\n",
       "      <td>0.035928</td>\n",
       "    </tr>\n",
       "    <tr>\n",
       "      <th>2</th>\n",
       "      <td>02fa521e1838</td>\n",
       "      <td>0.964072</td>\n",
       "      <td>0.035928</td>\n",
       "    </tr>\n",
       "    <tr>\n",
       "      <th>3</th>\n",
       "      <td>040e15f562a2</td>\n",
       "      <td>0.964072</td>\n",
       "      <td>0.035928</td>\n",
       "    </tr>\n",
       "    <tr>\n",
       "      <th>4</th>\n",
       "      <td>046e85c7cc7f</td>\n",
       "      <td>0.964072</td>\n",
       "      <td>0.035928</td>\n",
       "    </tr>\n",
       "  </tbody>\n",
       "</table>\n",
       "</div>"
      ],
      "text/plain": [
       "             Id   class_0   class_1\n",
       "0  00eed32682bb  0.964072  0.035928\n",
       "1  010ebe33f668  0.964072  0.035928\n",
       "2  02fa521e1838  0.964072  0.035928\n",
       "3  040e15f562a2  0.964072  0.035928\n",
       "4  046e85c7cc7f  0.964072  0.035928"
      ]
     },
     "execution_count": 20,
     "metadata": {},
     "output_type": "execute_result"
    }
   ],
   "source": [
    "final.iloc[:, 1] = (xgb[:, 0] + lgbm[:, 0] + hgbc[:, 0] + cat[:, 0]) / 4\n",
    "final.iloc[:, -1] = (xgb[:, 1] + lgbm[:, 1] + hgbc[:, 1] + cat[:, 1]) / 4\n",
    "final.to_csv('submission.csv', index=False)\n",
    "submission = pd.read_csv('submission.csv')\n",
    "submission"
   ]
  },
  {
   "cell_type": "code",
   "execution_count": null,
   "id": "16a011c1",
   "metadata": {
    "papermill": {
     "duration": 0.00801,
     "end_time": "2023-07-25T15:40:58.247877",
     "exception": false,
     "start_time": "2023-07-25T15:40:58.239867",
     "status": "completed"
    },
    "tags": []
   },
   "outputs": [],
   "source": []
  }
 ],
 "metadata": {
  "kernelspec": {
   "display_name": "Python 3",
   "language": "python",
   "name": "python3"
  },
  "language_info": {
   "codemirror_mode": {
    "name": "ipython",
    "version": 3
   },
   "file_extension": ".py",
   "mimetype": "text/x-python",
   "name": "python",
   "nbconvert_exporter": "python",
   "pygments_lexer": "ipython3",
   "version": "3.10.12"
  },
  "papermill": {
   "default_parameters": {},
   "duration": 25.900948,
   "end_time": "2023-07-25T15:41:00.085665",
   "environment_variables": {},
   "exception": null,
   "input_path": "__notebook__.ipynb",
   "output_path": "__notebook__.ipynb",
   "parameters": {},
   "start_time": "2023-07-25T15:40:34.184717",
   "version": "2.4.0"
  }
 },
 "nbformat": 4,
 "nbformat_minor": 5
}
