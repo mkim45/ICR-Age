{
 "cells": [
  {
   "cell_type": "code",
   "execution_count": 1,
   "id": "a6ccb93e",
   "metadata": {
    "execution": {
     "iopub.execute_input": "2023-07-24T22:19:33.327242Z",
     "iopub.status.busy": "2023-07-24T22:19:33.326807Z",
     "iopub.status.idle": "2023-07-24T22:19:37.936276Z",
     "shell.execute_reply": "2023-07-24T22:19:37.935188Z"
    },
    "papermill": {
     "duration": 4.620784,
     "end_time": "2023-07-24T22:19:37.938939",
     "exception": false,
     "start_time": "2023-07-24T22:19:33.318155",
     "status": "completed"
    },
    "tags": []
   },
   "outputs": [],
   "source": [
    "import time\n",
    "import numpy as np\n",
    "import pandas as pd\n",
    "import warnings\n",
    "def ignore_warn(*args,**kwargs):\n",
    "    pass\n",
    "warnings.warn = ignore_warn\n",
    "import matplotlib\n",
    "import matplotlib.pyplot as plt\n",
    "import seaborn as sns\n",
    "import optuna\n",
    "from sklearn.preprocessing import LabelEncoder\n",
    "from sklearn.model_selection import cross_val_score, KFold\n",
    "from sklearn.metrics import f1_score\n",
    "import xgboost as xgb\n",
    "import lightgbm as lgb\n",
    "from catboost import CatBoostClassifier\n",
    "from sklearn.ensemble import RandomForestClassifier, AdaBoostClassifier\n",
    "from sklearn.tree import DecisionTreeClassifier\n",
    "from sklearn.experimental import enable_hist_gradient_boosting  \n",
    "from sklearn.ensemble import HistGradientBoostingClassifier\n",
    "from sklearn.ensemble import ExtraTreesClassifier"
   ]
  },
  {
   "cell_type": "code",
   "execution_count": 2,
   "id": "ad757ea2",
   "metadata": {
    "execution": {
     "iopub.execute_input": "2023-07-24T22:19:37.953999Z",
     "iopub.status.busy": "2023-07-24T22:19:37.953530Z",
     "iopub.status.idle": "2023-07-24T22:19:38.007440Z",
     "shell.execute_reply": "2023-07-24T22:19:38.006241Z"
    },
    "papermill": {
     "duration": 0.064605,
     "end_time": "2023-07-24T22:19:38.010352",
     "exception": false,
     "start_time": "2023-07-24T22:19:37.945747",
     "status": "completed"
    },
    "tags": []
   },
   "outputs": [],
   "source": [
    "train = pd.read_csv('/kaggle/input/icr-identify-age-related-conditions/train.csv')\n",
    "test = pd.read_csv('/kaggle/input/icr-identify-age-related-conditions/test.csv')\n",
    "final = pd.read_csv('/kaggle/input/icr-identify-age-related-conditions/sample_submission.csv')"
   ]
  },
  {
   "cell_type": "code",
   "execution_count": 3,
   "id": "fdb19e2e",
   "metadata": {
    "execution": {
     "iopub.execute_input": "2023-07-24T22:19:38.025602Z",
     "iopub.status.busy": "2023-07-24T22:19:38.025196Z",
     "iopub.status.idle": "2023-07-24T22:19:38.076244Z",
     "shell.execute_reply": "2023-07-24T22:19:38.075032Z"
    },
    "papermill": {
     "duration": 0.061799,
     "end_time": "2023-07-24T22:19:38.079023",
     "exception": false,
     "start_time": "2023-07-24T22:19:38.017224",
     "status": "completed"
    },
    "tags": []
   },
   "outputs": [
    {
     "data": {
      "text/html": [
       "<div>\n",
       "<style scoped>\n",
       "    .dataframe tbody tr th:only-of-type {\n",
       "        vertical-align: middle;\n",
       "    }\n",
       "\n",
       "    .dataframe tbody tr th {\n",
       "        vertical-align: top;\n",
       "    }\n",
       "\n",
       "    .dataframe thead th {\n",
       "        text-align: right;\n",
       "    }\n",
       "</style>\n",
       "<table border=\"1\" class=\"dataframe\">\n",
       "  <thead>\n",
       "    <tr style=\"text-align: right;\">\n",
       "      <th></th>\n",
       "      <th>Id</th>\n",
       "      <th>AB</th>\n",
       "      <th>AF</th>\n",
       "      <th>AH</th>\n",
       "      <th>AM</th>\n",
       "      <th>AR</th>\n",
       "      <th>AX</th>\n",
       "      <th>AY</th>\n",
       "      <th>AZ</th>\n",
       "      <th>BC</th>\n",
       "      <th>...</th>\n",
       "      <th>FL</th>\n",
       "      <th>FR</th>\n",
       "      <th>FS</th>\n",
       "      <th>GB</th>\n",
       "      <th>GE</th>\n",
       "      <th>GF</th>\n",
       "      <th>GH</th>\n",
       "      <th>GI</th>\n",
       "      <th>GL</th>\n",
       "      <th>Class</th>\n",
       "    </tr>\n",
       "  </thead>\n",
       "  <tbody>\n",
       "    <tr>\n",
       "      <th>0</th>\n",
       "      <td>000ff2bfdfe9</td>\n",
       "      <td>0.209377</td>\n",
       "      <td>3109.03329</td>\n",
       "      <td>85.200147</td>\n",
       "      <td>22.394407</td>\n",
       "      <td>8.138688</td>\n",
       "      <td>0.699861</td>\n",
       "      <td>0.025578</td>\n",
       "      <td>9.812214</td>\n",
       "      <td>5.555634</td>\n",
       "      <td>...</td>\n",
       "      <td>7.298162</td>\n",
       "      <td>1.73855</td>\n",
       "      <td>0.094822</td>\n",
       "      <td>11.339138</td>\n",
       "      <td>72.611063</td>\n",
       "      <td>2003.810319</td>\n",
       "      <td>22.136229</td>\n",
       "      <td>69.834944</td>\n",
       "      <td>0.120343</td>\n",
       "      <td>1</td>\n",
       "    </tr>\n",
       "    <tr>\n",
       "      <th>1</th>\n",
       "      <td>007255e47698</td>\n",
       "      <td>0.145282</td>\n",
       "      <td>978.76416</td>\n",
       "      <td>85.200147</td>\n",
       "      <td>36.968889</td>\n",
       "      <td>8.138688</td>\n",
       "      <td>3.632190</td>\n",
       "      <td>0.025578</td>\n",
       "      <td>13.517790</td>\n",
       "      <td>1.229900</td>\n",
       "      <td>...</td>\n",
       "      <td>0.173229</td>\n",
       "      <td>0.49706</td>\n",
       "      <td>0.568932</td>\n",
       "      <td>9.292698</td>\n",
       "      <td>72.611063</td>\n",
       "      <td>27981.562750</td>\n",
       "      <td>29.135430</td>\n",
       "      <td>32.131996</td>\n",
       "      <td>21.978000</td>\n",
       "      <td>0</td>\n",
       "    </tr>\n",
       "    <tr>\n",
       "      <th>2</th>\n",
       "      <td>013f2bd269f5</td>\n",
       "      <td>0.470030</td>\n",
       "      <td>2635.10654</td>\n",
       "      <td>85.200147</td>\n",
       "      <td>32.360553</td>\n",
       "      <td>8.138688</td>\n",
       "      <td>6.732840</td>\n",
       "      <td>0.025578</td>\n",
       "      <td>12.824570</td>\n",
       "      <td>1.229900</td>\n",
       "      <td>...</td>\n",
       "      <td>7.709560</td>\n",
       "      <td>0.97556</td>\n",
       "      <td>1.198821</td>\n",
       "      <td>37.077772</td>\n",
       "      <td>88.609437</td>\n",
       "      <td>13676.957810</td>\n",
       "      <td>28.022851</td>\n",
       "      <td>35.192676</td>\n",
       "      <td>0.196941</td>\n",
       "      <td>0</td>\n",
       "    </tr>\n",
       "    <tr>\n",
       "      <th>3</th>\n",
       "      <td>043ac50845d5</td>\n",
       "      <td>0.252107</td>\n",
       "      <td>3819.65177</td>\n",
       "      <td>120.201618</td>\n",
       "      <td>77.112203</td>\n",
       "      <td>8.138688</td>\n",
       "      <td>3.685344</td>\n",
       "      <td>0.025578</td>\n",
       "      <td>11.053708</td>\n",
       "      <td>1.229900</td>\n",
       "      <td>...</td>\n",
       "      <td>6.122162</td>\n",
       "      <td>0.49706</td>\n",
       "      <td>0.284466</td>\n",
       "      <td>18.529584</td>\n",
       "      <td>82.416803</td>\n",
       "      <td>2094.262452</td>\n",
       "      <td>39.948656</td>\n",
       "      <td>90.493248</td>\n",
       "      <td>0.155829</td>\n",
       "      <td>0</td>\n",
       "    </tr>\n",
       "    <tr>\n",
       "      <th>4</th>\n",
       "      <td>044fb8a146ec</td>\n",
       "      <td>0.380297</td>\n",
       "      <td>3733.04844</td>\n",
       "      <td>85.200147</td>\n",
       "      <td>14.103738</td>\n",
       "      <td>8.138688</td>\n",
       "      <td>3.942255</td>\n",
       "      <td>0.054810</td>\n",
       "      <td>3.396778</td>\n",
       "      <td>102.151980</td>\n",
       "      <td>...</td>\n",
       "      <td>8.153058</td>\n",
       "      <td>48.50134</td>\n",
       "      <td>0.121914</td>\n",
       "      <td>16.408728</td>\n",
       "      <td>146.109943</td>\n",
       "      <td>8524.370502</td>\n",
       "      <td>45.381316</td>\n",
       "      <td>36.262628</td>\n",
       "      <td>0.096614</td>\n",
       "      <td>1</td>\n",
       "    </tr>\n",
       "    <tr>\n",
       "      <th>...</th>\n",
       "      <td>...</td>\n",
       "      <td>...</td>\n",
       "      <td>...</td>\n",
       "      <td>...</td>\n",
       "      <td>...</td>\n",
       "      <td>...</td>\n",
       "      <td>...</td>\n",
       "      <td>...</td>\n",
       "      <td>...</td>\n",
       "      <td>...</td>\n",
       "      <td>...</td>\n",
       "      <td>...</td>\n",
       "      <td>...</td>\n",
       "      <td>...</td>\n",
       "      <td>...</td>\n",
       "      <td>...</td>\n",
       "      <td>...</td>\n",
       "      <td>...</td>\n",
       "      <td>...</td>\n",
       "      <td>...</td>\n",
       "      <td>...</td>\n",
       "    </tr>\n",
       "    <tr>\n",
       "      <th>612</th>\n",
       "      <td>fd3dafe738fd</td>\n",
       "      <td>0.149555</td>\n",
       "      <td>3130.05946</td>\n",
       "      <td>123.763599</td>\n",
       "      <td>9.513984</td>\n",
       "      <td>13.020852</td>\n",
       "      <td>3.499305</td>\n",
       "      <td>0.077343</td>\n",
       "      <td>8.545512</td>\n",
       "      <td>2.804172</td>\n",
       "      <td>...</td>\n",
       "      <td>0.173229</td>\n",
       "      <td>1.26092</td>\n",
       "      <td>0.067730</td>\n",
       "      <td>8.967128</td>\n",
       "      <td>217.148554</td>\n",
       "      <td>8095.932828</td>\n",
       "      <td>24.640462</td>\n",
       "      <td>69.191944</td>\n",
       "      <td>21.978000</td>\n",
       "      <td>0</td>\n",
       "    </tr>\n",
       "    <tr>\n",
       "      <th>613</th>\n",
       "      <td>fd895603f071</td>\n",
       "      <td>0.435846</td>\n",
       "      <td>5462.03438</td>\n",
       "      <td>85.200147</td>\n",
       "      <td>46.551007</td>\n",
       "      <td>15.973224</td>\n",
       "      <td>5.979825</td>\n",
       "      <td>0.025882</td>\n",
       "      <td>12.622906</td>\n",
       "      <td>3.777550</td>\n",
       "      <td>...</td>\n",
       "      <td>10.223150</td>\n",
       "      <td>1.24236</td>\n",
       "      <td>0.426699</td>\n",
       "      <td>35.896418</td>\n",
       "      <td>496.994214</td>\n",
       "      <td>3085.308063</td>\n",
       "      <td>29.648928</td>\n",
       "      <td>124.808872</td>\n",
       "      <td>0.145340</td>\n",
       "      <td>0</td>\n",
       "    </tr>\n",
       "    <tr>\n",
       "      <th>614</th>\n",
       "      <td>fd8ef6377f76</td>\n",
       "      <td>0.427300</td>\n",
       "      <td>2459.10720</td>\n",
       "      <td>130.138587</td>\n",
       "      <td>55.355778</td>\n",
       "      <td>10.005552</td>\n",
       "      <td>8.070549</td>\n",
       "      <td>0.025578</td>\n",
       "      <td>15.408390</td>\n",
       "      <td>1.229900</td>\n",
       "      <td>...</td>\n",
       "      <td>0.173229</td>\n",
       "      <td>0.49706</td>\n",
       "      <td>0.067730</td>\n",
       "      <td>19.962092</td>\n",
       "      <td>128.896894</td>\n",
       "      <td>6474.652866</td>\n",
       "      <td>26.166072</td>\n",
       "      <td>119.559420</td>\n",
       "      <td>21.978000</td>\n",
       "      <td>0</td>\n",
       "    </tr>\n",
       "    <tr>\n",
       "      <th>615</th>\n",
       "      <td>fe1942975e40</td>\n",
       "      <td>0.363205</td>\n",
       "      <td>1263.53524</td>\n",
       "      <td>85.200147</td>\n",
       "      <td>23.685856</td>\n",
       "      <td>8.138688</td>\n",
       "      <td>7.981959</td>\n",
       "      <td>0.025578</td>\n",
       "      <td>7.524588</td>\n",
       "      <td>1.229900</td>\n",
       "      <td>...</td>\n",
       "      <td>9.256996</td>\n",
       "      <td>0.78764</td>\n",
       "      <td>0.670527</td>\n",
       "      <td>24.594488</td>\n",
       "      <td>72.611063</td>\n",
       "      <td>1965.343176</td>\n",
       "      <td>25.116750</td>\n",
       "      <td>37.155112</td>\n",
       "      <td>0.184622</td>\n",
       "      <td>0</td>\n",
       "    </tr>\n",
       "    <tr>\n",
       "      <th>616</th>\n",
       "      <td>ffcca4ded3bb</td>\n",
       "      <td>0.482849</td>\n",
       "      <td>2672.53426</td>\n",
       "      <td>546.663930</td>\n",
       "      <td>112.006102</td>\n",
       "      <td>8.138688</td>\n",
       "      <td>3.198099</td>\n",
       "      <td>0.116928</td>\n",
       "      <td>3.396778</td>\n",
       "      <td>7.948668</td>\n",
       "      <td>...</td>\n",
       "      <td>0.173229</td>\n",
       "      <td>1.14492</td>\n",
       "      <td>0.149006</td>\n",
       "      <td>13.673940</td>\n",
       "      <td>72.611063</td>\n",
       "      <td>6850.484442</td>\n",
       "      <td>45.745974</td>\n",
       "      <td>114.842372</td>\n",
       "      <td>21.978000</td>\n",
       "      <td>0</td>\n",
       "    </tr>\n",
       "  </tbody>\n",
       "</table>\n",
       "<p>617 rows × 58 columns</p>\n",
       "</div>"
      ],
      "text/plain": [
       "               Id        AB          AF          AH          AM         AR  \\\n",
       "0    000ff2bfdfe9  0.209377  3109.03329   85.200147   22.394407   8.138688   \n",
       "1    007255e47698  0.145282   978.76416   85.200147   36.968889   8.138688   \n",
       "2    013f2bd269f5  0.470030  2635.10654   85.200147   32.360553   8.138688   \n",
       "3    043ac50845d5  0.252107  3819.65177  120.201618   77.112203   8.138688   \n",
       "4    044fb8a146ec  0.380297  3733.04844   85.200147   14.103738   8.138688   \n",
       "..            ...       ...         ...         ...         ...        ...   \n",
       "612  fd3dafe738fd  0.149555  3130.05946  123.763599    9.513984  13.020852   \n",
       "613  fd895603f071  0.435846  5462.03438   85.200147   46.551007  15.973224   \n",
       "614  fd8ef6377f76  0.427300  2459.10720  130.138587   55.355778  10.005552   \n",
       "615  fe1942975e40  0.363205  1263.53524   85.200147   23.685856   8.138688   \n",
       "616  ffcca4ded3bb  0.482849  2672.53426  546.663930  112.006102   8.138688   \n",
       "\n",
       "           AX        AY         AZ          BC  ...         FL        FR  \\\n",
       "0    0.699861  0.025578   9.812214    5.555634  ...   7.298162   1.73855   \n",
       "1    3.632190  0.025578  13.517790    1.229900  ...   0.173229   0.49706   \n",
       "2    6.732840  0.025578  12.824570    1.229900  ...   7.709560   0.97556   \n",
       "3    3.685344  0.025578  11.053708    1.229900  ...   6.122162   0.49706   \n",
       "4    3.942255  0.054810   3.396778  102.151980  ...   8.153058  48.50134   \n",
       "..        ...       ...        ...         ...  ...        ...       ...   \n",
       "612  3.499305  0.077343   8.545512    2.804172  ...   0.173229   1.26092   \n",
       "613  5.979825  0.025882  12.622906    3.777550  ...  10.223150   1.24236   \n",
       "614  8.070549  0.025578  15.408390    1.229900  ...   0.173229   0.49706   \n",
       "615  7.981959  0.025578   7.524588    1.229900  ...   9.256996   0.78764   \n",
       "616  3.198099  0.116928   3.396778    7.948668  ...   0.173229   1.14492   \n",
       "\n",
       "           FS         GB          GE            GF         GH          GI  \\\n",
       "0    0.094822  11.339138   72.611063   2003.810319  22.136229   69.834944   \n",
       "1    0.568932   9.292698   72.611063  27981.562750  29.135430   32.131996   \n",
       "2    1.198821  37.077772   88.609437  13676.957810  28.022851   35.192676   \n",
       "3    0.284466  18.529584   82.416803   2094.262452  39.948656   90.493248   \n",
       "4    0.121914  16.408728  146.109943   8524.370502  45.381316   36.262628   \n",
       "..        ...        ...         ...           ...        ...         ...   \n",
       "612  0.067730   8.967128  217.148554   8095.932828  24.640462   69.191944   \n",
       "613  0.426699  35.896418  496.994214   3085.308063  29.648928  124.808872   \n",
       "614  0.067730  19.962092  128.896894   6474.652866  26.166072  119.559420   \n",
       "615  0.670527  24.594488   72.611063   1965.343176  25.116750   37.155112   \n",
       "616  0.149006  13.673940   72.611063   6850.484442  45.745974  114.842372   \n",
       "\n",
       "            GL  Class  \n",
       "0     0.120343      1  \n",
       "1    21.978000      0  \n",
       "2     0.196941      0  \n",
       "3     0.155829      0  \n",
       "4     0.096614      1  \n",
       "..         ...    ...  \n",
       "612  21.978000      0  \n",
       "613   0.145340      0  \n",
       "614  21.978000      0  \n",
       "615   0.184622      0  \n",
       "616  21.978000      0  \n",
       "\n",
       "[617 rows x 58 columns]"
      ]
     },
     "execution_count": 3,
     "metadata": {},
     "output_type": "execute_result"
    }
   ],
   "source": [
    "train"
   ]
  },
  {
   "cell_type": "code",
   "execution_count": 4,
   "id": "ad9d2195",
   "metadata": {
    "execution": {
     "iopub.execute_input": "2023-07-24T22:19:38.095627Z",
     "iopub.status.busy": "2023-07-24T22:19:38.095224Z",
     "iopub.status.idle": "2023-07-24T22:19:38.103256Z",
     "shell.execute_reply": "2023-07-24T22:19:38.102249Z"
    },
    "papermill": {
     "duration": 0.019327,
     "end_time": "2023-07-24T22:19:38.105570",
     "exception": false,
     "start_time": "2023-07-24T22:19:38.086243",
     "status": "completed"
    },
    "tags": []
   },
   "outputs": [],
   "source": [
    "encoder = LabelEncoder()\n",
    "train.loc[:, 'EJ'] = encoder.fit_transform(train.loc[:, 'EJ'])\n",
    "test.loc[:, 'EJ'] = encoder.fit_transform(test.loc[:, 'EJ'])"
   ]
  },
  {
   "cell_type": "code",
   "execution_count": 5,
   "id": "7b39e780",
   "metadata": {
    "execution": {
     "iopub.execute_input": "2023-07-24T22:19:38.122126Z",
     "iopub.status.busy": "2023-07-24T22:19:38.121636Z",
     "iopub.status.idle": "2023-07-24T22:19:38.139314Z",
     "shell.execute_reply": "2023-07-24T22:19:38.138236Z"
    },
    "papermill": {
     "duration": 0.029183,
     "end_time": "2023-07-24T22:19:38.142027",
     "exception": false,
     "start_time": "2023-07-24T22:19:38.112844",
     "status": "completed"
    },
    "tags": []
   },
   "outputs": [],
   "source": [
    "# taken directly from https://www.kaggle.com/code/chensilin/icr-eda-lightgbm-xgboost-optuna/input\n",
    "seed = 617\n",
    "zero, one = np.bincount(train.loc[:, 'Class'])\n",
    "one_df = train.iloc[(train.loc[:, 'Class'] == 1).tolist(), :] \n",
    "zero_df = train.iloc[(train.loc[:, 'Class'] == 0).tolist(), :]\n",
    "zero_df = zero_df.sample(n=one, random_state=seed)\n",
    "oversampled_df = pd.concat([train.iloc[(train.loc[:, 'Class'] == 0).tolist(), :], one_df, one_df, one_df, one_df])\n",
    "oversampled_df = oversampled_df.sample(frac=1, random_state=seed)"
   ]
  },
  {
   "cell_type": "code",
   "execution_count": 6,
   "id": "0926636e",
   "metadata": {
    "execution": {
     "iopub.execute_input": "2023-07-24T22:19:38.159515Z",
     "iopub.status.busy": "2023-07-24T22:19:38.159122Z",
     "iopub.status.idle": "2023-07-24T22:19:38.167204Z",
     "shell.execute_reply": "2023-07-24T22:19:38.165989Z"
    },
    "papermill": {
     "duration": 0.02048,
     "end_time": "2023-07-24T22:19:38.169626",
     "exception": false,
     "start_time": "2023-07-24T22:19:38.149146",
     "status": "completed"
    },
    "tags": []
   },
   "outputs": [],
   "source": [
    "# taken directly from https://www.kaggle.com/code/chensilin/icr-eda-lightgbm-xgboost-optuna/input\n",
    "def balanced_log_loss(y_true, y_pred):\n",
    "    N_0 = np.sum(1 - y_true)\n",
    "    N_1 = np.sum(y_true)\n",
    "    w_0 = 1 / N_0\n",
    "    w_1 = 1 / N_1\n",
    "    p_1 = np.clip(y_pred[:, 1], 1e-15, 1-1e-15)\n",
    "    p_0 = 1 - p_1\n",
    "    log_loss_0 = -np.sum((1 - y_true) * np.log(p_0))\n",
    "    log_loss_1 = -np.sum(y_true * np.log(p_1))\n",
    "    balanced_log_loss = (w_0 * log_loss_0 + w_1 * log_loss_1) / 2\n",
    "    return balanced_log_loss"
   ]
  },
  {
   "cell_type": "code",
   "execution_count": 7,
   "id": "1e4b0b71",
   "metadata": {
    "execution": {
     "iopub.execute_input": "2023-07-24T22:19:38.185605Z",
     "iopub.status.busy": "2023-07-24T22:19:38.185216Z",
     "iopub.status.idle": "2023-07-24T22:19:38.194074Z",
     "shell.execute_reply": "2023-07-24T22:19:38.192935Z"
    },
    "papermill": {
     "duration": 0.019651,
     "end_time": "2023-07-24T22:19:38.196650",
     "exception": false,
     "start_time": "2023-07-24T22:19:38.176999",
     "status": "completed"
    },
    "tags": []
   },
   "outputs": [],
   "source": [
    "# taken directly from https://www.kaggle.com/code/chensilin/icr-eda-lightgbm-xgboost-optuna/input\n",
    "n_folds = 10\n",
    "def CV(model, data, loss_function):\n",
    "    skf = KFold(n_splits=n_folds, shuffle=True, random_state=seed)\n",
    "    kfold = skf.split(data.iloc[:,1:-1], data.iloc[:, -1])\n",
    "    losses = []\n",
    "    for (train_id, val_id) in kfold:\n",
    "        x_train = data.iloc[train_id, 1:-1]\n",
    "        y_train = data.iloc[train_id, -1]\n",
    "        x_val = data.iloc[val_id, 1:-1]\n",
    "        y_val = data.iloc[val_id, -1]\n",
    "        model.fit(x_train, y_train)\n",
    "        pred_val = model.predict_proba(x_val)\n",
    "        loss = loss_function(y_val, pred_val)\n",
    "        losses.append(loss)\n",
    "    return np.sum(losses) / n_folds"
   ]
  },
  {
   "cell_type": "code",
   "execution_count": 8,
   "id": "7eea3f3e",
   "metadata": {
    "execution": {
     "iopub.execute_input": "2023-07-24T22:19:38.212870Z",
     "iopub.status.busy": "2023-07-24T22:19:38.212439Z",
     "iopub.status.idle": "2023-07-24T22:19:38.221305Z",
     "shell.execute_reply": "2023-07-24T22:19:38.220354Z"
    },
    "papermill": {
     "duration": 0.01966,
     "end_time": "2023-07-24T22:19:38.223524",
     "exception": false,
     "start_time": "2023-07-24T22:19:38.203864",
     "status": "completed"
    },
    "tags": []
   },
   "outputs": [],
   "source": [
    "X_train = oversampled_df.drop(columns=['Class', 'Id'])\n",
    "y_train = oversampled_df['Class']"
   ]
  },
  {
   "cell_type": "code",
   "execution_count": 9,
   "id": "9fc431be",
   "metadata": {
    "execution": {
     "iopub.execute_input": "2023-07-24T22:19:38.239540Z",
     "iopub.status.busy": "2023-07-24T22:19:38.239102Z",
     "iopub.status.idle": "2023-07-24T22:19:38.247735Z",
     "shell.execute_reply": "2023-07-24T22:19:38.246821Z"
    },
    "papermill": {
     "duration": 0.019384,
     "end_time": "2023-07-24T22:19:38.249964",
     "exception": false,
     "start_time": "2023-07-24T22:19:38.230580",
     "status": "completed"
    },
    "tags": []
   },
   "outputs": [],
   "source": [
    "def objective3(trial):\n",
    "    param = {\n",
    "        'n_estimators': trial.suggest_int('n_estimators', 50, 150, 10),\n",
    "        'reg_lambda': trial.suggest_loguniform('lambda', 1e-3, 10.0),\n",
    "        'colsample_bylevel': trial.suggest_categorical('colsample_bylevel', [0.3, 0.4, 0.5, 0.6, 0.7, 0.8, 0.9, 1.0]),\n",
    "        'subsample': trial.suggest_categorical('subsample', [0.4, 0.5, 0.6, 0.7, 0.8, 1.0]),\n",
    "        'learning_rate': trial.suggest_float('learning_rate', 1e-4, 1e-1),\n",
    "        'max_depth': trial.suggest_int('max_depth', 3, 10),\n",
    "        'one_hot_max_size': trial.suggest_int('one_hot_max_size', 2, 10),\n",
    "    }\n",
    "    model = CatBoostClassifier(**param, random_seed=seed, verbose=False)\n",
    "    score = CV(model, oversampled_df, balanced_log_loss)\n",
    "    return score"
   ]
  },
  {
   "cell_type": "code",
   "execution_count": 10,
   "id": "072976ec",
   "metadata": {
    "execution": {
     "iopub.execute_input": "2023-07-24T22:19:38.265866Z",
     "iopub.status.busy": "2023-07-24T22:19:38.265447Z",
     "iopub.status.idle": "2023-07-24T22:19:38.273333Z",
     "shell.execute_reply": "2023-07-24T22:19:38.272067Z"
    },
    "papermill": {
     "duration": 0.018611,
     "end_time": "2023-07-24T22:19:38.275698",
     "exception": false,
     "start_time": "2023-07-24T22:19:38.257087",
     "status": "completed"
    },
    "tags": []
   },
   "outputs": [],
   "source": [
    "def objective4(trial):\n",
    "    param = {\n",
    "        'n_estimators': trial.suggest_int('n_estimators', 50, 200, 10),\n",
    "        'max_depth': trial.suggest_int('max_depth', 5, 30),\n",
    "        'min_samples_split': trial.suggest_int('min_samples_split', 2, 20),\n",
    "        'min_samples_leaf': trial.suggest_int('min_samples_leaf', 1, 20),\n",
    "        'max_features': trial.suggest_int('max_features', 1, 58),\n",
    "    }\n",
    "    model = ExtraTreesClassifier(**param, random_state=seed)\n",
    "    score = CV(model, oversampled_df, balanced_log_loss)\n",
    "    return score"
   ]
  },
  {
   "cell_type": "code",
   "execution_count": 11,
   "id": "e22d8038",
   "metadata": {
    "execution": {
     "iopub.execute_input": "2023-07-24T22:19:38.292085Z",
     "iopub.status.busy": "2023-07-24T22:19:38.291628Z",
     "iopub.status.idle": "2023-07-24T22:19:38.298872Z",
     "shell.execute_reply": "2023-07-24T22:19:38.297706Z"
    },
    "papermill": {
     "duration": 0.018303,
     "end_time": "2023-07-24T22:19:38.301218",
     "exception": false,
     "start_time": "2023-07-24T22:19:38.282915",
     "status": "completed"
    },
    "tags": []
   },
   "outputs": [],
   "source": [
    "def objective5(trial):\n",
    "    param = {\n",
    "        'learning_rate': trial.suggest_float('learning_rate', 0.0001, 1.0),\n",
    "        'max_depth': trial.suggest_int('max_depth', 3, 15),\n",
    "        'min_samples_leaf': trial.suggest_int('min_samples_leaf', 1, 20),\n",
    "        'max_iter': trial.suggest_int('max_iter', 50, 200, 10),\n",
    "    }\n",
    "    model = HistGradientBoostingClassifier(**param, random_state=seed)\n",
    "    score = CV(model, oversampled_df, balanced_log_loss)\n",
    "    return score"
   ]
  },
  {
   "cell_type": "code",
   "execution_count": 12,
   "id": "70c5495f",
   "metadata": {
    "execution": {
     "iopub.execute_input": "2023-07-24T22:19:38.317812Z",
     "iopub.status.busy": "2023-07-24T22:19:38.316999Z",
     "iopub.status.idle": "2023-07-24T22:19:38.321598Z",
     "shell.execute_reply": "2023-07-24T22:19:38.320756Z"
    },
    "papermill": {
     "duration": 0.015377,
     "end_time": "2023-07-24T22:19:38.323747",
     "exception": false,
     "start_time": "2023-07-24T22:19:38.308370",
     "status": "completed"
    },
    "tags": []
   },
   "outputs": [],
   "source": [
    "#start = time.time()\n",
    "\n",
    "#study1 = optuna.create_study(direction='minimize', study_name=\"RandomForestClassifier\")\n",
    "#n_trials = 100\n",
    "#study1.optimize(objective4, n_trials=n_trials)\n",
    "#print('Best trial:', study1.best_trial.params)\n",
    "#print('Best values:', study1.best_value)\n",
    "\n",
    "#end = time.time()\n",
    "#print('It has taken {:.5f} seconds to search for the best Hyperparameter'.format(end-start))"
   ]
  },
  {
   "cell_type": "code",
   "execution_count": 13,
   "id": "c9743157",
   "metadata": {
    "execution": {
     "iopub.execute_input": "2023-07-24T22:19:38.340364Z",
     "iopub.status.busy": "2023-07-24T22:19:38.339618Z",
     "iopub.status.idle": "2023-07-24T22:19:38.671727Z",
     "shell.execute_reply": "2023-07-24T22:19:38.670789Z"
    },
    "papermill": {
     "duration": 0.343397,
     "end_time": "2023-07-24T22:19:38.674436",
     "exception": false,
     "start_time": "2023-07-24T22:19:38.331039",
     "status": "completed"
    },
    "tags": []
   },
   "outputs": [],
   "source": [
    "xgb_model = xgb.XGBClassifier(n_estimators=200, reg_lambda=0.15325900166549988, reg_alpha=0.0044700650580230235, \n",
    "                              colsample_bytree=0.3, subsample=1.0, learning_rate=0.09975673376458177, \n",
    "                              max_depth=11, min_child_weight=2, random_state=seed).fit(X_train, y_train)\n",
    "xgb = xgb_model.predict_proba(test.iloc[:, 1:])"
   ]
  },
  {
   "cell_type": "code",
   "execution_count": 14,
   "id": "c8be050e",
   "metadata": {
    "execution": {
     "iopub.execute_input": "2023-07-24T22:19:38.691695Z",
     "iopub.status.busy": "2023-07-24T22:19:38.691237Z",
     "iopub.status.idle": "2023-07-24T22:19:39.880487Z",
     "shell.execute_reply": "2023-07-24T22:19:39.879326Z"
    },
    "papermill": {
     "duration": 1.20164,
     "end_time": "2023-07-24T22:19:39.884128",
     "exception": false,
     "start_time": "2023-07-24T22:19:38.682488",
     "status": "completed"
    },
    "tags": []
   },
   "outputs": [],
   "source": [
    "lgbm_model = lgb.LGBMClassifier(n_estimators=200, reg_alpha=0.0016725623110267532, reg_lambda=0.0038043774323061946, \n",
    "                                 colsample_bytree=0.3, subsample=0.4, learning_rate=0.09367295744238123, max_depth=11, \n",
    "                                 num_leaves=50, min_child_samples=26, random_state=seed).fit(X_train, y_train)\n",
    "lgbm = lgbm_model.predict_proba(test.iloc[:, 1:])"
   ]
  },
  {
   "cell_type": "code",
   "execution_count": 15,
   "id": "e8db3bcf",
   "metadata": {
    "execution": {
     "iopub.execute_input": "2023-07-24T22:19:39.900718Z",
     "iopub.status.busy": "2023-07-24T22:19:39.900308Z",
     "iopub.status.idle": "2023-07-24T22:19:42.234363Z",
     "shell.execute_reply": "2023-07-24T22:19:42.233320Z"
    },
    "papermill": {
     "duration": 2.345432,
     "end_time": "2023-07-24T22:19:42.236975",
     "exception": false,
     "start_time": "2023-07-24T22:19:39.891543",
     "status": "completed"
    },
    "tags": []
   },
   "outputs": [],
   "source": [
    "cat_model = CatBoostClassifier(n_estimators=70, reg_lambda=0.01606738047167, colsample_bylevel=0.3, \n",
    "                              subsample=0.7, learning_rate=0.0865881098465479, \n",
    "                              max_depth=9, one_hot_max_size=10, random_state=seed, verbose=False).fit(X_train, y_train)\n",
    "cat = cat_model.predict_proba(test.iloc[:, 1:])"
   ]
  },
  {
   "cell_type": "code",
   "execution_count": 16,
   "id": "018773e5",
   "metadata": {
    "execution": {
     "iopub.execute_input": "2023-07-24T22:19:42.254313Z",
     "iopub.status.busy": "2023-07-24T22:19:42.252943Z",
     "iopub.status.idle": "2023-07-24T22:19:42.935999Z",
     "shell.execute_reply": "2023-07-24T22:19:42.934590Z"
    },
    "papermill": {
     "duration": 0.695021,
     "end_time": "2023-07-24T22:19:42.939320",
     "exception": false,
     "start_time": "2023-07-24T22:19:42.244299",
     "status": "completed"
    },
    "tags": []
   },
   "outputs": [],
   "source": [
    "hgbc_model = HistGradientBoostingClassifier(max_iter=170, max_depth=4, min_samples_leaf=9,\n",
    "                                         learning_rate=0.17193627413211837, random_state=seed).fit(X_train, y_train)\n",
    "hgbc = hgbc_model.predict_proba(test.iloc[:, 1:])"
   ]
  },
  {
   "cell_type": "code",
   "execution_count": 17,
   "id": "af4a9d05",
   "metadata": {
    "execution": {
     "iopub.execute_input": "2023-07-24T22:19:42.956692Z",
     "iopub.status.busy": "2023-07-24T22:19:42.956077Z",
     "iopub.status.idle": "2023-07-24T22:19:42.979360Z",
     "shell.execute_reply": "2023-07-24T22:19:42.977850Z"
    },
    "papermill": {
     "duration": 0.034695,
     "end_time": "2023-07-24T22:19:42.982021",
     "exception": false,
     "start_time": "2023-07-24T22:19:42.947326",
     "status": "completed"
    },
    "tags": []
   },
   "outputs": [
    {
     "data": {
      "text/html": [
       "<div>\n",
       "<style scoped>\n",
       "    .dataframe tbody tr th:only-of-type {\n",
       "        vertical-align: middle;\n",
       "    }\n",
       "\n",
       "    .dataframe tbody tr th {\n",
       "        vertical-align: top;\n",
       "    }\n",
       "\n",
       "    .dataframe thead th {\n",
       "        text-align: right;\n",
       "    }\n",
       "</style>\n",
       "<table border=\"1\" class=\"dataframe\">\n",
       "  <thead>\n",
       "    <tr style=\"text-align: right;\">\n",
       "      <th></th>\n",
       "      <th>Id</th>\n",
       "      <th>class_0</th>\n",
       "      <th>class_1</th>\n",
       "    </tr>\n",
       "  </thead>\n",
       "  <tbody>\n",
       "    <tr>\n",
       "      <th>0</th>\n",
       "      <td>00eed32682bb</td>\n",
       "      <td>0.939503</td>\n",
       "      <td>0.060497</td>\n",
       "    </tr>\n",
       "    <tr>\n",
       "      <th>1</th>\n",
       "      <td>010ebe33f668</td>\n",
       "      <td>0.939503</td>\n",
       "      <td>0.060497</td>\n",
       "    </tr>\n",
       "    <tr>\n",
       "      <th>2</th>\n",
       "      <td>02fa521e1838</td>\n",
       "      <td>0.939503</td>\n",
       "      <td>0.060497</td>\n",
       "    </tr>\n",
       "    <tr>\n",
       "      <th>3</th>\n",
       "      <td>040e15f562a2</td>\n",
       "      <td>0.939503</td>\n",
       "      <td>0.060497</td>\n",
       "    </tr>\n",
       "    <tr>\n",
       "      <th>4</th>\n",
       "      <td>046e85c7cc7f</td>\n",
       "      <td>0.939503</td>\n",
       "      <td>0.060497</td>\n",
       "    </tr>\n",
       "  </tbody>\n",
       "</table>\n",
       "</div>"
      ],
      "text/plain": [
       "             Id   class_0   class_1\n",
       "0  00eed32682bb  0.939503  0.060497\n",
       "1  010ebe33f668  0.939503  0.060497\n",
       "2  02fa521e1838  0.939503  0.060497\n",
       "3  040e15f562a2  0.939503  0.060497\n",
       "4  046e85c7cc7f  0.939503  0.060497"
      ]
     },
     "execution_count": 17,
     "metadata": {},
     "output_type": "execute_result"
    }
   ],
   "source": [
    "final.iloc[:, 1] = (xgb[:, 0] + lgbm[:, 0]) / 2\n",
    "final.iloc[:, -1] = (xgb[:, 1] + lgbm[:, 1]) / 2\n",
    "final.to_csv('submission.csv', index=False)\n",
    "submission = pd.read_csv('submission.csv')\n",
    "submission"
   ]
  },
  {
   "cell_type": "code",
   "execution_count": null,
   "id": "07440a5a",
   "metadata": {
    "papermill": {
     "duration": 0.007481,
     "end_time": "2023-07-24T22:19:42.997852",
     "exception": false,
     "start_time": "2023-07-24T22:19:42.990371",
     "status": "completed"
    },
    "tags": []
   },
   "outputs": [],
   "source": []
  }
 ],
 "metadata": {
  "kernelspec": {
   "display_name": "Python 3",
   "language": "python",
   "name": "python3"
  },
  "language_info": {
   "codemirror_mode": {
    "name": "ipython",
    "version": 3
   },
   "file_extension": ".py",
   "mimetype": "text/x-python",
   "name": "python",
   "nbconvert_exporter": "python",
   "pygments_lexer": "ipython3",
   "version": "3.10.12"
  },
  "papermill": {
   "default_parameters": {},
   "duration": 24.267,
   "end_time": "2023-07-24T22:19:44.230602",
   "environment_variables": {},
   "exception": null,
   "input_path": "__notebook__.ipynb",
   "output_path": "__notebook__.ipynb",
   "parameters": {},
   "start_time": "2023-07-24T22:19:19.963602",
   "version": "2.4.0"
  }
 },
 "nbformat": 4,
 "nbformat_minor": 5
}
