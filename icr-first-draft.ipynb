{
 "cells": [
  {
   "cell_type": "code",
   "execution_count": 1,
   "id": "159ffe1d",
   "metadata": {
    "execution": {
     "iopub.execute_input": "2023-07-25T15:40:12.286594Z",
     "iopub.status.busy": "2023-07-25T15:40:12.285841Z",
     "iopub.status.idle": "2023-07-25T15:40:16.288962Z",
     "shell.execute_reply": "2023-07-25T15:40:16.288127Z"
    },
    "papermill": {
     "duration": 4.012512,
     "end_time": "2023-07-25T15:40:16.291372",
     "exception": false,
     "start_time": "2023-07-25T15:40:12.278860",
     "status": "completed"
    },
    "tags": []
   },
   "outputs": [],
   "source": [
    "import time\n",
    "import numpy as np\n",
    "import pandas as pd\n",
    "import warnings\n",
    "def ignore_warn(*args,**kwargs):\n",
    "    pass\n",
    "warnings.warn = ignore_warn\n",
    "import matplotlib\n",
    "import matplotlib.pyplot as plt\n",
    "import seaborn as sns\n",
    "import optuna\n",
    "from sklearn.preprocessing import LabelEncoder\n",
    "from sklearn.model_selection import cross_val_score, KFold\n",
    "from sklearn.metrics import f1_score\n",
    "import xgboost as xgboost\n",
    "import lightgbm as lgb\n",
    "from catboost import CatBoostClassifier\n",
    "from sklearn.ensemble import RandomForestClassifier, AdaBoostClassifier\n",
    "from sklearn.tree import DecisionTreeClassifier\n",
    "from sklearn.experimental import enable_hist_gradient_boosting  \n",
    "from sklearn.ensemble import HistGradientBoostingClassifier\n",
    "from sklearn.ensemble import ExtraTreesClassifier\n",
    "from sklearn.model_selection import cross_val_predict\n",
    "from sklearn.ensemble import StackingClassifier, VotingClassifier"
   ]
  },
  {
   "cell_type": "code",
   "execution_count": 2,
   "id": "22c930cb",
   "metadata": {
    "execution": {
     "iopub.execute_input": "2023-07-25T15:40:16.303370Z",
     "iopub.status.busy": "2023-07-25T15:40:16.302377Z",
     "iopub.status.idle": "2023-07-25T15:40:16.349999Z",
     "shell.execute_reply": "2023-07-25T15:40:16.348920Z"
    },
    "papermill": {
     "duration": 0.056127,
     "end_time": "2023-07-25T15:40:16.352602",
     "exception": false,
     "start_time": "2023-07-25T15:40:16.296475",
     "status": "completed"
    },
    "tags": []
   },
   "outputs": [],
   "source": [
    "train = pd.read_csv('/kaggle/input/icr-identify-age-related-conditions/train.csv')\n",
    "test = pd.read_csv('/kaggle/input/icr-identify-age-related-conditions/test.csv')\n",
    "final = pd.read_csv('/kaggle/input/icr-identify-age-related-conditions/sample_submission.csv')"
   ]
  },
  {
   "cell_type": "code",
   "execution_count": 3,
   "id": "10573222",
   "metadata": {
    "execution": {
     "iopub.execute_input": "2023-07-25T15:40:16.364339Z",
     "iopub.status.busy": "2023-07-25T15:40:16.363969Z",
     "iopub.status.idle": "2023-07-25T15:40:16.374093Z",
     "shell.execute_reply": "2023-07-25T15:40:16.373314Z"
    },
    "papermill": {
     "duration": 0.018428,
     "end_time": "2023-07-25T15:40:16.376027",
     "exception": false,
     "start_time": "2023-07-25T15:40:16.357599",
     "status": "completed"
    },
    "tags": []
   },
   "outputs": [],
   "source": [
    "encoder = LabelEncoder()\n",
    "train.loc[:, 'EJ'] = encoder.fit_transform(train.loc[:, 'EJ'])\n",
    "test.loc[:, 'EJ'] = encoder.fit_transform(test.loc[:, 'EJ'])"
   ]
  },
  {
   "cell_type": "code",
   "execution_count": 4,
   "id": "75513ba4",
   "metadata": {
    "execution": {
     "iopub.execute_input": "2023-07-25T15:40:16.387967Z",
     "iopub.status.busy": "2023-07-25T15:40:16.386857Z",
     "iopub.status.idle": "2023-07-25T15:40:16.405600Z",
     "shell.execute_reply": "2023-07-25T15:40:16.403925Z"
    },
    "papermill": {
     "duration": 0.027704,
     "end_time": "2023-07-25T15:40:16.408599",
     "exception": false,
     "start_time": "2023-07-25T15:40:16.380895",
     "status": "completed"
    },
    "tags": []
   },
   "outputs": [],
   "source": [
    "# taken directly from https://www.kaggle.com/code/chensilin/icr-eda-lightgbm-xgboost-optuna/input\n",
    "seed = 617\n",
    "zero, one = np.bincount(train.loc[:, 'Class'])\n",
    "one_df = train.iloc[(train.loc[:, 'Class'] == 1).tolist(), :] \n",
    "zero_df = train.iloc[(train.loc[:, 'Class'] == 0).tolist(), :]\n",
    "zero_df = zero_df.sample(n=one, random_state=seed)\n",
    "oversampled_df = pd.concat([train.iloc[(train.loc[:, 'Class'] == 0).tolist(), :], one_df, one_df, one_df, one_df])\n",
    "oversampled_df = oversampled_df.sample(frac=1, random_state=seed)"
   ]
  },
  {
   "cell_type": "code",
   "execution_count": 5,
   "id": "1a4fa81e",
   "metadata": {
    "execution": {
     "iopub.execute_input": "2023-07-25T15:40:16.420327Z",
     "iopub.status.busy": "2023-07-25T15:40:16.419957Z",
     "iopub.status.idle": "2023-07-25T15:40:16.426296Z",
     "shell.execute_reply": "2023-07-25T15:40:16.425196Z"
    },
    "papermill": {
     "duration": 0.014553,
     "end_time": "2023-07-25T15:40:16.428228",
     "exception": false,
     "start_time": "2023-07-25T15:40:16.413675",
     "status": "completed"
    },
    "tags": []
   },
   "outputs": [],
   "source": [
    "# taken directly from https://www.kaggle.com/code/chensilin/icr-eda-lightgbm-xgboost-optuna/input\n",
    "def balanced_log_loss(y_true, y_pred):\n",
    "    N_0 = np.sum(1 - y_true)\n",
    "    N_1 = np.sum(y_true)\n",
    "    w_0 = 1 / N_0\n",
    "    w_1 = 1 / N_1\n",
    "    p_1 = np.clip(y_pred[:, 1], 1e-15, 1-1e-15)\n",
    "    p_0 = 1 - p_1\n",
    "    log_loss_0 = -np.sum((1 - y_true) * np.log(p_0))\n",
    "    log_loss_1 = -np.sum(y_true * np.log(p_1))\n",
    "    balanced_log_loss = (w_0 * log_loss_0 + w_1 * log_loss_1) / 2\n",
    "    return balanced_log_loss"
   ]
  },
  {
   "cell_type": "code",
   "execution_count": 6,
   "id": "45e08103",
   "metadata": {
    "execution": {
     "iopub.execute_input": "2023-07-25T15:40:16.439861Z",
     "iopub.status.busy": "2023-07-25T15:40:16.439242Z",
     "iopub.status.idle": "2023-07-25T15:40:16.446477Z",
     "shell.execute_reply": "2023-07-25T15:40:16.445725Z"
    },
    "papermill": {
     "duration": 0.015536,
     "end_time": "2023-07-25T15:40:16.448567",
     "exception": false,
     "start_time": "2023-07-25T15:40:16.433031",
     "status": "completed"
    },
    "tags": []
   },
   "outputs": [],
   "source": [
    "# taken directly from https://www.kaggle.com/code/chensilin/icr-eda-lightgbm-xgboost-optuna/input\n",
    "n_folds = 10\n",
    "def CV(model, data, loss_function):\n",
    "    skf = KFold(n_splits=n_folds, shuffle=True, random_state=seed)\n",
    "    kfold = skf.split(data.iloc[:,1:-1], data.iloc[:, -1])\n",
    "    losses = []\n",
    "    for (train_id, val_id) in kfold:\n",
    "        x_train = data.iloc[train_id, 1:-1]\n",
    "        y_train = data.iloc[train_id, -1]\n",
    "        x_val = data.iloc[val_id, 1:-1]\n",
    "        y_val = data.iloc[val_id, -1]\n",
    "        model.fit(x_train, y_train)\n",
    "        pred_val = model.predict_proba(x_val)\n",
    "        loss = loss_function(y_val, pred_val)\n",
    "        losses.append(loss)\n",
    "    return np.sum(losses) / n_folds"
   ]
  },
  {
   "cell_type": "code",
   "execution_count": 7,
   "id": "ea27522a",
   "metadata": {
    "execution": {
     "iopub.execute_input": "2023-07-25T15:40:16.461888Z",
     "iopub.status.busy": "2023-07-25T15:40:16.461265Z",
     "iopub.status.idle": "2023-07-25T15:40:16.470317Z",
     "shell.execute_reply": "2023-07-25T15:40:16.469221Z"
    },
    "papermill": {
     "duration": 0.017743,
     "end_time": "2023-07-25T15:40:16.472744",
     "exception": false,
     "start_time": "2023-07-25T15:40:16.455001",
     "status": "completed"
    },
    "tags": []
   },
   "outputs": [],
   "source": [
    "X_train = oversampled_df.drop(columns=['Class', 'Id'])\n",
    "y_train = oversampled_df['Class']"
   ]
  },
  {
   "cell_type": "code",
   "execution_count": 8,
   "id": "411765d4",
   "metadata": {
    "execution": {
     "iopub.execute_input": "2023-07-25T15:40:16.484380Z",
     "iopub.status.busy": "2023-07-25T15:40:16.483761Z",
     "iopub.status.idle": "2023-07-25T15:40:16.490870Z",
     "shell.execute_reply": "2023-07-25T15:40:16.489822Z"
    },
    "papermill": {
     "duration": 0.015164,
     "end_time": "2023-07-25T15:40:16.492820",
     "exception": false,
     "start_time": "2023-07-25T15:40:16.477656",
     "status": "completed"
    },
    "tags": []
   },
   "outputs": [],
   "source": [
    "def xgb(trial):\n",
    "    param = {\n",
    "        'n_estimators': trial.suggest_int('n_estimators', 50, 200, 10),\n",
    "        'lambda': trial.suggest_loguniform('lambda', 1e-3, 10.0),\n",
    "        'alpha': trial.suggest_loguniform('alpha', 1e-3, 10.0),\n",
    "        'colsample_bytree': trial.suggest_categorical('colsample_bytree', [0.3, 0.4, 0.5, 0.6, 0.7, 0.8, 0.9, 1.0]),\n",
    "        'subsample': trial.suggest_categorical('subsample', [0.4, 0.5, 0.6, 0.7, 0.8, 1.0]),\n",
    "        'learning_rate': trial.suggest_float('learning_rate', 1e-5, 1e-1),\n",
    "        'max_depth': trial.suggest_int('max_depth', 3, 20),\n",
    "        'min_child_weight': trial.suggest_int('min_child_weight', 1, 50),\n",
    "    }\n",
    "    model = xgb.XGBClassifier(**param, random_state = seed)\n",
    "    score = CV(model, oversampled_df, balanced_log_loss)\n",
    "    return score"
   ]
  },
  {
   "cell_type": "code",
   "execution_count": 9,
   "id": "8be54a34",
   "metadata": {
    "execution": {
     "iopub.execute_input": "2023-07-25T15:40:16.504731Z",
     "iopub.status.busy": "2023-07-25T15:40:16.504075Z",
     "iopub.status.idle": "2023-07-25T15:40:16.510643Z",
     "shell.execute_reply": "2023-07-25T15:40:16.509881Z"
    },
    "papermill": {
     "duration": 0.014772,
     "end_time": "2023-07-25T15:40:16.512659",
     "exception": false,
     "start_time": "2023-07-25T15:40:16.497887",
     "status": "completed"
    },
    "tags": []
   },
   "outputs": [],
   "source": [
    "def lgbm(trial):\n",
    "    param = {\n",
    "        'n_estimators': trial.suggest_int('n_estimators', 50, 200, 10),\n",
    "        'reg_alpha': trial.suggest_loguniform('reg_alpha', 1e-3, 10.0),\n",
    "        'reg_lambda': trial.suggest_loguniform('reg_lambda', 1e-3, 10.0),\n",
    "        'colsample_bytree': trial.suggest_categorical('colsample_bytree', [0.3,0.4,0.5,0.6,0.7,0.8,0.9,1.0]),\n",
    "        'subsample': trial.suggest_categorical('subsample', [0.4,0.5,0.6,0.7,0.8,1.0]),\n",
    "        'learning_rate': trial.suggest_float('learning_rate', 1e-5, 1e-1),\n",
    "        'max_depth': trial.suggest_int('max_depth', 3, 20),\n",
    "        'num_leaves' : trial.suggest_int('num_leaves', 10, 50),\n",
    "        'min_child_samples': trial.suggest_int('min_child_samples', 1, 50),\n",
    "    }\n",
    "    model = lgb.LGBMClassifier(**param, random_state = seed)\n",
    "    score = CV(model, oversampled_df, balanced_log_loss)\n",
    "    return score"
   ]
  },
  {
   "cell_type": "code",
   "execution_count": 10,
   "id": "ad595cb8",
   "metadata": {
    "execution": {
     "iopub.execute_input": "2023-07-25T15:40:16.524842Z",
     "iopub.status.busy": "2023-07-25T15:40:16.523909Z",
     "iopub.status.idle": "2023-07-25T15:40:16.531088Z",
     "shell.execute_reply": "2023-07-25T15:40:16.530257Z"
    },
    "papermill": {
     "duration": 0.015556,
     "end_time": "2023-07-25T15:40:16.533199",
     "exception": false,
     "start_time": "2023-07-25T15:40:16.517643",
     "status": "completed"
    },
    "tags": []
   },
   "outputs": [],
   "source": [
    "def catboost(trial):\n",
    "    param = {\n",
    "        'n_estimators': trial.suggest_int('n_estimators', 50, 150, 10),\n",
    "        'reg_lambda': trial.suggest_loguniform('lambda', 1e-3, 10.0),\n",
    "        'colsample_bylevel': trial.suggest_categorical('colsample_bylevel', [0.3, 0.4, 0.5, 0.6, 0.7, 0.8, 0.9, 1.0]),\n",
    "        'subsample': trial.suggest_categorical('subsample', [0.4, 0.5, 0.6, 0.7, 0.8, 1.0]),\n",
    "        'learning_rate': trial.suggest_float('learning_rate', 1e-4, 1e-1),\n",
    "        'max_depth': trial.suggest_int('max_depth', 3, 10),\n",
    "        'one_hot_max_size': trial.suggest_int('one_hot_max_size', 2, 10),\n",
    "    }\n",
    "    model = CatBoostClassifier(**param, random_seed=seed, verbose=False)\n",
    "    score = CV(model, oversampled_df, balanced_log_loss)\n",
    "    return score"
   ]
  },
  {
   "cell_type": "code",
   "execution_count": 11,
   "id": "4d133586",
   "metadata": {
    "execution": {
     "iopub.execute_input": "2023-07-25T15:40:16.545765Z",
     "iopub.status.busy": "2023-07-25T15:40:16.545000Z",
     "iopub.status.idle": "2023-07-25T15:40:16.551235Z",
     "shell.execute_reply": "2023-07-25T15:40:16.550499Z"
    },
    "papermill": {
     "duration": 0.015096,
     "end_time": "2023-07-25T15:40:16.553427",
     "exception": false,
     "start_time": "2023-07-25T15:40:16.538331",
     "status": "completed"
    },
    "tags": []
   },
   "outputs": [],
   "source": [
    "def hgbc(trial):\n",
    "    param = {\n",
    "        'learning_rate': trial.suggest_float('learning_rate', 0.0001, 1.0),\n",
    "        'max_depth': trial.suggest_int('max_depth', 3, 15),\n",
    "        'min_samples_leaf': trial.suggest_int('min_samples_leaf', 1, 20),\n",
    "        'max_iter': trial.suggest_int('max_iter', 50, 200, 10),\n",
    "    }\n",
    "    model = HistGradientBoostingClassifier(**param, random_state=seed)\n",
    "    score = CV(model, oversampled_df, balanced_log_loss)\n",
    "    return score"
   ]
  },
  {
   "cell_type": "code",
   "execution_count": 12,
   "id": "5fe2cd8d",
   "metadata": {
    "execution": {
     "iopub.execute_input": "2023-07-25T15:40:16.565397Z",
     "iopub.status.busy": "2023-07-25T15:40:16.564695Z",
     "iopub.status.idle": "2023-07-25T15:40:16.569295Z",
     "shell.execute_reply": "2023-07-25T15:40:16.568542Z"
    },
    "papermill": {
     "duration": 0.013009,
     "end_time": "2023-07-25T15:40:16.571381",
     "exception": false,
     "start_time": "2023-07-25T15:40:16.558372",
     "status": "completed"
    },
    "tags": []
   },
   "outputs": [],
   "source": [
    "#start = time.time()\n",
    "\n",
    "#study1 = optuna.create_study(direction='minimize', study_name=\"CatBoost Stacking\")\n",
    "#n_trials = 25\n",
    "#study1.optimize(catboost_meta, n_trials=n_trials)\n",
    "#print('Best trial:', study1.best_trial.params)\n",
    "#print('Best values:', study1.best_value)\n",
    "\n",
    "#end = time.time()\n",
    "#print('It has taken {:.5f} seconds to search for the best Hyperparameter'.format(end-start))"
   ]
  },
  {
   "cell_type": "code",
   "execution_count": 13,
   "id": "374340eb",
   "metadata": {
    "execution": {
     "iopub.execute_input": "2023-07-25T15:40:16.583593Z",
     "iopub.status.busy": "2023-07-25T15:40:16.582819Z",
     "iopub.status.idle": "2023-07-25T15:40:16.883506Z",
     "shell.execute_reply": "2023-07-25T15:40:16.882622Z"
    },
    "papermill": {
     "duration": 0.309589,
     "end_time": "2023-07-25T15:40:16.886018",
     "exception": false,
     "start_time": "2023-07-25T15:40:16.576429",
     "status": "completed"
    },
    "tags": []
   },
   "outputs": [],
   "source": [
    "xgb_model = xgboost.XGBClassifier(n_estimators=200, reg_lambda=0.15325900166549988, reg_alpha=0.0044700650580230235, \n",
    "                              colsample_bytree=0.3, subsample=1.0, learning_rate=0.09975673376458177, \n",
    "                              max_depth=11, min_child_weight=2, random_state=seed).fit(X_train, y_train)\n",
    "xgb = xgb_model.predict_proba(test.iloc[:, 1:])"
   ]
  },
  {
   "cell_type": "code",
   "execution_count": 14,
   "id": "8e799cbc",
   "metadata": {
    "execution": {
     "iopub.execute_input": "2023-07-25T15:40:16.898943Z",
     "iopub.status.busy": "2023-07-25T15:40:16.898214Z",
     "iopub.status.idle": "2023-07-25T15:40:17.861352Z",
     "shell.execute_reply": "2023-07-25T15:40:17.860458Z"
    },
    "papermill": {
     "duration": 0.97235,
     "end_time": "2023-07-25T15:40:17.864118",
     "exception": false,
     "start_time": "2023-07-25T15:40:16.891768",
     "status": "completed"
    },
    "tags": []
   },
   "outputs": [],
   "source": [
    "lgbm_model = lgb.LGBMClassifier(n_estimators=200, reg_alpha=0.0016725623110267532, reg_lambda=0.0038043774323061946, \n",
    "                                 colsample_bytree=0.3, subsample=0.4, learning_rate=0.09367295744238123, max_depth=11, \n",
    "                                 num_leaves=50, min_child_samples=26, random_state=seed).fit(X_train, y_train)\n",
    "lgbm = lgbm_model.predict_proba(test.iloc[:, 1:])"
   ]
  },
  {
   "cell_type": "code",
   "execution_count": 15,
   "id": "edc7e50e",
   "metadata": {
    "execution": {
     "iopub.execute_input": "2023-07-25T15:40:17.876204Z",
     "iopub.status.busy": "2023-07-25T15:40:17.875841Z",
     "iopub.status.idle": "2023-07-25T15:40:20.279655Z",
     "shell.execute_reply": "2023-07-25T15:40:20.278826Z"
    },
    "papermill": {
     "duration": 2.412649,
     "end_time": "2023-07-25T15:40:20.281959",
     "exception": false,
     "start_time": "2023-07-25T15:40:17.869310",
     "status": "completed"
    },
    "tags": []
   },
   "outputs": [],
   "source": [
    "cat_model = CatBoostClassifier(n_estimators=70, reg_lambda=0.01606738047167, colsample_bylevel=0.3, \n",
    "                              subsample=0.7, learning_rate=0.0865881098465479, \n",
    "                              max_depth=9, one_hot_max_size=10, random_state=seed, verbose=False).fit(X_train, y_train)\n",
    "cat = cat_model.predict_proba(test.iloc[:, 1:])"
   ]
  },
  {
   "cell_type": "code",
   "execution_count": 16,
   "id": "f8725349",
   "metadata": {
    "execution": {
     "iopub.execute_input": "2023-07-25T15:40:20.294327Z",
     "iopub.status.busy": "2023-07-25T15:40:20.293706Z",
     "iopub.status.idle": "2023-07-25T15:40:20.906303Z",
     "shell.execute_reply": "2023-07-25T15:40:20.905502Z"
    },
    "papermill": {
     "duration": 0.621278,
     "end_time": "2023-07-25T15:40:20.908737",
     "exception": false,
     "start_time": "2023-07-25T15:40:20.287459",
     "status": "completed"
    },
    "tags": []
   },
   "outputs": [],
   "source": [
    "hgbc_model = HistGradientBoostingClassifier(max_iter=170, max_depth=4, min_samples_leaf=9,\n",
    "                                         learning_rate=0.17193627413211837, random_state=seed).fit(X_train, y_train)\n",
    "hgbc = hgbc_model.predict_proba(test.iloc[:, 1:])"
   ]
  },
  {
   "cell_type": "code",
   "execution_count": 17,
   "id": "de598a35",
   "metadata": {
    "execution": {
     "iopub.execute_input": "2023-07-25T15:40:20.920848Z",
     "iopub.status.busy": "2023-07-25T15:40:20.920207Z",
     "iopub.status.idle": "2023-07-25T15:40:20.927826Z",
     "shell.execute_reply": "2023-07-25T15:40:20.926856Z"
    },
    "papermill": {
     "duration": 0.016222,
     "end_time": "2023-07-25T15:40:20.930053",
     "exception": false,
     "start_time": "2023-07-25T15:40:20.913831",
     "status": "completed"
    },
    "tags": []
   },
   "outputs": [],
   "source": [
    "def catboost_meta(trial):\n",
    "    param = {\n",
    "        'n_estimators': trial.suggest_int('n_estimators', 50, 150, 10),\n",
    "        'reg_lambda': trial.suggest_loguniform('lambda', 1e-3, 0.1),\n",
    "        'colsample_bylevel': trial.suggest_categorical('colsample_bylevel', [0.3, 0.4, 0.5, 0.6, 0.7, 0.8, 0.9, 1.0]),\n",
    "        'subsample': trial.suggest_categorical('subsample', [0.4, 0.5, 0.6, 0.7, 0.8, 1.0]),\n",
    "        'learning_rate': trial.suggest_float('learning_rate', 1e-3, 1e-1),\n",
    "        'max_depth': trial.suggest_int('max_depth', 3, 10),\n",
    "        'one_hot_max_size': trial.suggest_int('one_hot_max_size', 2, 10),\n",
    "    }\n",
    "    model = StackingClassifier(\n",
    "        estimators=[(\"catboost\", cat_model), (\"hist_gradient_boosting\", hgbc_model),\n",
    "                    (\"lgbm\", lgbm_model), (\"xgboost\", xgb_model)],\n",
    "        final_estimator=CatBoostClassifier(**param, random_state=seed, verbose=False)\n",
    "    )\n",
    "    score = CV(model, oversampled_df, balanced_log_loss)\n",
    "    return score"
   ]
  },
  {
   "cell_type": "code",
   "execution_count": 18,
   "id": "426727e3",
   "metadata": {
    "execution": {
     "iopub.execute_input": "2023-07-25T15:40:20.942091Z",
     "iopub.status.busy": "2023-07-25T15:40:20.941724Z",
     "iopub.status.idle": "2023-07-25T15:40:20.949184Z",
     "shell.execute_reply": "2023-07-25T15:40:20.948155Z"
    },
    "papermill": {
     "duration": 0.016457,
     "end_time": "2023-07-25T15:40:20.951540",
     "exception": false,
     "start_time": "2023-07-25T15:40:20.935083",
     "status": "completed"
    },
    "tags": []
   },
   "outputs": [],
   "source": [
    "def xgb_meta(trial):\n",
    "    param = {\n",
    "        'n_estimators': trial.suggest_int('n_estimators', 50, 200, 10),\n",
    "        'lambda': trial.suggest_loguniform('lambda', 1e-3, 0.1),\n",
    "        'alpha': trial.suggest_loguniform('alpha', 1e-3, 0.1),\n",
    "        'colsample_bytree': trial.suggest_categorical('colsample_bytree', [0.3, 0.4, 0.5, 0.6, 0.7, 0.8, 0.9, 1.0]),\n",
    "        'subsample': trial.suggest_categorical('subsample', [0.4, 0.5, 0.6, 0.7, 0.8, 1.0]),\n",
    "        'learning_rate': trial.suggest_float('learning_rate', 1e-4, 1e-1),\n",
    "        'max_depth': trial.suggest_int('max_depth', 3, 20),\n",
    "        'min_child_weight': trial.suggest_int('min_child_weight', 1, 50),\n",
    "    }\n",
    "    model = StackingClassifier(\n",
    "        estimators=[(\"catboost\", cat_model), (\"hist_gradient_boosting\", hgbc_model),\n",
    "                    (\"lgbm\", lgbm_model), (\"xgboost\", xgb_model)],\n",
    "        final_estimator=xgboost.XGBClassifier(**param, random_state=seed, verbose=False)\n",
    "    )\n",
    "    score = CV(model, oversampled_df, balanced_log_loss)\n",
    "    return score\n"
   ]
  },
  {
   "cell_type": "code",
   "execution_count": 19,
   "id": "7227026e",
   "metadata": {
    "execution": {
     "iopub.execute_input": "2023-07-25T15:40:20.963681Z",
     "iopub.status.busy": "2023-07-25T15:40:20.963276Z",
     "iopub.status.idle": "2023-07-25T15:40:20.984689Z",
     "shell.execute_reply": "2023-07-25T15:40:20.983514Z"
    },
    "papermill": {
     "duration": 0.030494,
     "end_time": "2023-07-25T15:40:20.987167",
     "exception": false,
     "start_time": "2023-07-25T15:40:20.956673",
     "status": "completed"
    },
    "tags": []
   },
   "outputs": [
    {
     "data": {
      "text/html": [
       "<div>\n",
       "<style scoped>\n",
       "    .dataframe tbody tr th:only-of-type {\n",
       "        vertical-align: middle;\n",
       "    }\n",
       "\n",
       "    .dataframe tbody tr th {\n",
       "        vertical-align: top;\n",
       "    }\n",
       "\n",
       "    .dataframe thead th {\n",
       "        text-align: right;\n",
       "    }\n",
       "</style>\n",
       "<table border=\"1\" class=\"dataframe\">\n",
       "  <thead>\n",
       "    <tr style=\"text-align: right;\">\n",
       "      <th></th>\n",
       "      <th>Id</th>\n",
       "      <th>class_0</th>\n",
       "      <th>class_1</th>\n",
       "    </tr>\n",
       "  </thead>\n",
       "  <tbody>\n",
       "    <tr>\n",
       "      <th>0</th>\n",
       "      <td>00eed32682bb</td>\n",
       "      <td>0.964072</td>\n",
       "      <td>0.035928</td>\n",
       "    </tr>\n",
       "    <tr>\n",
       "      <th>1</th>\n",
       "      <td>010ebe33f668</td>\n",
       "      <td>0.964072</td>\n",
       "      <td>0.035928</td>\n",
       "    </tr>\n",
       "    <tr>\n",
       "      <th>2</th>\n",
       "      <td>02fa521e1838</td>\n",
       "      <td>0.964072</td>\n",
       "      <td>0.035928</td>\n",
       "    </tr>\n",
       "    <tr>\n",
       "      <th>3</th>\n",
       "      <td>040e15f562a2</td>\n",
       "      <td>0.964072</td>\n",
       "      <td>0.035928</td>\n",
       "    </tr>\n",
       "    <tr>\n",
       "      <th>4</th>\n",
       "      <td>046e85c7cc7f</td>\n",
       "      <td>0.964072</td>\n",
       "      <td>0.035928</td>\n",
       "    </tr>\n",
       "  </tbody>\n",
       "</table>\n",
       "</div>"
      ],
      "text/plain": [
       "             Id   class_0   class_1\n",
       "0  00eed32682bb  0.964072  0.035928\n",
       "1  010ebe33f668  0.964072  0.035928\n",
       "2  02fa521e1838  0.964072  0.035928\n",
       "3  040e15f562a2  0.964072  0.035928\n",
       "4  046e85c7cc7f  0.964072  0.035928"
      ]
     },
     "execution_count": 19,
     "metadata": {},
     "output_type": "execute_result"
    }
   ],
   "source": [
    "final.iloc[:, 1] = (xgb[:, 0] + lgbm[:, 0] + hgbc[:, 0] + cat[:, 0]) / 4\n",
    "final.iloc[:, -1] = (xgb[:, 1] + lgbm[:, 1] + hgbc[:, 1] + cat[:, 1]) / 4\n",
    "final.to_csv('submission.csv', index=False)\n",
    "submission = pd.read_csv('submission.csv')\n",
    "submission"
   ]
  },
  {
   "cell_type": "code",
   "execution_count": null,
   "id": "869cf52b",
   "metadata": {
    "papermill": {
     "duration": 0.004742,
     "end_time": "2023-07-25T15:40:20.997017",
     "exception": false,
     "start_time": "2023-07-25T15:40:20.992275",
     "status": "completed"
    },
    "tags": []
   },
   "outputs": [],
   "source": []
  }
 ],
 "metadata": {
  "kernelspec": {
   "display_name": "Python 3",
   "language": "python",
   "name": "python3"
  },
  "language_info": {
   "codemirror_mode": {
    "name": "ipython",
    "version": 3
   },
   "file_extension": ".py",
   "mimetype": "text/x-python",
   "name": "python",
   "nbconvert_exporter": "python",
   "pygments_lexer": "ipython3",
   "version": "3.10.12"
  },
  "papermill": {
   "default_parameters": {},
   "duration": 18.855142,
   "end_time": "2023-07-25T15:40:22.122976",
   "environment_variables": {},
   "exception": null,
   "input_path": "__notebook__.ipynb",
   "output_path": "__notebook__.ipynb",
   "parameters": {},
   "start_time": "2023-07-25T15:40:03.267834",
   "version": "2.4.0"
  }
 },
 "nbformat": 4,
 "nbformat_minor": 5
}
