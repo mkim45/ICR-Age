{
 "cells": [
  {
   "cell_type": "code",
   "execution_count": 1,
   "id": "ebd8b61b",
   "metadata": {
    "execution": {
     "iopub.execute_input": "2023-07-25T15:41:12.176666Z",
     "iopub.status.busy": "2023-07-25T15:41:12.176254Z",
     "iopub.status.idle": "2023-07-25T15:41:17.296334Z",
     "shell.execute_reply": "2023-07-25T15:41:17.294885Z"
    },
    "papermill": {
     "duration": 5.133457,
     "end_time": "2023-07-25T15:41:17.299411",
     "exception": false,
     "start_time": "2023-07-25T15:41:12.165954",
     "status": "completed"
    },
    "tags": []
   },
   "outputs": [],
   "source": [
    "import time\n",
    "import numpy as np\n",
    "import pandas as pd\n",
    "import warnings\n",
    "def ignore_warn(*args,**kwargs):\n",
    "    pass\n",
    "warnings.warn = ignore_warn\n",
    "import matplotlib\n",
    "import matplotlib.pyplot as plt\n",
    "import seaborn as sns\n",
    "import optuna\n",
    "from sklearn.preprocessing import LabelEncoder\n",
    "from sklearn.model_selection import cross_val_score, KFold\n",
    "from sklearn.metrics import f1_score\n",
    "import xgboost as xgboost\n",
    "import lightgbm as lgb\n",
    "from catboost import CatBoostClassifier\n",
    "from sklearn.ensemble import RandomForestClassifier, AdaBoostClassifier\n",
    "from sklearn.tree import DecisionTreeClassifier\n",
    "from sklearn.experimental import enable_hist_gradient_boosting  \n",
    "from sklearn.ensemble import HistGradientBoostingClassifier\n",
    "from sklearn.ensemble import ExtraTreesClassifier\n",
    "from sklearn.model_selection import cross_val_predict\n",
    "from sklearn.ensemble import StackingClassifier, VotingClassifier"
   ]
  },
  {
   "cell_type": "code",
   "execution_count": 2,
   "id": "b58187cc",
   "metadata": {
    "execution": {
     "iopub.execute_input": "2023-07-25T15:41:17.317007Z",
     "iopub.status.busy": "2023-07-25T15:41:17.316572Z",
     "iopub.status.idle": "2023-07-25T15:41:17.376936Z",
     "shell.execute_reply": "2023-07-25T15:41:17.375754Z"
    },
    "papermill": {
     "duration": 0.072668,
     "end_time": "2023-07-25T15:41:17.379977",
     "exception": false,
     "start_time": "2023-07-25T15:41:17.307309",
     "status": "completed"
    },
    "tags": []
   },
   "outputs": [],
   "source": [
    "train = pd.read_csv('/kaggle/input/icr-identify-age-related-conditions/train.csv')\n",
    "test = pd.read_csv('/kaggle/input/icr-identify-age-related-conditions/test.csv')\n",
    "final = pd.read_csv('/kaggle/input/icr-identify-age-related-conditions/sample_submission.csv')"
   ]
  },
  {
   "cell_type": "code",
   "execution_count": 3,
   "id": "37cab94e",
   "metadata": {
    "execution": {
     "iopub.execute_input": "2023-07-25T15:41:17.397990Z",
     "iopub.status.busy": "2023-07-25T15:41:17.397588Z",
     "iopub.status.idle": "2023-07-25T15:41:17.411299Z",
     "shell.execute_reply": "2023-07-25T15:41:17.409977Z"
    },
    "papermill": {
     "duration": 0.026172,
     "end_time": "2023-07-25T15:41:17.414281",
     "exception": false,
     "start_time": "2023-07-25T15:41:17.388109",
     "status": "completed"
    },
    "tags": []
   },
   "outputs": [],
   "source": [
    "encoder = LabelEncoder()\n",
    "train.loc[:, 'EJ'] = encoder.fit_transform(train.loc[:, 'EJ'])\n",
    "test.loc[:, 'EJ'] = encoder.fit_transform(test.loc[:, 'EJ'])"
   ]
  },
  {
   "cell_type": "code",
   "execution_count": 4,
   "id": "b0cb6822",
   "metadata": {
    "execution": {
     "iopub.execute_input": "2023-07-25T15:41:17.432736Z",
     "iopub.status.busy": "2023-07-25T15:41:17.432314Z",
     "iopub.status.idle": "2023-07-25T15:41:17.454246Z",
     "shell.execute_reply": "2023-07-25T15:41:17.453277Z"
    },
    "papermill": {
     "duration": 0.035198,
     "end_time": "2023-07-25T15:41:17.457140",
     "exception": false,
     "start_time": "2023-07-25T15:41:17.421942",
     "status": "completed"
    },
    "tags": []
   },
   "outputs": [],
   "source": [
    "# taken directly from https://www.kaggle.com/code/chensilin/icr-eda-lightgbm-xgboost-optuna/input\n",
    "seed = 617\n",
    "zero, one = np.bincount(train.loc[:, 'Class'])\n",
    "one_df = train.iloc[(train.loc[:, 'Class'] == 1).tolist(), :] \n",
    "zero_df = train.iloc[(train.loc[:, 'Class'] == 0).tolist(), :]\n",
    "zero_df = zero_df.sample(n=one, random_state=seed)\n",
    "oversampled_df = pd.concat([train.iloc[(train.loc[:, 'Class'] == 0).tolist(), :], one_df, one_df, one_df, one_df])\n",
    "oversampled_df = oversampled_df.sample(frac=1, random_state=seed)"
   ]
  },
  {
   "cell_type": "code",
   "execution_count": 5,
   "id": "e76d6962",
   "metadata": {
    "execution": {
     "iopub.execute_input": "2023-07-25T15:41:17.475919Z",
     "iopub.status.busy": "2023-07-25T15:41:17.475530Z",
     "iopub.status.idle": "2023-07-25T15:41:17.483387Z",
     "shell.execute_reply": "2023-07-25T15:41:17.481820Z"
    },
    "papermill": {
     "duration": 0.021589,
     "end_time": "2023-07-25T15:41:17.486600",
     "exception": false,
     "start_time": "2023-07-25T15:41:17.465011",
     "status": "completed"
    },
    "tags": []
   },
   "outputs": [],
   "source": [
    "# taken directly from https://www.kaggle.com/code/chensilin/icr-eda-lightgbm-xgboost-optuna/input\n",
    "def balanced_log_loss(y_true, y_pred):\n",
    "    N_0 = np.sum(1 - y_true)\n",
    "    N_1 = np.sum(y_true)\n",
    "    w_0 = 1 / N_0\n",
    "    w_1 = 1 / N_1\n",
    "    p_1 = np.clip(y_pred[:, 1], 1e-15, 1-1e-15)\n",
    "    p_0 = 1 - p_1\n",
    "    log_loss_0 = -np.sum((1 - y_true) * np.log(p_0))\n",
    "    log_loss_1 = -np.sum(y_true * np.log(p_1))\n",
    "    balanced_log_loss = (w_0 * log_loss_0 + w_1 * log_loss_1) / 2\n",
    "    return balanced_log_loss"
   ]
  },
  {
   "cell_type": "code",
   "execution_count": 6,
   "id": "6249ea76",
   "metadata": {
    "execution": {
     "iopub.execute_input": "2023-07-25T15:41:17.505689Z",
     "iopub.status.busy": "2023-07-25T15:41:17.505243Z",
     "iopub.status.idle": "2023-07-25T15:41:17.515038Z",
     "shell.execute_reply": "2023-07-25T15:41:17.513477Z"
    },
    "papermill": {
     "duration": 0.024743,
     "end_time": "2023-07-25T15:41:17.518876",
     "exception": false,
     "start_time": "2023-07-25T15:41:17.494133",
     "status": "completed"
    },
    "tags": []
   },
   "outputs": [],
   "source": [
    "# taken directly from https://www.kaggle.com/code/chensilin/icr-eda-lightgbm-xgboost-optuna/input\n",
    "n_folds = 10\n",
    "def CV(model, data, loss_function):\n",
    "    skf = KFold(n_splits=n_folds, shuffle=True, random_state=seed)\n",
    "    kfold = skf.split(data.iloc[:,1:-1], data.iloc[:, -1])\n",
    "    losses = []\n",
    "    for (train_id, val_id) in kfold:\n",
    "        x_train = data.iloc[train_id, 1:-1]\n",
    "        y_train = data.iloc[train_id, -1]\n",
    "        x_val = data.iloc[val_id, 1:-1]\n",
    "        y_val = data.iloc[val_id, -1]\n",
    "        model.fit(x_train, y_train)\n",
    "        pred_val = model.predict_proba(x_val)\n",
    "        loss = loss_function(y_val, pred_val)\n",
    "        losses.append(loss)\n",
    "    return np.sum(losses) / n_folds"
   ]
  },
  {
   "cell_type": "code",
   "execution_count": 7,
   "id": "e4d78f16",
   "metadata": {
    "execution": {
     "iopub.execute_input": "2023-07-25T15:41:17.539518Z",
     "iopub.status.busy": "2023-07-25T15:41:17.538922Z",
     "iopub.status.idle": "2023-07-25T15:41:17.551979Z",
     "shell.execute_reply": "2023-07-25T15:41:17.550439Z"
    },
    "papermill": {
     "duration": 0.028836,
     "end_time": "2023-07-25T15:41:17.556003",
     "exception": false,
     "start_time": "2023-07-25T15:41:17.527167",
     "status": "completed"
    },
    "tags": []
   },
   "outputs": [],
   "source": [
    "X_train = oversampled_df.drop(columns=['Class', 'Id'])\n",
    "y_train = oversampled_df['Class']"
   ]
  },
  {
   "cell_type": "code",
   "execution_count": 8,
   "id": "8ec74da8",
   "metadata": {
    "execution": {
     "iopub.execute_input": "2023-07-25T15:41:17.577223Z",
     "iopub.status.busy": "2023-07-25T15:41:17.576339Z",
     "iopub.status.idle": "2023-07-25T15:41:17.588730Z",
     "shell.execute_reply": "2023-07-25T15:41:17.586979Z"
    },
    "papermill": {
     "duration": 0.026325,
     "end_time": "2023-07-25T15:41:17.591935",
     "exception": false,
     "start_time": "2023-07-25T15:41:17.565610",
     "status": "completed"
    },
    "tags": []
   },
   "outputs": [],
   "source": [
    "def xgb(trial):\n",
    "    param = {\n",
    "        'n_estimators': trial.suggest_int('n_estimators', 50, 200, 10),\n",
    "        'lambda': trial.suggest_loguniform('lambda', 1e-3, 10.0),\n",
    "        'alpha': trial.suggest_loguniform('alpha', 1e-3, 10.0),\n",
    "        'colsample_bytree': trial.suggest_categorical('colsample_bytree', [0.3, 0.4, 0.5, 0.6, 0.7, 0.8, 0.9, 1.0]),\n",
    "        'subsample': trial.suggest_categorical('subsample', [0.4, 0.5, 0.6, 0.7, 0.8, 1.0]),\n",
    "        'learning_rate': trial.suggest_float('learning_rate', 1e-5, 1e-1),\n",
    "        'max_depth': trial.suggest_int('max_depth', 3, 20),\n",
    "        'min_child_weight': trial.suggest_int('min_child_weight', 1, 50),\n",
    "    }\n",
    "    model = xgb.XGBClassifier(**param, random_state = seed)\n",
    "    score = CV(model, oversampled_df, balanced_log_loss)\n",
    "    return score"
   ]
  },
  {
   "cell_type": "code",
   "execution_count": 9,
   "id": "c717e8af",
   "metadata": {
    "execution": {
     "iopub.execute_input": "2023-07-25T15:41:17.610094Z",
     "iopub.status.busy": "2023-07-25T15:41:17.609652Z",
     "iopub.status.idle": "2023-07-25T15:41:17.619737Z",
     "shell.execute_reply": "2023-07-25T15:41:17.618391Z"
    },
    "papermill": {
     "duration": 0.022606,
     "end_time": "2023-07-25T15:41:17.622813",
     "exception": false,
     "start_time": "2023-07-25T15:41:17.600207",
     "status": "completed"
    },
    "tags": []
   },
   "outputs": [],
   "source": [
    "def lgbm(trial):\n",
    "    param = {\n",
    "        'n_estimators': trial.suggest_int('n_estimators', 50, 200, 10),\n",
    "        'reg_alpha': trial.suggest_loguniform('reg_alpha', 1e-3, 10.0),\n",
    "        'reg_lambda': trial.suggest_loguniform('reg_lambda', 1e-3, 10.0),\n",
    "        'colsample_bytree': trial.suggest_categorical('colsample_bytree', [0.3,0.4,0.5,0.6,0.7,0.8,0.9,1.0]),\n",
    "        'subsample': trial.suggest_categorical('subsample', [0.4,0.5,0.6,0.7,0.8,1.0]),\n",
    "        'learning_rate': trial.suggest_float('learning_rate', 1e-5, 1e-1),\n",
    "        'max_depth': trial.suggest_int('max_depth', 3, 20),\n",
    "        'num_leaves' : trial.suggest_int('num_leaves', 10, 50),\n",
    "        'min_child_samples': trial.suggest_int('min_child_samples', 1, 50),\n",
    "    }\n",
    "    model = lgb.LGBMClassifier(**param, random_state = seed)\n",
    "    score = CV(model, oversampled_df, balanced_log_loss)\n",
    "    return score"
   ]
  },
  {
   "cell_type": "code",
   "execution_count": 10,
   "id": "03de027d",
   "metadata": {
    "execution": {
     "iopub.execute_input": "2023-07-25T15:41:17.645298Z",
     "iopub.status.busy": "2023-07-25T15:41:17.644773Z",
     "iopub.status.idle": "2023-07-25T15:41:17.654745Z",
     "shell.execute_reply": "2023-07-25T15:41:17.653492Z"
    },
    "papermill": {
     "duration": 0.024569,
     "end_time": "2023-07-25T15:41:17.657550",
     "exception": false,
     "start_time": "2023-07-25T15:41:17.632981",
     "status": "completed"
    },
    "tags": []
   },
   "outputs": [],
   "source": [
    "def catboost(trial):\n",
    "    param = {\n",
    "        'n_estimators': trial.suggest_int('n_estimators', 50, 150, 10),\n",
    "        'reg_lambda': trial.suggest_loguniform('lambda', 1e-3, 10.0),\n",
    "        'colsample_bylevel': trial.suggest_categorical('colsample_bylevel', [0.3, 0.4, 0.5, 0.6, 0.7, 0.8, 0.9, 1.0]),\n",
    "        'subsample': trial.suggest_categorical('subsample', [0.4, 0.5, 0.6, 0.7, 0.8, 1.0]),\n",
    "        'learning_rate': trial.suggest_float('learning_rate', 1e-4, 1e-1),\n",
    "        'max_depth': trial.suggest_int('max_depth', 3, 10),\n",
    "        'one_hot_max_size': trial.suggest_int('one_hot_max_size', 2, 10),\n",
    "    }\n",
    "    model = CatBoostClassifier(**param, random_seed=seed, verbose=False)\n",
    "    score = CV(model, oversampled_df, balanced_log_loss)\n",
    "    return score"
   ]
  },
  {
   "cell_type": "code",
   "execution_count": 11,
   "id": "469990a0",
   "metadata": {
    "execution": {
     "iopub.execute_input": "2023-07-25T15:41:17.675253Z",
     "iopub.status.busy": "2023-07-25T15:41:17.674786Z",
     "iopub.status.idle": "2023-07-25T15:41:17.682219Z",
     "shell.execute_reply": "2023-07-25T15:41:17.681029Z"
    },
    "papermill": {
     "duration": 0.01967,
     "end_time": "2023-07-25T15:41:17.684841",
     "exception": false,
     "start_time": "2023-07-25T15:41:17.665171",
     "status": "completed"
    },
    "tags": []
   },
   "outputs": [],
   "source": [
    "def hgbc(trial):\n",
    "    param = {\n",
    "        'learning_rate': trial.suggest_float('learning_rate', 0.0001, 1.0),\n",
    "        'max_depth': trial.suggest_int('max_depth', 3, 15),\n",
    "        'min_samples_leaf': trial.suggest_int('min_samples_leaf', 1, 20),\n",
    "        'max_iter': trial.suggest_int('max_iter', 50, 200, 10),\n",
    "    }\n",
    "    model = HistGradientBoostingClassifier(**param, random_state=seed)\n",
    "    score = CV(model, oversampled_df, balanced_log_loss)\n",
    "    return score"
   ]
  },
  {
   "cell_type": "code",
   "execution_count": 12,
   "id": "7b6361d9",
   "metadata": {
    "execution": {
     "iopub.execute_input": "2023-07-25T15:41:17.702523Z",
     "iopub.status.busy": "2023-07-25T15:41:17.701928Z",
     "iopub.status.idle": "2023-07-25T15:41:17.707539Z",
     "shell.execute_reply": "2023-07-25T15:41:17.706204Z"
    },
    "papermill": {
     "duration": 0.018039,
     "end_time": "2023-07-25T15:41:17.710559",
     "exception": false,
     "start_time": "2023-07-25T15:41:17.692520",
     "status": "completed"
    },
    "tags": []
   },
   "outputs": [],
   "source": [
    "#start = time.time()\n",
    "\n",
    "#study1 = optuna.create_study(direction='minimize', study_name=\"CatBoost Stacking\")\n",
    "#n_trials = 25\n",
    "#study1.optimize(catboost_meta, n_trials=n_trials)\n",
    "#print('Best trial:', study1.best_trial.params)\n",
    "#print('Best values:', study1.best_value)\n",
    "\n",
    "#end = time.time()\n",
    "#print('It has taken {:.5f} seconds to search for the best Hyperparameter'.format(end-start))"
   ]
  },
  {
   "cell_type": "code",
   "execution_count": 13,
   "id": "49fbb4a7",
   "metadata": {
    "execution": {
     "iopub.execute_input": "2023-07-25T15:41:17.727835Z",
     "iopub.status.busy": "2023-07-25T15:41:17.727418Z",
     "iopub.status.idle": "2023-07-25T15:41:18.085413Z",
     "shell.execute_reply": "2023-07-25T15:41:18.084411Z"
    },
    "papermill": {
     "duration": 0.369911,
     "end_time": "2023-07-25T15:41:18.088256",
     "exception": false,
     "start_time": "2023-07-25T15:41:17.718345",
     "status": "completed"
    },
    "tags": []
   },
   "outputs": [],
   "source": [
    "xgb_model = xgboost.XGBClassifier(n_estimators=200, reg_lambda=0.15325900166549988, reg_alpha=0.0044700650580230235, \n",
    "                              colsample_bytree=0.3, subsample=1.0, learning_rate=0.09975673376458177, \n",
    "                              max_depth=11, min_child_weight=2, random_state=seed).fit(X_train, y_train)\n",
    "xgb = xgb_model.predict_proba(test.iloc[:, 1:])"
   ]
  },
  {
   "cell_type": "code",
   "execution_count": 14,
   "id": "88df571d",
   "metadata": {
    "execution": {
     "iopub.execute_input": "2023-07-25T15:41:18.109735Z",
     "iopub.status.busy": "2023-07-25T15:41:18.109306Z",
     "iopub.status.idle": "2023-07-25T15:41:19.412427Z",
     "shell.execute_reply": "2023-07-25T15:41:19.411094Z"
    },
    "papermill": {
     "duration": 1.315831,
     "end_time": "2023-07-25T15:41:19.415510",
     "exception": false,
     "start_time": "2023-07-25T15:41:18.099679",
     "status": "completed"
    },
    "tags": []
   },
   "outputs": [],
   "source": [
    "lgbm_model = lgb.LGBMClassifier(n_estimators=200, reg_alpha=0.0016725623110267532, reg_lambda=0.0038043774323061946, \n",
    "                                 colsample_bytree=0.3, subsample=0.4, learning_rate=0.09367295744238123, max_depth=11, \n",
    "                                 num_leaves=50, min_child_samples=26, random_state=seed).fit(X_train, y_train)\n",
    "lgbm = lgbm_model.predict_proba(test.iloc[:, 1:])"
   ]
  },
  {
   "cell_type": "code",
   "execution_count": 15,
   "id": "64cca0f9",
   "metadata": {
    "execution": {
     "iopub.execute_input": "2023-07-25T15:41:19.433766Z",
     "iopub.status.busy": "2023-07-25T15:41:19.433311Z",
     "iopub.status.idle": "2023-07-25T15:41:21.878970Z",
     "shell.execute_reply": "2023-07-25T15:41:21.877847Z"
    },
    "papermill": {
     "duration": 2.457996,
     "end_time": "2023-07-25T15:41:21.881907",
     "exception": false,
     "start_time": "2023-07-25T15:41:19.423911",
     "status": "completed"
    },
    "tags": []
   },
   "outputs": [],
   "source": [
    "cat_model = CatBoostClassifier(n_estimators=70, reg_lambda=0.01606738047167, colsample_bylevel=0.3, \n",
    "                              subsample=0.7, learning_rate=0.0865881098465479, \n",
    "                              max_depth=9, one_hot_max_size=10, random_state=seed, verbose=False).fit(X_train, y_train)\n",
    "cat = cat_model.predict_proba(test.iloc[:, 1:])"
   ]
  },
  {
   "cell_type": "code",
   "execution_count": 16,
   "id": "12a5b368",
   "metadata": {
    "execution": {
     "iopub.execute_input": "2023-07-25T15:41:21.903762Z",
     "iopub.status.busy": "2023-07-25T15:41:21.900863Z",
     "iopub.status.idle": "2023-07-25T15:41:22.629069Z",
     "shell.execute_reply": "2023-07-25T15:41:22.627762Z"
    },
    "papermill": {
     "duration": 0.740893,
     "end_time": "2023-07-25T15:41:22.632149",
     "exception": false,
     "start_time": "2023-07-25T15:41:21.891256",
     "status": "completed"
    },
    "tags": []
   },
   "outputs": [],
   "source": [
    "hgbc_model = HistGradientBoostingClassifier(max_iter=170, max_depth=4, min_samples_leaf=9,\n",
    "                                         learning_rate=0.17193627413211837, random_state=seed).fit(X_train, y_train)\n",
    "hgbc = hgbc_model.predict_proba(test.iloc[:, 1:])"
   ]
  },
  {
   "cell_type": "code",
   "execution_count": 17,
   "id": "3cd95616",
   "metadata": {
    "execution": {
     "iopub.execute_input": "2023-07-25T15:41:22.650070Z",
     "iopub.status.busy": "2023-07-25T15:41:22.649640Z",
     "iopub.status.idle": "2023-07-25T15:41:22.660368Z",
     "shell.execute_reply": "2023-07-25T15:41:22.658777Z"
    },
    "papermill": {
     "duration": 0.022966,
     "end_time": "2023-07-25T15:41:22.663305",
     "exception": false,
     "start_time": "2023-07-25T15:41:22.640339",
     "status": "completed"
    },
    "tags": []
   },
   "outputs": [],
   "source": [
    "def catboost_meta(trial):\n",
    "    param = {\n",
    "        'n_estimators': trial.suggest_int('n_estimators', 50, 150, 10),\n",
    "        'reg_lambda': trial.suggest_loguniform('lambda', 1e-3, 0.1),\n",
    "        'colsample_bylevel': trial.suggest_categorical('colsample_bylevel', [0.3, 0.4, 0.5, 0.6, 0.7, 0.8, 0.9, 1.0]),\n",
    "        'subsample': trial.suggest_categorical('subsample', [0.4, 0.5, 0.6, 0.7, 0.8, 1.0]),\n",
    "        'learning_rate': trial.suggest_float('learning_rate', 1e-3, 1e-1),\n",
    "        'max_depth': trial.suggest_int('max_depth', 3, 10),\n",
    "        'one_hot_max_size': trial.suggest_int('one_hot_max_size', 2, 10),\n",
    "    }\n",
    "    model = StackingClassifier(\n",
    "        estimators=[(\"catboost\", cat_model), (\"hist_gradient_boosting\", hgbc_model),\n",
    "                    (\"lgbm\", lgbm_model), (\"xgboost\", xgb_model)],\n",
    "        final_estimator=CatBoostClassifier(**param, random_state=seed, verbose=False)\n",
    "    )\n",
    "    score = CV(model, oversampled_df, balanced_log_loss)\n",
    "    return score"
   ]
  },
  {
   "cell_type": "code",
   "execution_count": 18,
   "id": "a42c7073",
   "metadata": {
    "execution": {
     "iopub.execute_input": "2023-07-25T15:41:22.680552Z",
     "iopub.status.busy": "2023-07-25T15:41:22.680094Z",
     "iopub.status.idle": "2023-07-25T15:41:22.691344Z",
     "shell.execute_reply": "2023-07-25T15:41:22.689928Z"
    },
    "papermill": {
     "duration": 0.023712,
     "end_time": "2023-07-25T15:41:22.694673",
     "exception": false,
     "start_time": "2023-07-25T15:41:22.670961",
     "status": "completed"
    },
    "tags": []
   },
   "outputs": [],
   "source": [
    "def xgb_meta(trial):\n",
    "    param = {\n",
    "        'n_estimators': trial.suggest_int('n_estimators', 50, 200, 10),\n",
    "        'lambda': trial.suggest_loguniform('lambda', 1e-3, 0.1),\n",
    "        'alpha': trial.suggest_loguniform('alpha', 1e-3, 0.1),\n",
    "        'colsample_bytree': trial.suggest_categorical('colsample_bytree', [0.3, 0.4, 0.5, 0.6, 0.7, 0.8, 0.9, 1.0]),\n",
    "        'subsample': trial.suggest_categorical('subsample', [0.4, 0.5, 0.6, 0.7, 0.8, 1.0]),\n",
    "        'learning_rate': trial.suggest_float('learning_rate', 1e-4, 1e-1),\n",
    "        'max_depth': trial.suggest_int('max_depth', 3, 20),\n",
    "        'min_child_weight': trial.suggest_int('min_child_weight', 1, 50),\n",
    "    }\n",
    "    model = StackingClassifier(\n",
    "        estimators=[(\"catboost\", cat_model), (\"hist_gradient_boosting\", hgbc_model),\n",
    "                    (\"lgbm\", lgbm_model), (\"xgboost\", xgb_model)],\n",
    "        final_estimator=xgboost.XGBClassifier(**param, random_state=seed, verbose=False)\n",
    "    )\n",
    "    score = CV(model, oversampled_df, balanced_log_loss)\n",
    "    return score"
   ]
  },
  {
   "cell_type": "code",
   "execution_count": 19,
   "id": "7666b446",
   "metadata": {
    "execution": {
     "iopub.execute_input": "2023-07-25T15:41:22.713052Z",
     "iopub.status.busy": "2023-07-25T15:41:22.712641Z",
     "iopub.status.idle": "2023-07-25T15:41:22.721168Z",
     "shell.execute_reply": "2023-07-25T15:41:22.719758Z"
    },
    "papermill": {
     "duration": 0.021053,
     "end_time": "2023-07-25T15:41:22.723982",
     "exception": false,
     "start_time": "2023-07-25T15:41:22.702929",
     "status": "completed"
    },
    "tags": []
   },
   "outputs": [],
   "source": [
    "def hgbc_meta(trial):\n",
    "    param = {\n",
    "        'learning_rate': trial.suggest_float('learning_rate', 0.0001, 1.0),\n",
    "        'max_depth': trial.suggest_int('max_depth', 3, 15),\n",
    "        'min_samples_leaf': trial.suggest_int('min_samples_leaf', 1, 20),\n",
    "        'max_iter': trial.suggest_int('max_iter', 50, 200, 10),\n",
    "    }\n",
    "    model = StackingClassifier(\n",
    "        estimators=[(\"catboost\", cat_model), (\"hist_gradient_boosting\", hgbc_model),\n",
    "                    (\"lgbm\", lgbm_model), (\"xgboost\", xgb_model)],\n",
    "        final_estimator=HistGradientBoostingClassifier(**param, random_state=seed, verbose=False)\n",
    "    )\n",
    "    score = CV(model, oversampled_df, balanced_log_loss)\n",
    "    return score"
   ]
  },
  {
   "cell_type": "code",
   "execution_count": 20,
   "id": "ba016186",
   "metadata": {
    "execution": {
     "iopub.execute_input": "2023-07-25T15:41:22.742017Z",
     "iopub.status.busy": "2023-07-25T15:41:22.741571Z",
     "iopub.status.idle": "2023-07-25T15:41:22.752796Z",
     "shell.execute_reply": "2023-07-25T15:41:22.751289Z"
    },
    "papermill": {
     "duration": 0.023382,
     "end_time": "2023-07-25T15:41:22.755638",
     "exception": false,
     "start_time": "2023-07-25T15:41:22.732256",
     "status": "completed"
    },
    "tags": []
   },
   "outputs": [],
   "source": [
    "def lgbm_meta(trial):\n",
    "    param = {\n",
    "        'n_estimators': trial.suggest_int('n_estimators', 50, 200, 10),\n",
    "        'reg_alpha': trial.suggest_loguniform('reg_alpha', 1e-3, 0.1),\n",
    "        'reg_lambda': trial.suggest_loguniform('reg_lambda', 1e-3, 0.1),\n",
    "        'colsample_bytree': trial.suggest_categorical('colsample_bytree', [0.3,0.4,0.5,0.6,0.7,0.8,0.9,1.0]),\n",
    "        'subsample': trial.suggest_categorical('subsample', [0.4,0.5,0.6,0.7,0.8,1.0]),\n",
    "        'learning_rate': trial.suggest_float('learning_rate', 1e-4, 1e-1),\n",
    "        'max_depth': trial.suggest_int('max_depth', 3, 20),\n",
    "        'num_leaves' : trial.suggest_int('num_leaves', 10, 50),\n",
    "        'min_child_samples': trial.suggest_int('min_child_samples', 1, 50),\n",
    "    }\n",
    "    model = StackingClassifier(\n",
    "        estimators=[(\"catboost\", cat_model), (\"hist_gradient_boosting\", hgbc_model),\n",
    "                    (\"lgbm\", lgbm_model), (\"xgboost\", xgb_model)],\n",
    "        final_estimator=lgb.LGBMClassifier(**param, random_state=seed, verbose=False)\n",
    "    )\n",
    "    score = CV(model, oversampled_df, balanced_log_loss)\n",
    "    return score"
   ]
  },
  {
   "cell_type": "code",
   "execution_count": 21,
   "id": "074e141d",
   "metadata": {
    "execution": {
     "iopub.execute_input": "2023-07-25T15:41:22.775284Z",
     "iopub.status.busy": "2023-07-25T15:41:22.774811Z",
     "iopub.status.idle": "2023-07-25T15:41:22.800873Z",
     "shell.execute_reply": "2023-07-25T15:41:22.799695Z"
    },
    "papermill": {
     "duration": 0.039541,
     "end_time": "2023-07-25T15:41:22.804067",
     "exception": false,
     "start_time": "2023-07-25T15:41:22.764526",
     "status": "completed"
    },
    "tags": []
   },
   "outputs": [
    {
     "data": {
      "text/html": [
       "<div>\n",
       "<style scoped>\n",
       "    .dataframe tbody tr th:only-of-type {\n",
       "        vertical-align: middle;\n",
       "    }\n",
       "\n",
       "    .dataframe tbody tr th {\n",
       "        vertical-align: top;\n",
       "    }\n",
       "\n",
       "    .dataframe thead th {\n",
       "        text-align: right;\n",
       "    }\n",
       "</style>\n",
       "<table border=\"1\" class=\"dataframe\">\n",
       "  <thead>\n",
       "    <tr style=\"text-align: right;\">\n",
       "      <th></th>\n",
       "      <th>Id</th>\n",
       "      <th>class_0</th>\n",
       "      <th>class_1</th>\n",
       "    </tr>\n",
       "  </thead>\n",
       "  <tbody>\n",
       "    <tr>\n",
       "      <th>0</th>\n",
       "      <td>00eed32682bb</td>\n",
       "      <td>0.964072</td>\n",
       "      <td>0.035928</td>\n",
       "    </tr>\n",
       "    <tr>\n",
       "      <th>1</th>\n",
       "      <td>010ebe33f668</td>\n",
       "      <td>0.964072</td>\n",
       "      <td>0.035928</td>\n",
       "    </tr>\n",
       "    <tr>\n",
       "      <th>2</th>\n",
       "      <td>02fa521e1838</td>\n",
       "      <td>0.964072</td>\n",
       "      <td>0.035928</td>\n",
       "    </tr>\n",
       "    <tr>\n",
       "      <th>3</th>\n",
       "      <td>040e15f562a2</td>\n",
       "      <td>0.964072</td>\n",
       "      <td>0.035928</td>\n",
       "    </tr>\n",
       "    <tr>\n",
       "      <th>4</th>\n",
       "      <td>046e85c7cc7f</td>\n",
       "      <td>0.964072</td>\n",
       "      <td>0.035928</td>\n",
       "    </tr>\n",
       "  </tbody>\n",
       "</table>\n",
       "</div>"
      ],
      "text/plain": [
       "             Id   class_0   class_1\n",
       "0  00eed32682bb  0.964072  0.035928\n",
       "1  010ebe33f668  0.964072  0.035928\n",
       "2  02fa521e1838  0.964072  0.035928\n",
       "3  040e15f562a2  0.964072  0.035928\n",
       "4  046e85c7cc7f  0.964072  0.035928"
      ]
     },
     "execution_count": 21,
     "metadata": {},
     "output_type": "execute_result"
    }
   ],
   "source": [
    "final.iloc[:, 1] = (xgb[:, 0] + lgbm[:, 0] + hgbc[:, 0] + cat[:, 0]) / 4\n",
    "final.iloc[:, -1] = (xgb[:, 1] + lgbm[:, 1] + hgbc[:, 1] + cat[:, 1]) / 4\n",
    "final.to_csv('submission.csv', index=False)\n",
    "submission = pd.read_csv('submission.csv')\n",
    "submission"
   ]
  },
  {
   "cell_type": "code",
   "execution_count": null,
   "id": "7c3ec8e4",
   "metadata": {
    "papermill": {
     "duration": 0.007755,
     "end_time": "2023-07-25T15:41:22.819911",
     "exception": false,
     "start_time": "2023-07-25T15:41:22.812156",
     "status": "completed"
    },
    "tags": []
   },
   "outputs": [],
   "source": []
  }
 ],
 "metadata": {
  "kernelspec": {
   "display_name": "Python 3",
   "language": "python",
   "name": "python3"
  },
  "language_info": {
   "codemirror_mode": {
    "name": "ipython",
    "version": 3
   },
   "file_extension": ".py",
   "mimetype": "text/x-python",
   "name": "python",
   "nbconvert_exporter": "python",
   "pygments_lexer": "ipython3",
   "version": "3.10.12"
  },
  "papermill": {
   "default_parameters": {},
   "duration": 25.365395,
   "end_time": "2023-07-25T15:41:24.152764",
   "environment_variables": {},
   "exception": null,
   "input_path": "__notebook__.ipynb",
   "output_path": "__notebook__.ipynb",
   "parameters": {},
   "start_time": "2023-07-25T15:40:58.787369",
   "version": "2.4.0"
  }
 },
 "nbformat": 4,
 "nbformat_minor": 5
}
