{
 "cells": [
  {
   "cell_type": "code",
   "execution_count": 1,
   "id": "2a943c1f",
   "metadata": {
    "execution": {
     "iopub.execute_input": "2023-07-25T15:39:05.105358Z",
     "iopub.status.busy": "2023-07-25T15:39:05.104907Z",
     "iopub.status.idle": "2023-07-25T15:39:10.114154Z",
     "shell.execute_reply": "2023-07-25T15:39:10.112579Z"
    },
    "papermill": {
     "duration": 5.022187,
     "end_time": "2023-07-25T15:39:10.117823",
     "exception": false,
     "start_time": "2023-07-25T15:39:05.095636",
     "status": "completed"
    },
    "tags": []
   },
   "outputs": [],
   "source": [
    "import time\n",
    "import numpy as np\n",
    "import pandas as pd\n",
    "import warnings\n",
    "def ignore_warn(*args,**kwargs):\n",
    "    pass\n",
    "warnings.warn = ignore_warn\n",
    "import matplotlib\n",
    "import matplotlib.pyplot as plt\n",
    "import seaborn as sns\n",
    "import optuna\n",
    "from sklearn.preprocessing import LabelEncoder\n",
    "from sklearn.model_selection import cross_val_score, KFold\n",
    "from sklearn.metrics import f1_score\n",
    "import xgboost as xgboost\n",
    "import lightgbm as lgb\n",
    "from catboost import CatBoostClassifier\n",
    "from sklearn.ensemble import RandomForestClassifier, AdaBoostClassifier\n",
    "from sklearn.tree import DecisionTreeClassifier\n",
    "from sklearn.experimental import enable_hist_gradient_boosting  \n",
    "from sklearn.ensemble import HistGradientBoostingClassifier\n",
    "from sklearn.ensemble import ExtraTreesClassifier\n",
    "from sklearn.model_selection import cross_val_predict\n",
    "from sklearn.ensemble import StackingClassifier, VotingClassifier"
   ]
  },
  {
   "cell_type": "code",
   "execution_count": 2,
   "id": "abf4f257",
   "metadata": {
    "execution": {
     "iopub.execute_input": "2023-07-25T15:39:10.134498Z",
     "iopub.status.busy": "2023-07-25T15:39:10.133994Z",
     "iopub.status.idle": "2023-07-25T15:39:10.195612Z",
     "shell.execute_reply": "2023-07-25T15:39:10.194080Z"
    },
    "papermill": {
     "duration": 0.07412,
     "end_time": "2023-07-25T15:39:10.199446",
     "exception": false,
     "start_time": "2023-07-25T15:39:10.125326",
     "status": "completed"
    },
    "tags": []
   },
   "outputs": [],
   "source": [
    "train = pd.read_csv('/kaggle/input/icr-identify-age-related-conditions/train.csv')\n",
    "test = pd.read_csv('/kaggle/input/icr-identify-age-related-conditions/test.csv')\n",
    "final = pd.read_csv('/kaggle/input/icr-identify-age-related-conditions/sample_submission.csv')"
   ]
  },
  {
   "cell_type": "code",
   "execution_count": 3,
   "id": "dc874ac1",
   "metadata": {
    "execution": {
     "iopub.execute_input": "2023-07-25T15:39:10.217108Z",
     "iopub.status.busy": "2023-07-25T15:39:10.215741Z",
     "iopub.status.idle": "2023-07-25T15:39:10.229380Z",
     "shell.execute_reply": "2023-07-25T15:39:10.228110Z"
    },
    "papermill": {
     "duration": 0.025935,
     "end_time": "2023-07-25T15:39:10.232843",
     "exception": false,
     "start_time": "2023-07-25T15:39:10.206908",
     "status": "completed"
    },
    "tags": []
   },
   "outputs": [],
   "source": [
    "encoder = LabelEncoder()\n",
    "train.loc[:, 'EJ'] = encoder.fit_transform(train.loc[:, 'EJ'])\n",
    "test.loc[:, 'EJ'] = encoder.fit_transform(test.loc[:, 'EJ'])"
   ]
  },
  {
   "cell_type": "code",
   "execution_count": 4,
   "id": "ff07dd7a",
   "metadata": {
    "execution": {
     "iopub.execute_input": "2023-07-25T15:39:10.250104Z",
     "iopub.status.busy": "2023-07-25T15:39:10.249627Z",
     "iopub.status.idle": "2023-07-25T15:39:10.274696Z",
     "shell.execute_reply": "2023-07-25T15:39:10.273177Z"
    },
    "papermill": {
     "duration": 0.038665,
     "end_time": "2023-07-25T15:39:10.278707",
     "exception": false,
     "start_time": "2023-07-25T15:39:10.240042",
     "status": "completed"
    },
    "tags": []
   },
   "outputs": [],
   "source": [
    "# taken directly from https://www.kaggle.com/code/chensilin/icr-eda-lightgbm-xgboost-optuna/input\n",
    "seed = 617\n",
    "zero, one = np.bincount(train.loc[:, 'Class'])\n",
    "one_df = train.iloc[(train.loc[:, 'Class'] == 1).tolist(), :] \n",
    "zero_df = train.iloc[(train.loc[:, 'Class'] == 0).tolist(), :]\n",
    "zero_df = zero_df.sample(n=one, random_state=seed)\n",
    "oversampled_df = pd.concat([train.iloc[(train.loc[:, 'Class'] == 0).tolist(), :], one_df, one_df, one_df, one_df])\n",
    "oversampled_df = oversampled_df.sample(frac=1, random_state=seed)"
   ]
  },
  {
   "cell_type": "code",
   "execution_count": 5,
   "id": "0fdab5b3",
   "metadata": {
    "execution": {
     "iopub.execute_input": "2023-07-25T15:39:10.297114Z",
     "iopub.status.busy": "2023-07-25T15:39:10.295630Z",
     "iopub.status.idle": "2023-07-25T15:39:10.304888Z",
     "shell.execute_reply": "2023-07-25T15:39:10.303817Z"
    },
    "papermill": {
     "duration": 0.02188,
     "end_time": "2023-07-25T15:39:10.308077",
     "exception": false,
     "start_time": "2023-07-25T15:39:10.286197",
     "status": "completed"
    },
    "tags": []
   },
   "outputs": [],
   "source": [
    "# taken directly from https://www.kaggle.com/code/chensilin/icr-eda-lightgbm-xgboost-optuna/input\n",
    "def balanced_log_loss(y_true, y_pred):\n",
    "    N_0 = np.sum(1 - y_true)\n",
    "    N_1 = np.sum(y_true)\n",
    "    w_0 = 1 / N_0\n",
    "    w_1 = 1 / N_1\n",
    "    p_1 = np.clip(y_pred[:, 1], 1e-15, 1-1e-15)\n",
    "    p_0 = 1 - p_1\n",
    "    log_loss_0 = -np.sum((1 - y_true) * np.log(p_0))\n",
    "    log_loss_1 = -np.sum(y_true * np.log(p_1))\n",
    "    balanced_log_loss = (w_0 * log_loss_0 + w_1 * log_loss_1) / 2\n",
    "    return balanced_log_loss"
   ]
  },
  {
   "cell_type": "code",
   "execution_count": 6,
   "id": "c1a94c1b",
   "metadata": {
    "execution": {
     "iopub.execute_input": "2023-07-25T15:39:10.325886Z",
     "iopub.status.busy": "2023-07-25T15:39:10.324555Z",
     "iopub.status.idle": "2023-07-25T15:39:10.335661Z",
     "shell.execute_reply": "2023-07-25T15:39:10.333969Z"
    },
    "papermill": {
     "duration": 0.023484,
     "end_time": "2023-07-25T15:39:10.338803",
     "exception": false,
     "start_time": "2023-07-25T15:39:10.315319",
     "status": "completed"
    },
    "tags": []
   },
   "outputs": [],
   "source": [
    "# taken directly from https://www.kaggle.com/code/chensilin/icr-eda-lightgbm-xgboost-optuna/input\n",
    "n_folds = 10\n",
    "def CV(model, data, loss_function):\n",
    "    skf = KFold(n_splits=n_folds, shuffle=True, random_state=seed)\n",
    "    kfold = skf.split(data.iloc[:,1:-1], data.iloc[:, -1])\n",
    "    losses = []\n",
    "    for (train_id, val_id) in kfold:\n",
    "        x_train = data.iloc[train_id, 1:-1]\n",
    "        y_train = data.iloc[train_id, -1]\n",
    "        x_val = data.iloc[val_id, 1:-1]\n",
    "        y_val = data.iloc[val_id, -1]\n",
    "        model.fit(x_train, y_train)\n",
    "        pred_val = model.predict_proba(x_val)\n",
    "        loss = loss_function(y_val, pred_val)\n",
    "        losses.append(loss)\n",
    "    return np.sum(losses) / n_folds"
   ]
  },
  {
   "cell_type": "code",
   "execution_count": 7,
   "id": "ec92dd9a",
   "metadata": {
    "execution": {
     "iopub.execute_input": "2023-07-25T15:39:10.358625Z",
     "iopub.status.busy": "2023-07-25T15:39:10.357467Z",
     "iopub.status.idle": "2023-07-25T15:39:10.367762Z",
     "shell.execute_reply": "2023-07-25T15:39:10.366708Z"
    },
    "papermill": {
     "duration": 0.022411,
     "end_time": "2023-07-25T15:39:10.370511",
     "exception": false,
     "start_time": "2023-07-25T15:39:10.348100",
     "status": "completed"
    },
    "tags": []
   },
   "outputs": [],
   "source": [
    "X_train = oversampled_df.drop(columns=['Class', 'Id'])\n",
    "y_train = oversampled_df['Class']"
   ]
  },
  {
   "cell_type": "code",
   "execution_count": 8,
   "id": "70bff0f6",
   "metadata": {
    "execution": {
     "iopub.execute_input": "2023-07-25T15:39:10.387026Z",
     "iopub.status.busy": "2023-07-25T15:39:10.386590Z",
     "iopub.status.idle": "2023-07-25T15:39:10.397197Z",
     "shell.execute_reply": "2023-07-25T15:39:10.395426Z"
    },
    "papermill": {
     "duration": 0.022097,
     "end_time": "2023-07-25T15:39:10.400002",
     "exception": false,
     "start_time": "2023-07-25T15:39:10.377905",
     "status": "completed"
    },
    "tags": []
   },
   "outputs": [],
   "source": [
    "def xgb(trial):\n",
    "    param = {\n",
    "        'n_estimators': trial.suggest_int('n_estimators', 50, 200, 10),\n",
    "        'lambda': trial.suggest_loguniform('lambda', 1e-3, 10.0),\n",
    "        'alpha': trial.suggest_loguniform('alpha', 1e-3, 10.0),\n",
    "        'colsample_bytree': trial.suggest_categorical('colsample_bytree', [0.3, 0.4, 0.5, 0.6, 0.7, 0.8, 0.9, 1.0]),\n",
    "        'subsample': trial.suggest_categorical('subsample', [0.4, 0.5, 0.6, 0.7, 0.8, 1.0]),\n",
    "        'learning_rate': trial.suggest_float('learning_rate', 1e-5, 1e-1),\n",
    "        'max_depth': trial.suggest_int('max_depth', 3, 20),\n",
    "        'min_child_weight': trial.suggest_int('min_child_weight', 1, 50),\n",
    "    }\n",
    "    model = xgb.XGBClassifier(**param, random_state = seed)\n",
    "    score = CV(model, oversampled_df, balanced_log_loss)\n",
    "    return score"
   ]
  },
  {
   "cell_type": "code",
   "execution_count": 9,
   "id": "0c1716ef",
   "metadata": {
    "execution": {
     "iopub.execute_input": "2023-07-25T15:39:10.417284Z",
     "iopub.status.busy": "2023-07-25T15:39:10.415945Z",
     "iopub.status.idle": "2023-07-25T15:39:10.426048Z",
     "shell.execute_reply": "2023-07-25T15:39:10.424747Z"
    },
    "papermill": {
     "duration": 0.021688,
     "end_time": "2023-07-25T15:39:10.428960",
     "exception": false,
     "start_time": "2023-07-25T15:39:10.407272",
     "status": "completed"
    },
    "tags": []
   },
   "outputs": [],
   "source": [
    "def lgbm(trial):\n",
    "    param = {\n",
    "        'n_estimators': trial.suggest_int('n_estimators', 50, 200, 10),\n",
    "        'reg_alpha': trial.suggest_loguniform('reg_alpha', 1e-3, 10.0),\n",
    "        'reg_lambda': trial.suggest_loguniform('reg_lambda', 1e-3, 10.0),\n",
    "        'colsample_bytree': trial.suggest_categorical('colsample_bytree', [0.3,0.4,0.5,0.6,0.7,0.8,0.9,1.0]),\n",
    "        'subsample': trial.suggest_categorical('subsample', [0.4,0.5,0.6,0.7,0.8,1.0]),\n",
    "        'learning_rate': trial.suggest_float('learning_rate', 1e-5, 1e-1),\n",
    "        'max_depth': trial.suggest_int('max_depth', 3, 20),\n",
    "        'num_leaves' : trial.suggest_int('num_leaves', 10, 50),\n",
    "        'min_child_samples': trial.suggest_int('min_child_samples', 1, 50),\n",
    "    }\n",
    "    model = lgb.LGBMClassifier(**param, random_state = seed)\n",
    "    score = CV(model, oversampled_df, balanced_log_loss)\n",
    "    return score"
   ]
  },
  {
   "cell_type": "code",
   "execution_count": 10,
   "id": "8179118d",
   "metadata": {
    "execution": {
     "iopub.execute_input": "2023-07-25T15:39:10.446189Z",
     "iopub.status.busy": "2023-07-25T15:39:10.445750Z",
     "iopub.status.idle": "2023-07-25T15:39:10.454984Z",
     "shell.execute_reply": "2023-07-25T15:39:10.453382Z"
    },
    "papermill": {
     "duration": 0.021389,
     "end_time": "2023-07-25T15:39:10.457724",
     "exception": false,
     "start_time": "2023-07-25T15:39:10.436335",
     "status": "completed"
    },
    "tags": []
   },
   "outputs": [],
   "source": [
    "def catboost(trial):\n",
    "    param = {\n",
    "        'n_estimators': trial.suggest_int('n_estimators', 50, 150, 10),\n",
    "        'reg_lambda': trial.suggest_loguniform('lambda', 1e-3, 10.0),\n",
    "        'colsample_bylevel': trial.suggest_categorical('colsample_bylevel', [0.3, 0.4, 0.5, 0.6, 0.7, 0.8, 0.9, 1.0]),\n",
    "        'subsample': trial.suggest_categorical('subsample', [0.4, 0.5, 0.6, 0.7, 0.8, 1.0]),\n",
    "        'learning_rate': trial.suggest_float('learning_rate', 1e-4, 1e-1),\n",
    "        'max_depth': trial.suggest_int('max_depth', 3, 10),\n",
    "        'one_hot_max_size': trial.suggest_int('one_hot_max_size', 2, 10),\n",
    "    }\n",
    "    model = CatBoostClassifier(**param, random_seed=seed, verbose=False)\n",
    "    score = CV(model, oversampled_df, balanced_log_loss)\n",
    "    return score"
   ]
  },
  {
   "cell_type": "code",
   "execution_count": 11,
   "id": "96ddaf89",
   "metadata": {
    "execution": {
     "iopub.execute_input": "2023-07-25T15:39:10.477271Z",
     "iopub.status.busy": "2023-07-25T15:39:10.475571Z",
     "iopub.status.idle": "2023-07-25T15:39:10.484313Z",
     "shell.execute_reply": "2023-07-25T15:39:10.483381Z"
    },
    "papermill": {
     "duration": 0.021965,
     "end_time": "2023-07-25T15:39:10.487167",
     "exception": false,
     "start_time": "2023-07-25T15:39:10.465202",
     "status": "completed"
    },
    "tags": []
   },
   "outputs": [],
   "source": [
    "def hgbc(trial):\n",
    "    param = {\n",
    "        'learning_rate': trial.suggest_float('learning_rate', 0.0001, 1.0),\n",
    "        'max_depth': trial.suggest_int('max_depth', 3, 15),\n",
    "        'min_samples_leaf': trial.suggest_int('min_samples_leaf', 1, 20),\n",
    "        'max_iter': trial.suggest_int('max_iter', 50, 200, 10),\n",
    "    }\n",
    "    model = HistGradientBoostingClassifier(**param, random_state=seed)\n",
    "    score = CV(model, oversampled_df, balanced_log_loss)\n",
    "    return score"
   ]
  },
  {
   "cell_type": "code",
   "execution_count": 12,
   "id": "15be3d61",
   "metadata": {
    "execution": {
     "iopub.execute_input": "2023-07-25T15:39:10.506281Z",
     "iopub.status.busy": "2023-07-25T15:39:10.504702Z",
     "iopub.status.idle": "2023-07-25T15:39:10.512799Z",
     "shell.execute_reply": "2023-07-25T15:39:10.511303Z"
    },
    "papermill": {
     "duration": 0.02134,
     "end_time": "2023-07-25T15:39:10.516885",
     "exception": false,
     "start_time": "2023-07-25T15:39:10.495545",
     "status": "completed"
    },
    "tags": []
   },
   "outputs": [],
   "source": [
    "#start = time.time()\n",
    "\n",
    "#study1 = optuna.create_study(direction='minimize', study_name=\"CatBoost Stacking\")\n",
    "#n_trials = 25\n",
    "#study1.optimize(catboost_meta, n_trials=n_trials)\n",
    "#print('Best trial:', study1.best_trial.params)\n",
    "#print('Best values:', study1.best_value)\n",
    "\n",
    "#end = time.time()\n",
    "#print('It has taken {:.5f} seconds to search for the best Hyperparameter'.format(end-start))"
   ]
  },
  {
   "cell_type": "code",
   "execution_count": 13,
   "id": "67add0ef",
   "metadata": {
    "execution": {
     "iopub.execute_input": "2023-07-25T15:39:10.538631Z",
     "iopub.status.busy": "2023-07-25T15:39:10.537556Z",
     "iopub.status.idle": "2023-07-25T15:39:10.971412Z",
     "shell.execute_reply": "2023-07-25T15:39:10.970183Z"
    },
    "papermill": {
     "duration": 0.447473,
     "end_time": "2023-07-25T15:39:10.974226",
     "exception": false,
     "start_time": "2023-07-25T15:39:10.526753",
     "status": "completed"
    },
    "tags": []
   },
   "outputs": [],
   "source": [
    "xgb_model = xgboost.XGBClassifier(n_estimators=200, reg_lambda=0.15325900166549988, reg_alpha=0.0044700650580230235, \n",
    "                              colsample_bytree=0.3, subsample=1.0, learning_rate=0.09975673376458177, \n",
    "                              max_depth=11, min_child_weight=2, random_state=seed).fit(X_train, y_train)\n",
    "xgb = xgb_model.predict_proba(test.iloc[:, 1:])"
   ]
  },
  {
   "cell_type": "code",
   "execution_count": 14,
   "id": "173f54eb",
   "metadata": {
    "execution": {
     "iopub.execute_input": "2023-07-25T15:39:10.992165Z",
     "iopub.status.busy": "2023-07-25T15:39:10.991649Z",
     "iopub.status.idle": "2023-07-25T15:39:12.660658Z",
     "shell.execute_reply": "2023-07-25T15:39:12.659036Z"
    },
    "papermill": {
     "duration": 1.682552,
     "end_time": "2023-07-25T15:39:12.664495",
     "exception": false,
     "start_time": "2023-07-25T15:39:10.981943",
     "status": "completed"
    },
    "tags": []
   },
   "outputs": [],
   "source": [
    "lgbm_model = lgb.LGBMClassifier(n_estimators=200, reg_alpha=0.0016725623110267532, reg_lambda=0.0038043774323061946, \n",
    "                                 colsample_bytree=0.3, subsample=0.4, learning_rate=0.09367295744238123, max_depth=11, \n",
    "                                 num_leaves=50, min_child_samples=26, random_state=seed).fit(X_train, y_train)\n",
    "lgbm = lgbm_model.predict_proba(test.iloc[:, 1:])"
   ]
  },
  {
   "cell_type": "code",
   "execution_count": 15,
   "id": "f7abc867",
   "metadata": {
    "execution": {
     "iopub.execute_input": "2023-07-25T15:39:12.680603Z",
     "iopub.status.busy": "2023-07-25T15:39:12.680181Z",
     "iopub.status.idle": "2023-07-25T15:39:15.381620Z",
     "shell.execute_reply": "2023-07-25T15:39:15.380001Z"
    },
    "papermill": {
     "duration": 2.713459,
     "end_time": "2023-07-25T15:39:15.384991",
     "exception": false,
     "start_time": "2023-07-25T15:39:12.671532",
     "status": "completed"
    },
    "tags": []
   },
   "outputs": [],
   "source": [
    "cat_model = CatBoostClassifier(n_estimators=70, reg_lambda=0.01606738047167, colsample_bylevel=0.3, \n",
    "                              subsample=0.7, learning_rate=0.0865881098465479, \n",
    "                              max_depth=9, one_hot_max_size=10, random_state=seed, verbose=False).fit(X_train, y_train)\n",
    "cat = cat_model.predict_proba(test.iloc[:, 1:])"
   ]
  },
  {
   "cell_type": "code",
   "execution_count": 16,
   "id": "80aba04f",
   "metadata": {
    "execution": {
     "iopub.execute_input": "2023-07-25T15:39:15.402114Z",
     "iopub.status.busy": "2023-07-25T15:39:15.401656Z",
     "iopub.status.idle": "2023-07-25T15:39:16.132561Z",
     "shell.execute_reply": "2023-07-25T15:39:16.130808Z"
    },
    "papermill": {
     "duration": 0.743169,
     "end_time": "2023-07-25T15:39:16.135753",
     "exception": false,
     "start_time": "2023-07-25T15:39:15.392584",
     "status": "completed"
    },
    "tags": []
   },
   "outputs": [],
   "source": [
    "hgbc_model = HistGradientBoostingClassifier(max_iter=170, max_depth=4, min_samples_leaf=9,\n",
    "                                         learning_rate=0.17193627413211837, random_state=seed).fit(X_train, y_train)\n",
    "hgbc = hgbc_model.predict_proba(test.iloc[:, 1:])"
   ]
  },
  {
   "cell_type": "code",
   "execution_count": 17,
   "id": "79e22a41",
   "metadata": {
    "execution": {
     "iopub.execute_input": "2023-07-25T15:39:16.151907Z",
     "iopub.status.busy": "2023-07-25T15:39:16.151502Z",
     "iopub.status.idle": "2023-07-25T15:39:16.161910Z",
     "shell.execute_reply": "2023-07-25T15:39:16.160311Z"
    },
    "papermill": {
     "duration": 0.02194,
     "end_time": "2023-07-25T15:39:16.164811",
     "exception": false,
     "start_time": "2023-07-25T15:39:16.142871",
     "status": "completed"
    },
    "tags": []
   },
   "outputs": [],
   "source": [
    "def catboost_meta(trial):\n",
    "    param = {\n",
    "        'n_estimators': trial.suggest_int('n_estimators', 50, 150, 10),\n",
    "        'reg_lambda': trial.suggest_loguniform('lambda', 1e-3, 0.1),\n",
    "        'colsample_bylevel': trial.suggest_categorical('colsample_bylevel', [0.3, 0.4, 0.5, 0.6, 0.7, 0.8, 0.9, 1.0]),\n",
    "        'subsample': trial.suggest_categorical('subsample', [0.4, 0.5, 0.6, 0.7, 0.8, 1.0]),\n",
    "        'learning_rate': trial.suggest_float('learning_rate', 1e-3, 1e-1),\n",
    "        'max_depth': trial.suggest_int('max_depth', 3, 10),\n",
    "        'one_hot_max_size': trial.suggest_int('one_hot_max_size', 2, 10),\n",
    "    }\n",
    "    model = StackingClassifier(\n",
    "        estimators=[(\"catboost\", cat_model), (\"hist_gradient_boosting\", hgbc_model),\n",
    "                    (\"lgbm\", lgbm_model), (\"xgboost\", xgb_model)],\n",
    "        final_estimator=CatBoostClassifier(**param, random_state=seed, verbose=False)\n",
    "    )\n",
    "    score = CV(model, oversampled_df, balanced_log_loss)\n",
    "    return score"
   ]
  },
  {
   "cell_type": "code",
   "execution_count": 18,
   "id": "90a2935a",
   "metadata": {
    "execution": {
     "iopub.execute_input": "2023-07-25T15:39:16.180631Z",
     "iopub.status.busy": "2023-07-25T15:39:16.180239Z",
     "iopub.status.idle": "2023-07-25T15:39:16.207635Z",
     "shell.execute_reply": "2023-07-25T15:39:16.206147Z"
    },
    "papermill": {
     "duration": 0.038889,
     "end_time": "2023-07-25T15:39:16.210706",
     "exception": false,
     "start_time": "2023-07-25T15:39:16.171817",
     "status": "completed"
    },
    "tags": []
   },
   "outputs": [
    {
     "data": {
      "text/html": [
       "<div>\n",
       "<style scoped>\n",
       "    .dataframe tbody tr th:only-of-type {\n",
       "        vertical-align: middle;\n",
       "    }\n",
       "\n",
       "    .dataframe tbody tr th {\n",
       "        vertical-align: top;\n",
       "    }\n",
       "\n",
       "    .dataframe thead th {\n",
       "        text-align: right;\n",
       "    }\n",
       "</style>\n",
       "<table border=\"1\" class=\"dataframe\">\n",
       "  <thead>\n",
       "    <tr style=\"text-align: right;\">\n",
       "      <th></th>\n",
       "      <th>Id</th>\n",
       "      <th>class_0</th>\n",
       "      <th>class_1</th>\n",
       "    </tr>\n",
       "  </thead>\n",
       "  <tbody>\n",
       "    <tr>\n",
       "      <th>0</th>\n",
       "      <td>00eed32682bb</td>\n",
       "      <td>0.964072</td>\n",
       "      <td>0.035928</td>\n",
       "    </tr>\n",
       "    <tr>\n",
       "      <th>1</th>\n",
       "      <td>010ebe33f668</td>\n",
       "      <td>0.964072</td>\n",
       "      <td>0.035928</td>\n",
       "    </tr>\n",
       "    <tr>\n",
       "      <th>2</th>\n",
       "      <td>02fa521e1838</td>\n",
       "      <td>0.964072</td>\n",
       "      <td>0.035928</td>\n",
       "    </tr>\n",
       "    <tr>\n",
       "      <th>3</th>\n",
       "      <td>040e15f562a2</td>\n",
       "      <td>0.964072</td>\n",
       "      <td>0.035928</td>\n",
       "    </tr>\n",
       "    <tr>\n",
       "      <th>4</th>\n",
       "      <td>046e85c7cc7f</td>\n",
       "      <td>0.964072</td>\n",
       "      <td>0.035928</td>\n",
       "    </tr>\n",
       "  </tbody>\n",
       "</table>\n",
       "</div>"
      ],
      "text/plain": [
       "             Id   class_0   class_1\n",
       "0  00eed32682bb  0.964072  0.035928\n",
       "1  010ebe33f668  0.964072  0.035928\n",
       "2  02fa521e1838  0.964072  0.035928\n",
       "3  040e15f562a2  0.964072  0.035928\n",
       "4  046e85c7cc7f  0.964072  0.035928"
      ]
     },
     "execution_count": 18,
     "metadata": {},
     "output_type": "execute_result"
    }
   ],
   "source": [
    "final.iloc[:, 1] = (xgb[:, 0] + lgbm[:, 0] + hgbc[:, 0] + cat[:, 0]) / 4\n",
    "final.iloc[:, -1] = (xgb[:, 1] + lgbm[:, 1] + hgbc[:, 1] + cat[:, 1]) / 4\n",
    "final.to_csv('submission.csv', index=False)\n",
    "submission = pd.read_csv('submission.csv')\n",
    "submission"
   ]
  },
  {
   "cell_type": "code",
   "execution_count": null,
   "id": "9ca21274",
   "metadata": {
    "papermill": {
     "duration": 0.007256,
     "end_time": "2023-07-25T15:39:16.225423",
     "exception": false,
     "start_time": "2023-07-25T15:39:16.218167",
     "status": "completed"
    },
    "tags": []
   },
   "outputs": [],
   "source": []
  }
 ],
 "metadata": {
  "kernelspec": {
   "display_name": "Python 3",
   "language": "python",
   "name": "python3"
  },
  "language_info": {
   "codemirror_mode": {
    "name": "ipython",
    "version": 3
   },
   "file_extension": ".py",
   "mimetype": "text/x-python",
   "name": "python",
   "nbconvert_exporter": "python",
   "pygments_lexer": "ipython3",
   "version": "3.10.12"
  },
  "papermill": {
   "default_parameters": {},
   "duration": 25.961646,
   "end_time": "2023-07-25T15:39:17.660173",
   "environment_variables": {},
   "exception": null,
   "input_path": "__notebook__.ipynb",
   "output_path": "__notebook__.ipynb",
   "parameters": {},
   "start_time": "2023-07-25T15:38:51.698527",
   "version": "2.4.0"
  }
 },
 "nbformat": 4,
 "nbformat_minor": 5
}
