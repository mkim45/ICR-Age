{
 "cells": [
  {
   "cell_type": "code",
   "execution_count": 1,
   "id": "14160e30",
   "metadata": {
    "execution": {
     "iopub.execute_input": "2023-07-25T15:43:02.135509Z",
     "iopub.status.busy": "2023-07-25T15:43:02.135012Z",
     "iopub.status.idle": "2023-07-25T15:43:06.612465Z",
     "shell.execute_reply": "2023-07-25T15:43:06.611170Z"
    },
    "papermill": {
     "duration": 4.48875,
     "end_time": "2023-07-25T15:43:06.615578",
     "exception": false,
     "start_time": "2023-07-25T15:43:02.126828",
     "status": "completed"
    },
    "tags": []
   },
   "outputs": [],
   "source": [
    "import time\n",
    "import numpy as np\n",
    "import pandas as pd\n",
    "import warnings\n",
    "def ignore_warn(*args,**kwargs):\n",
    "    pass\n",
    "warnings.warn = ignore_warn\n",
    "import matplotlib\n",
    "import matplotlib.pyplot as plt\n",
    "import seaborn as sns\n",
    "import optuna\n",
    "from sklearn.preprocessing import LabelEncoder\n",
    "from sklearn.model_selection import cross_val_score, KFold\n",
    "from sklearn.metrics import f1_score\n",
    "import xgboost as xgboost\n",
    "import lightgbm as lgb\n",
    "from catboost import CatBoostClassifier\n",
    "from sklearn.ensemble import RandomForestClassifier, AdaBoostClassifier\n",
    "from sklearn.tree import DecisionTreeClassifier\n",
    "from sklearn.experimental import enable_hist_gradient_boosting  \n",
    "from sklearn.ensemble import HistGradientBoostingClassifier\n",
    "from sklearn.ensemble import ExtraTreesClassifier\n",
    "from sklearn.model_selection import cross_val_predict\n",
    "from sklearn.ensemble import StackingClassifier, VotingClassifier"
   ]
  },
  {
   "cell_type": "code",
   "execution_count": 2,
   "id": "b7811eee",
   "metadata": {
    "execution": {
     "iopub.execute_input": "2023-07-25T15:43:06.629653Z",
     "iopub.status.busy": "2023-07-25T15:43:06.628478Z",
     "iopub.status.idle": "2023-07-25T15:43:06.676848Z",
     "shell.execute_reply": "2023-07-25T15:43:06.675726Z"
    },
    "papermill": {
     "duration": 0.058089,
     "end_time": "2023-07-25T15:43:06.679586",
     "exception": false,
     "start_time": "2023-07-25T15:43:06.621497",
     "status": "completed"
    },
    "tags": []
   },
   "outputs": [],
   "source": [
    "train = pd.read_csv('/kaggle/input/icr-identify-age-related-conditions/train.csv')\n",
    "test = pd.read_csv('/kaggle/input/icr-identify-age-related-conditions/test.csv')\n",
    "final = pd.read_csv('/kaggle/input/icr-identify-age-related-conditions/sample_submission.csv')"
   ]
  },
  {
   "cell_type": "code",
   "execution_count": 3,
   "id": "7cf80da3",
   "metadata": {
    "execution": {
     "iopub.execute_input": "2023-07-25T15:43:06.693094Z",
     "iopub.status.busy": "2023-07-25T15:43:06.692738Z",
     "iopub.status.idle": "2023-07-25T15:43:06.703484Z",
     "shell.execute_reply": "2023-07-25T15:43:06.702516Z"
    },
    "papermill": {
     "duration": 0.020394,
     "end_time": "2023-07-25T15:43:06.705762",
     "exception": false,
     "start_time": "2023-07-25T15:43:06.685368",
     "status": "completed"
    },
    "tags": []
   },
   "outputs": [],
   "source": [
    "encoder = LabelEncoder()\n",
    "train.loc[:, 'EJ'] = encoder.fit_transform(train.loc[:, 'EJ'])\n",
    "test.loc[:, 'EJ'] = encoder.fit_transform(test.loc[:, 'EJ'])"
   ]
  },
  {
   "cell_type": "code",
   "execution_count": 4,
   "id": "a1fa0ca2",
   "metadata": {
    "execution": {
     "iopub.execute_input": "2023-07-25T15:43:06.718637Z",
     "iopub.status.busy": "2023-07-25T15:43:06.718270Z",
     "iopub.status.idle": "2023-07-25T15:43:06.736033Z",
     "shell.execute_reply": "2023-07-25T15:43:06.734948Z"
    },
    "papermill": {
     "duration": 0.027276,
     "end_time": "2023-07-25T15:43:06.738653",
     "exception": false,
     "start_time": "2023-07-25T15:43:06.711377",
     "status": "completed"
    },
    "tags": []
   },
   "outputs": [],
   "source": [
    "# taken directly from https://www.kaggle.com/code/chensilin/icr-eda-lightgbm-xgboost-optuna/input\n",
    "seed = 617\n",
    "zero, one = np.bincount(train.loc[:, 'Class'])\n",
    "one_df = train.iloc[(train.loc[:, 'Class'] == 1).tolist(), :] \n",
    "zero_df = train.iloc[(train.loc[:, 'Class'] == 0).tolist(), :]\n",
    "zero_df = zero_df.sample(n=one, random_state=seed)\n",
    "oversampled_df = pd.concat([train.iloc[(train.loc[:, 'Class'] == 0).tolist(), :], one_df, one_df, one_df, one_df])\n",
    "oversampled_df = oversampled_df.sample(frac=1, random_state=seed)"
   ]
  },
  {
   "cell_type": "code",
   "execution_count": 5,
   "id": "627ed421",
   "metadata": {
    "execution": {
     "iopub.execute_input": "2023-07-25T15:43:06.753157Z",
     "iopub.status.busy": "2023-07-25T15:43:06.752782Z",
     "iopub.status.idle": "2023-07-25T15:43:06.758876Z",
     "shell.execute_reply": "2023-07-25T15:43:06.757909Z"
    },
    "papermill": {
     "duration": 0.016483,
     "end_time": "2023-07-25T15:43:06.760743",
     "exception": false,
     "start_time": "2023-07-25T15:43:06.744260",
     "status": "completed"
    },
    "tags": []
   },
   "outputs": [],
   "source": [
    "# taken directly from https://www.kaggle.com/code/chensilin/icr-eda-lightgbm-xgboost-optuna/input\n",
    "def balanced_log_loss(y_true, y_pred):\n",
    "    N_0 = np.sum(1 - y_true)\n",
    "    N_1 = np.sum(y_true)\n",
    "    w_0 = 1 / N_0\n",
    "    w_1 = 1 / N_1\n",
    "    p_1 = np.clip(y_pred[:, 1], 1e-15, 1-1e-15)\n",
    "    p_0 = 1 - p_1\n",
    "    log_loss_0 = -np.sum((1 - y_true) * np.log(p_0))\n",
    "    log_loss_1 = -np.sum(y_true * np.log(p_1))\n",
    "    balanced_log_loss = (w_0 * log_loss_0 + w_1 * log_loss_1) / 2\n",
    "    return balanced_log_loss"
   ]
  },
  {
   "cell_type": "code",
   "execution_count": 6,
   "id": "a88c2d51",
   "metadata": {
    "execution": {
     "iopub.execute_input": "2023-07-25T15:43:06.773478Z",
     "iopub.status.busy": "2023-07-25T15:43:06.772936Z",
     "iopub.status.idle": "2023-07-25T15:43:06.780935Z",
     "shell.execute_reply": "2023-07-25T15:43:06.779813Z"
    },
    "papermill": {
     "duration": 0.01704,
     "end_time": "2023-07-25T15:43:06.783320",
     "exception": false,
     "start_time": "2023-07-25T15:43:06.766280",
     "status": "completed"
    },
    "tags": []
   },
   "outputs": [],
   "source": [
    "# taken directly from https://www.kaggle.com/code/chensilin/icr-eda-lightgbm-xgboost-optuna/input\n",
    "n_folds = 10\n",
    "def CV(model, data, loss_function):\n",
    "    skf = KFold(n_splits=n_folds, shuffle=True, random_state=seed)\n",
    "    kfold = skf.split(data.iloc[:,1:-1], data.iloc[:, -1])\n",
    "    losses = []\n",
    "    for (train_id, val_id) in kfold:\n",
    "        x_train = data.iloc[train_id, 1:-1]\n",
    "        y_train = data.iloc[train_id, -1]\n",
    "        x_val = data.iloc[val_id, 1:-1]\n",
    "        y_val = data.iloc[val_id, -1]\n",
    "        model.fit(x_train, y_train)\n",
    "        pred_val = model.predict_proba(x_val)\n",
    "        loss = loss_function(y_val, pred_val)\n",
    "        losses.append(loss)\n",
    "    return np.sum(losses) / n_folds"
   ]
  },
  {
   "cell_type": "code",
   "execution_count": 7,
   "id": "a0a8f447",
   "metadata": {
    "execution": {
     "iopub.execute_input": "2023-07-25T15:43:06.796069Z",
     "iopub.status.busy": "2023-07-25T15:43:06.795684Z",
     "iopub.status.idle": "2023-07-25T15:43:06.804554Z",
     "shell.execute_reply": "2023-07-25T15:43:06.803674Z"
    },
    "papermill": {
     "duration": 0.017791,
     "end_time": "2023-07-25T15:43:06.806690",
     "exception": false,
     "start_time": "2023-07-25T15:43:06.788899",
     "status": "completed"
    },
    "tags": []
   },
   "outputs": [],
   "source": [
    "X_train = oversampled_df.drop(columns=['Class', 'Id'])\n",
    "y_train = oversampled_df['Class']"
   ]
  },
  {
   "cell_type": "code",
   "execution_count": 8,
   "id": "81d39733",
   "metadata": {
    "execution": {
     "iopub.execute_input": "2023-07-25T15:43:06.820638Z",
     "iopub.status.busy": "2023-07-25T15:43:06.820144Z",
     "iopub.status.idle": "2023-07-25T15:43:06.827721Z",
     "shell.execute_reply": "2023-07-25T15:43:06.826692Z"
    },
    "papermill": {
     "duration": 0.017267,
     "end_time": "2023-07-25T15:43:06.829924",
     "exception": false,
     "start_time": "2023-07-25T15:43:06.812657",
     "status": "completed"
    },
    "tags": []
   },
   "outputs": [],
   "source": [
    "def xgb(trial):\n",
    "    param = {\n",
    "        'n_estimators': trial.suggest_int('n_estimators', 50, 200, 10),\n",
    "        'lambda': trial.suggest_loguniform('lambda', 1e-3, 10.0),\n",
    "        'alpha': trial.suggest_loguniform('alpha', 1e-3, 10.0),\n",
    "        'colsample_bytree': trial.suggest_categorical('colsample_bytree', [0.3, 0.4, 0.5, 0.6, 0.7, 0.8, 0.9, 1.0]),\n",
    "        'subsample': trial.suggest_categorical('subsample', [0.4, 0.5, 0.6, 0.7, 0.8, 1.0]),\n",
    "        'learning_rate': trial.suggest_float('learning_rate', 1e-5, 1e-1),\n",
    "        'max_depth': trial.suggest_int('max_depth', 3, 20),\n",
    "        'min_child_weight': trial.suggest_int('min_child_weight', 1, 50),\n",
    "    }\n",
    "    model = xgb.XGBClassifier(**param, random_state = seed)\n",
    "    score = CV(model, oversampled_df, balanced_log_loss)\n",
    "    return score"
   ]
  },
  {
   "cell_type": "code",
   "execution_count": 9,
   "id": "0c138ab4",
   "metadata": {
    "execution": {
     "iopub.execute_input": "2023-07-25T15:43:06.843134Z",
     "iopub.status.busy": "2023-07-25T15:43:06.842759Z",
     "iopub.status.idle": "2023-07-25T15:43:06.850205Z",
     "shell.execute_reply": "2023-07-25T15:43:06.848973Z"
    },
    "papermill": {
     "duration": 0.0168,
     "end_time": "2023-07-25T15:43:06.852431",
     "exception": false,
     "start_time": "2023-07-25T15:43:06.835631",
     "status": "completed"
    },
    "tags": []
   },
   "outputs": [],
   "source": [
    "def lgbm(trial):\n",
    "    param = {\n",
    "        'n_estimators': trial.suggest_int('n_estimators', 50, 200, 10),\n",
    "        'reg_alpha': trial.suggest_loguniform('reg_alpha', 1e-3, 10.0),\n",
    "        'reg_lambda': trial.suggest_loguniform('reg_lambda', 1e-3, 10.0),\n",
    "        'colsample_bytree': trial.suggest_categorical('colsample_bytree', [0.3,0.4,0.5,0.6,0.7,0.8,0.9,1.0]),\n",
    "        'subsample': trial.suggest_categorical('subsample', [0.4,0.5,0.6,0.7,0.8,1.0]),\n",
    "        'learning_rate': trial.suggest_float('learning_rate', 1e-5, 1e-1),\n",
    "        'max_depth': trial.suggest_int('max_depth', 3, 20),\n",
    "        'num_leaves' : trial.suggest_int('num_leaves', 10, 50),\n",
    "        'min_child_samples': trial.suggest_int('min_child_samples', 1, 50),\n",
    "    }\n",
    "    model = lgb.LGBMClassifier(**param, random_state = seed)\n",
    "    score = CV(model, oversampled_df, balanced_log_loss)\n",
    "    return score"
   ]
  },
  {
   "cell_type": "code",
   "execution_count": 10,
   "id": "11055a33",
   "metadata": {
    "execution": {
     "iopub.execute_input": "2023-07-25T15:43:06.865796Z",
     "iopub.status.busy": "2023-07-25T15:43:06.865417Z",
     "iopub.status.idle": "2023-07-25T15:43:06.872814Z",
     "shell.execute_reply": "2023-07-25T15:43:06.871680Z"
    },
    "papermill": {
     "duration": 0.017062,
     "end_time": "2023-07-25T15:43:06.875293",
     "exception": false,
     "start_time": "2023-07-25T15:43:06.858231",
     "status": "completed"
    },
    "tags": []
   },
   "outputs": [],
   "source": [
    "def catboost(trial):\n",
    "    param = {\n",
    "        'n_estimators': trial.suggest_int('n_estimators', 50, 150, 10),\n",
    "        'reg_lambda': trial.suggest_loguniform('lambda', 1e-3, 10.0),\n",
    "        'colsample_bylevel': trial.suggest_categorical('colsample_bylevel', [0.3, 0.4, 0.5, 0.6, 0.7, 0.8, 0.9, 1.0]),\n",
    "        'subsample': trial.suggest_categorical('subsample', [0.4, 0.5, 0.6, 0.7, 0.8, 1.0]),\n",
    "        'learning_rate': trial.suggest_float('learning_rate', 1e-4, 1e-1),\n",
    "        'max_depth': trial.suggest_int('max_depth', 3, 10),\n",
    "        'one_hot_max_size': trial.suggest_int('one_hot_max_size', 2, 10),\n",
    "    }\n",
    "    model = CatBoostClassifier(**param, random_seed=seed, verbose=False)\n",
    "    score = CV(model, oversampled_df, balanced_log_loss)\n",
    "    return score"
   ]
  },
  {
   "cell_type": "code",
   "execution_count": 11,
   "id": "eff84909",
   "metadata": {
    "execution": {
     "iopub.execute_input": "2023-07-25T15:43:06.888743Z",
     "iopub.status.busy": "2023-07-25T15:43:06.888372Z",
     "iopub.status.idle": "2023-07-25T15:43:06.894562Z",
     "shell.execute_reply": "2023-07-25T15:43:06.893380Z"
    },
    "papermill": {
     "duration": 0.015758,
     "end_time": "2023-07-25T15:43:06.896799",
     "exception": false,
     "start_time": "2023-07-25T15:43:06.881041",
     "status": "completed"
    },
    "tags": []
   },
   "outputs": [],
   "source": [
    "def hgbc(trial):\n",
    "    param = {\n",
    "        'learning_rate': trial.suggest_float('learning_rate', 0.0001, 1.0),\n",
    "        'max_depth': trial.suggest_int('max_depth', 3, 15),\n",
    "        'min_samples_leaf': trial.suggest_int('min_samples_leaf', 1, 20),\n",
    "        'max_iter': trial.suggest_int('max_iter', 50, 200, 10),\n",
    "    }\n",
    "    model = HistGradientBoostingClassifier(**param, random_state=seed)\n",
    "    score = CV(model, oversampled_df, balanced_log_loss)\n",
    "    return score"
   ]
  },
  {
   "cell_type": "code",
   "execution_count": 12,
   "id": "978aad10",
   "metadata": {
    "execution": {
     "iopub.execute_input": "2023-07-25T15:43:06.910314Z",
     "iopub.status.busy": "2023-07-25T15:43:06.909904Z",
     "iopub.status.idle": "2023-07-25T15:43:06.915601Z",
     "shell.execute_reply": "2023-07-25T15:43:06.914329Z"
    },
    "papermill": {
     "duration": 0.015524,
     "end_time": "2023-07-25T15:43:06.918103",
     "exception": false,
     "start_time": "2023-07-25T15:43:06.902579",
     "status": "completed"
    },
    "tags": []
   },
   "outputs": [],
   "source": [
    "#start = time.time()\n",
    "\n",
    "#study1 = optuna.create_study(direction='minimize', study_name=\"CatBoost Stacking\")\n",
    "#n_trials = 25\n",
    "#study1.optimize(catboost_meta, n_trials=n_trials)\n",
    "#print('Best trial:', study1.best_trial.params)\n",
    "#print('Best values:', study1.best_value)\n",
    "\n",
    "#end = time.time()\n",
    "#print('It has taken {:.5f} seconds to search for the best Hyperparameter'.format(end-start))"
   ]
  },
  {
   "cell_type": "code",
   "execution_count": 13,
   "id": "b591fb5a",
   "metadata": {
    "execution": {
     "iopub.execute_input": "2023-07-25T15:43:06.931873Z",
     "iopub.status.busy": "2023-07-25T15:43:06.931504Z",
     "iopub.status.idle": "2023-07-25T15:43:07.244515Z",
     "shell.execute_reply": "2023-07-25T15:43:07.243630Z"
    },
    "papermill": {
     "duration": 0.323332,
     "end_time": "2023-07-25T15:43:07.247154",
     "exception": false,
     "start_time": "2023-07-25T15:43:06.923822",
     "status": "completed"
    },
    "tags": []
   },
   "outputs": [],
   "source": [
    "xgb_model = xgboost.XGBClassifier(n_estimators=200, reg_lambda=0.15325900166549988, reg_alpha=0.0044700650580230235, \n",
    "                              colsample_bytree=0.3, subsample=1.0, learning_rate=0.09975673376458177, \n",
    "                              max_depth=11, min_child_weight=2, random_state=seed).fit(X_train, y_train)\n",
    "xgb = xgb_model.predict_proba(test.iloc[:, 1:])"
   ]
  },
  {
   "cell_type": "code",
   "execution_count": 14,
   "id": "f4070bbc",
   "metadata": {
    "execution": {
     "iopub.execute_input": "2023-07-25T15:43:07.261664Z",
     "iopub.status.busy": "2023-07-25T15:43:07.261239Z",
     "iopub.status.idle": "2023-07-25T15:43:08.425294Z",
     "shell.execute_reply": "2023-07-25T15:43:08.424248Z"
    },
    "papermill": {
     "duration": 1.174438,
     "end_time": "2023-07-25T15:43:08.428036",
     "exception": false,
     "start_time": "2023-07-25T15:43:07.253598",
     "status": "completed"
    },
    "tags": []
   },
   "outputs": [],
   "source": [
    "lgbm_model = lgb.LGBMClassifier(n_estimators=200, reg_alpha=0.0016725623110267532, reg_lambda=0.0038043774323061946, \n",
    "                                 colsample_bytree=0.3, subsample=0.4, learning_rate=0.09367295744238123, max_depth=11, \n",
    "                                 num_leaves=50, min_child_samples=26, random_state=seed).fit(X_train, y_train)\n",
    "lgbm = lgbm_model.predict_proba(test.iloc[:, 1:])"
   ]
  },
  {
   "cell_type": "code",
   "execution_count": 15,
   "id": "298898fc",
   "metadata": {
    "execution": {
     "iopub.execute_input": "2023-07-25T15:43:08.441297Z",
     "iopub.status.busy": "2023-07-25T15:43:08.440897Z",
     "iopub.status.idle": "2023-07-25T15:43:10.561949Z",
     "shell.execute_reply": "2023-07-25T15:43:10.560868Z"
    },
    "papermill": {
     "duration": 2.130859,
     "end_time": "2023-07-25T15:43:10.564840",
     "exception": false,
     "start_time": "2023-07-25T15:43:08.433981",
     "status": "completed"
    },
    "tags": []
   },
   "outputs": [],
   "source": [
    "cat_model = CatBoostClassifier(n_estimators=70, reg_lambda=0.01606738047167, colsample_bylevel=0.3, \n",
    "                              subsample=0.7, learning_rate=0.0865881098465479, \n",
    "                              max_depth=9, one_hot_max_size=10, random_state=seed, verbose=False).fit(X_train, y_train)\n",
    "cat = cat_model.predict_proba(test.iloc[:, 1:])"
   ]
  },
  {
   "cell_type": "code",
   "execution_count": 16,
   "id": "cf39111e",
   "metadata": {
    "execution": {
     "iopub.execute_input": "2023-07-25T15:43:10.578609Z",
     "iopub.status.busy": "2023-07-25T15:43:10.578237Z",
     "iopub.status.idle": "2023-07-25T15:43:11.195483Z",
     "shell.execute_reply": "2023-07-25T15:43:11.194339Z"
    },
    "papermill": {
     "duration": 0.627249,
     "end_time": "2023-07-25T15:43:11.198168",
     "exception": false,
     "start_time": "2023-07-25T15:43:10.570919",
     "status": "completed"
    },
    "tags": []
   },
   "outputs": [],
   "source": [
    "hgbc_model = HistGradientBoostingClassifier(max_iter=170, max_depth=4, min_samples_leaf=9,\n",
    "                                         learning_rate=0.17193627413211837, random_state=seed).fit(X_train, y_train)\n",
    "hgbc = hgbc_model.predict_proba(test.iloc[:, 1:])"
   ]
  },
  {
   "cell_type": "code",
   "execution_count": 17,
   "id": "a81ef480",
   "metadata": {
    "execution": {
     "iopub.execute_input": "2023-07-25T15:43:11.211632Z",
     "iopub.status.busy": "2023-07-25T15:43:11.211268Z",
     "iopub.status.idle": "2023-07-25T15:43:11.218936Z",
     "shell.execute_reply": "2023-07-25T15:43:11.217763Z"
    },
    "papermill": {
     "duration": 0.017449,
     "end_time": "2023-07-25T15:43:11.221408",
     "exception": false,
     "start_time": "2023-07-25T15:43:11.203959",
     "status": "completed"
    },
    "tags": []
   },
   "outputs": [],
   "source": [
    "def catboost_meta(trial):\n",
    "    param = {\n",
    "        'n_estimators': trial.suggest_int('n_estimators', 50, 150, 10),\n",
    "        'reg_lambda': trial.suggest_loguniform('lambda', 1e-3, 0.1),\n",
    "        'colsample_bylevel': trial.suggest_categorical('colsample_bylevel', [0.3, 0.4, 0.5, 0.6, 0.7, 0.8, 0.9, 1.0]),\n",
    "        'subsample': trial.suggest_categorical('subsample', [0.4, 0.5, 0.6, 0.7, 0.8, 1.0]),\n",
    "        'learning_rate': trial.suggest_float('learning_rate', 1e-3, 1e-1),\n",
    "        'max_depth': trial.suggest_int('max_depth', 3, 10),\n",
    "        'one_hot_max_size': trial.suggest_int('one_hot_max_size', 2, 10),\n",
    "    }\n",
    "    model = StackingClassifier(\n",
    "        estimators=[(\"catboost\", cat_model), (\"hist_gradient_boosting\", hgbc_model),\n",
    "                    (\"lgbm\", lgbm_model), (\"xgboost\", xgb_model)],\n",
    "        final_estimator=CatBoostClassifier(**param, random_state=seed, verbose=False)\n",
    "    )\n",
    "    score = CV(model, oversampled_df, balanced_log_loss)\n",
    "    return score"
   ]
  },
  {
   "cell_type": "code",
   "execution_count": 18,
   "id": "668ab93a",
   "metadata": {
    "execution": {
     "iopub.execute_input": "2023-07-25T15:43:11.234567Z",
     "iopub.status.busy": "2023-07-25T15:43:11.234170Z",
     "iopub.status.idle": "2023-07-25T15:43:11.242567Z",
     "shell.execute_reply": "2023-07-25T15:43:11.241140Z"
    },
    "papermill": {
     "duration": 0.017681,
     "end_time": "2023-07-25T15:43:11.245000",
     "exception": false,
     "start_time": "2023-07-25T15:43:11.227319",
     "status": "completed"
    },
    "tags": []
   },
   "outputs": [],
   "source": [
    "def xgb_meta(trial):\n",
    "    param = {\n",
    "        'n_estimators': trial.suggest_int('n_estimators', 50, 200, 10),\n",
    "        'lambda': trial.suggest_loguniform('lambda', 1e-3, 0.1),\n",
    "        'alpha': trial.suggest_loguniform('alpha', 1e-3, 0.1),\n",
    "        'colsample_bytree': trial.suggest_categorical('colsample_bytree', [0.3, 0.4, 0.5, 0.6, 0.7, 0.8, 0.9, 1.0]),\n",
    "        'subsample': trial.suggest_categorical('subsample', [0.4, 0.5, 0.6, 0.7, 0.8, 1.0]),\n",
    "        'learning_rate': trial.suggest_float('learning_rate', 1e-4, 1e-1),\n",
    "        'max_depth': trial.suggest_int('max_depth', 3, 20),\n",
    "        'min_child_weight': trial.suggest_int('min_child_weight', 1, 50),\n",
    "    }\n",
    "    model = StackingClassifier(\n",
    "        estimators=[(\"catboost\", cat_model), (\"hist_gradient_boosting\", hgbc_model),\n",
    "                    (\"lgbm\", lgbm_model), (\"xgboost\", xgb_model)],\n",
    "        final_estimator=xgboost.XGBClassifier(**param, random_state=seed, verbose=False)\n",
    "    )\n",
    "    score = CV(model, oversampled_df, balanced_log_loss)\n",
    "    return score"
   ]
  },
  {
   "cell_type": "code",
   "execution_count": 19,
   "id": "aa1f863c",
   "metadata": {
    "execution": {
     "iopub.execute_input": "2023-07-25T15:43:11.258459Z",
     "iopub.status.busy": "2023-07-25T15:43:11.258070Z",
     "iopub.status.idle": "2023-07-25T15:43:11.265298Z",
     "shell.execute_reply": "2023-07-25T15:43:11.264086Z"
    },
    "papermill": {
     "duration": 0.016512,
     "end_time": "2023-07-25T15:43:11.267469",
     "exception": false,
     "start_time": "2023-07-25T15:43:11.250957",
     "status": "completed"
    },
    "tags": []
   },
   "outputs": [],
   "source": [
    "def hgbc_meta(trial):\n",
    "    param = {\n",
    "        'learning_rate': trial.suggest_float('learning_rate', 0.0001, 1.0),\n",
    "        'max_depth': trial.suggest_int('max_depth', 3, 15),\n",
    "        'min_samples_leaf': trial.suggest_int('min_samples_leaf', 1, 20),\n",
    "        'max_iter': trial.suggest_int('max_iter', 50, 200, 10),\n",
    "    }\n",
    "    model = StackingClassifier(\n",
    "        estimators=[(\"catboost\", cat_model), (\"hist_gradient_boosting\", hgbc_model),\n",
    "                    (\"lgbm\", lgbm_model), (\"xgboost\", xgb_model)],\n",
    "        final_estimator=HistGradientBoostingClassifier(**param, random_state=seed, verbose=False)\n",
    "    )\n",
    "    score = CV(model, oversampled_df, balanced_log_loss)\n",
    "    return score"
   ]
  },
  {
   "cell_type": "code",
   "execution_count": 20,
   "id": "c7efdaca",
   "metadata": {
    "execution": {
     "iopub.execute_input": "2023-07-25T15:43:11.280587Z",
     "iopub.status.busy": "2023-07-25T15:43:11.280187Z",
     "iopub.status.idle": "2023-07-25T15:43:11.288343Z",
     "shell.execute_reply": "2023-07-25T15:43:11.287095Z"
    },
    "papermill": {
     "duration": 0.017395,
     "end_time": "2023-07-25T15:43:11.290538",
     "exception": false,
     "start_time": "2023-07-25T15:43:11.273143",
     "status": "completed"
    },
    "tags": []
   },
   "outputs": [],
   "source": [
    "def lgbm_meta(trial):\n",
    "    param = {\n",
    "        'n_estimators': trial.suggest_int('n_estimators', 50, 200, 10),\n",
    "        'reg_alpha': trial.suggest_loguniform('reg_alpha', 1e-3, 0.1),\n",
    "        'reg_lambda': trial.suggest_loguniform('reg_lambda', 1e-3, 0.1),\n",
    "        'colsample_bytree': trial.suggest_categorical('colsample_bytree', [0.3,0.4,0.5,0.6,0.7,0.8,0.9,1.0]),\n",
    "        'subsample': trial.suggest_categorical('subsample', [0.4,0.5,0.6,0.7,0.8,1.0]),\n",
    "        'learning_rate': trial.suggest_float('learning_rate', 1e-4, 1e-1),\n",
    "        'max_depth': trial.suggest_int('max_depth', 3, 20),\n",
    "        'num_leaves' : trial.suggest_int('num_leaves', 10, 50),\n",
    "        'min_child_samples': trial.suggest_int('min_child_samples', 1, 50),\n",
    "    }\n",
    "    model = StackingClassifier(\n",
    "        estimators=[(\"catboost\", cat_model), (\"hist_gradient_boosting\", hgbc_model),\n",
    "                    (\"lgbm\", lgbm_model), (\"xgboost\", xgb_model)],\n",
    "        final_estimator=lgb.LGBMClassifier(**param, random_state=seed, verbose=False)\n",
    "    )\n",
    "    score = CV(model, oversampled_df, balanced_log_loss)\n",
    "    return score"
   ]
  },
  {
   "cell_type": "code",
   "execution_count": 21,
   "id": "82c16e73",
   "metadata": {
    "execution": {
     "iopub.execute_input": "2023-07-25T15:43:11.303832Z",
     "iopub.status.busy": "2023-07-25T15:43:11.303452Z",
     "iopub.status.idle": "2023-07-25T15:43:13.502658Z",
     "shell.execute_reply": "2023-07-25T15:43:13.501433Z"
    },
    "papermill": {
     "duration": 2.209102,
     "end_time": "2023-07-25T15:43:13.505363",
     "exception": false,
     "start_time": "2023-07-25T15:43:11.296261",
     "status": "completed"
    },
    "tags": []
   },
   "outputs": [],
   "source": [
    "stacking_cat_model = CatBoostClassifier(n_estimators=150, reg_lambda=0.05055956136270572, colsample_bylevel=0.6, \n",
    "                                        subsample=0.5, learning_rate=0.08699165501504001, max_depth=7, \n",
    "                                        one_hot_max_size=8, random_state=seed, verbose=False).fit(X_train, y_train)\n",
    "stacking_cat = stacking_cat_model.predict_proba(test.iloc[:, 1:])"
   ]
  },
  {
   "cell_type": "code",
   "execution_count": 22,
   "id": "05a53bba",
   "metadata": {
    "execution": {
     "iopub.execute_input": "2023-07-25T15:43:13.518567Z",
     "iopub.status.busy": "2023-07-25T15:43:13.518181Z",
     "iopub.status.idle": "2023-07-25T15:43:13.543630Z",
     "shell.execute_reply": "2023-07-25T15:43:13.542573Z"
    },
    "papermill": {
     "duration": 0.034945,
     "end_time": "2023-07-25T15:43:13.546013",
     "exception": false,
     "start_time": "2023-07-25T15:43:13.511068",
     "status": "completed"
    },
    "tags": []
   },
   "outputs": [
    {
     "data": {
      "text/html": [
       "<div>\n",
       "<style scoped>\n",
       "    .dataframe tbody tr th:only-of-type {\n",
       "        vertical-align: middle;\n",
       "    }\n",
       "\n",
       "    .dataframe tbody tr th {\n",
       "        vertical-align: top;\n",
       "    }\n",
       "\n",
       "    .dataframe thead th {\n",
       "        text-align: right;\n",
       "    }\n",
       "</style>\n",
       "<table border=\"1\" class=\"dataframe\">\n",
       "  <thead>\n",
       "    <tr style=\"text-align: right;\">\n",
       "      <th></th>\n",
       "      <th>Id</th>\n",
       "      <th>class_0</th>\n",
       "      <th>class_1</th>\n",
       "    </tr>\n",
       "  </thead>\n",
       "  <tbody>\n",
       "    <tr>\n",
       "      <th>0</th>\n",
       "      <td>00eed32682bb</td>\n",
       "      <td>0.964072</td>\n",
       "      <td>0.035928</td>\n",
       "    </tr>\n",
       "    <tr>\n",
       "      <th>1</th>\n",
       "      <td>010ebe33f668</td>\n",
       "      <td>0.964072</td>\n",
       "      <td>0.035928</td>\n",
       "    </tr>\n",
       "    <tr>\n",
       "      <th>2</th>\n",
       "      <td>02fa521e1838</td>\n",
       "      <td>0.964072</td>\n",
       "      <td>0.035928</td>\n",
       "    </tr>\n",
       "    <tr>\n",
       "      <th>3</th>\n",
       "      <td>040e15f562a2</td>\n",
       "      <td>0.964072</td>\n",
       "      <td>0.035928</td>\n",
       "    </tr>\n",
       "    <tr>\n",
       "      <th>4</th>\n",
       "      <td>046e85c7cc7f</td>\n",
       "      <td>0.964072</td>\n",
       "      <td>0.035928</td>\n",
       "    </tr>\n",
       "  </tbody>\n",
       "</table>\n",
       "</div>"
      ],
      "text/plain": [
       "             Id   class_0   class_1\n",
       "0  00eed32682bb  0.964072  0.035928\n",
       "1  010ebe33f668  0.964072  0.035928\n",
       "2  02fa521e1838  0.964072  0.035928\n",
       "3  040e15f562a2  0.964072  0.035928\n",
       "4  046e85c7cc7f  0.964072  0.035928"
      ]
     },
     "execution_count": 22,
     "metadata": {},
     "output_type": "execute_result"
    }
   ],
   "source": [
    "final.iloc[:, 1] = (xgb[:, 0] + lgbm[:, 0] + hgbc[:, 0] + cat[:, 0]) / 4\n",
    "final.iloc[:, -1] = (xgb[:, 1] + lgbm[:, 1] + hgbc[:, 1] + cat[:, 1]) / 4\n",
    "final.to_csv('submission.csv', index=False)\n",
    "submission = pd.read_csv('submission.csv')\n",
    "submission"
   ]
  },
  {
   "cell_type": "code",
   "execution_count": null,
   "id": "833d3ef2",
   "metadata": {
    "papermill": {
     "duration": 0.005649,
     "end_time": "2023-07-25T15:43:13.557910",
     "exception": false,
     "start_time": "2023-07-25T15:43:13.552261",
     "status": "completed"
    },
    "tags": []
   },
   "outputs": [],
   "source": []
  }
 ],
 "metadata": {
  "kernelspec": {
   "display_name": "Python 3",
   "language": "python",
   "name": "python3"
  },
  "language_info": {
   "codemirror_mode": {
    "name": "ipython",
    "version": 3
   },
   "file_extension": ".py",
   "mimetype": "text/x-python",
   "name": "python",
   "nbconvert_exporter": "python",
   "pygments_lexer": "ipython3",
   "version": "3.10.12"
  },
  "papermill": {
   "default_parameters": {},
   "duration": 22.416503,
   "end_time": "2023-07-25T15:43:14.788284",
   "environment_variables": {},
   "exception": null,
   "input_path": "__notebook__.ipynb",
   "output_path": "__notebook__.ipynb",
   "parameters": {},
   "start_time": "2023-07-25T15:42:52.371781",
   "version": "2.4.0"
  }
 },
 "nbformat": 4,
 "nbformat_minor": 5
}
