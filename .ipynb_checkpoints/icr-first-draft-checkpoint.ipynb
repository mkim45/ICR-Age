{
 "cells": [
  {
   "cell_type": "markdown",
   "metadata": {
    "execution": {
     "iopub.execute_input": "2023-08-03T02:00:53.348419Z",
     "iopub.status.busy": "2023-08-03T02:00:53.347952Z",
     "iopub.status.idle": "2023-08-03T02:01:12.077606Z",
     "shell.execute_reply": "2023-08-03T02:01:12.076073Z",
     "shell.execute_reply.started": "2023-08-03T02:00:53.348388Z"
    }
   },
   "source": [
    "## Importing Libraries"
   ]
  },
  {
   "cell_type": "code",
   "execution_count": 1,
   "metadata": {
    "execution": {
     "iopub.execute_input": "2023-08-09T23:47:51.017506Z",
     "iopub.status.busy": "2023-08-09T23:47:51.016249Z",
     "iopub.status.idle": "2023-08-09T23:48:09.354813Z",
     "shell.execute_reply": "2023-08-09T23:48:09.353557Z",
     "shell.execute_reply.started": "2023-08-09T23:47:51.017446Z"
    }
   },
   "outputs": [
    {
     "name": "stdout",
     "output_type": "stream",
     "text": [
      "Looking in links: file:///kaggle/input/pip-packages-icr/pip-packages\n",
      "Processing /kaggle/input/pip-packages-icr/pip-packages/tabpfn-0.1.9-py3-none-any.whl\n",
      "Requirement already satisfied: numpy>=1.21.2 in /opt/conda/lib/python3.10/site-packages (from tabpfn) (1.23.5)\n",
      "Requirement already satisfied: pyyaml>=5.4.1 in /opt/conda/lib/python3.10/site-packages (from tabpfn) (6.0)\n",
      "Requirement already satisfied: requests>=2.23.0 in /opt/conda/lib/python3.10/site-packages (from tabpfn) (2.31.0)\n",
      "Requirement already satisfied: scikit-learn>=0.24.2 in /opt/conda/lib/python3.10/site-packages (from tabpfn) (1.2.2)\n",
      "Requirement already satisfied: torch>=1.9.0 in /opt/conda/lib/python3.10/site-packages (from tabpfn) (2.0.0+cpu)\n",
      "Requirement already satisfied: charset-normalizer<4,>=2 in /opt/conda/lib/python3.10/site-packages (from requests>=2.23.0->tabpfn) (3.1.0)\n",
      "Requirement already satisfied: idna<4,>=2.5 in /opt/conda/lib/python3.10/site-packages (from requests>=2.23.0->tabpfn) (3.4)\n",
      "Requirement already satisfied: urllib3<3,>=1.21.1 in /opt/conda/lib/python3.10/site-packages (from requests>=2.23.0->tabpfn) (1.26.15)\n",
      "Requirement already satisfied: certifi>=2017.4.17 in /opt/conda/lib/python3.10/site-packages (from requests>=2.23.0->tabpfn) (2023.5.7)\n",
      "Requirement already satisfied: scipy>=1.3.2 in /opt/conda/lib/python3.10/site-packages (from scikit-learn>=0.24.2->tabpfn) (1.11.1)\n",
      "Requirement already satisfied: joblib>=1.1.1 in /opt/conda/lib/python3.10/site-packages (from scikit-learn>=0.24.2->tabpfn) (1.2.0)\n",
      "Requirement already satisfied: threadpoolctl>=2.0.0 in /opt/conda/lib/python3.10/site-packages (from scikit-learn>=0.24.2->tabpfn) (3.1.0)\n",
      "Requirement already satisfied: filelock in /opt/conda/lib/python3.10/site-packages (from torch>=1.9.0->tabpfn) (3.12.2)\n",
      "Requirement already satisfied: typing-extensions in /opt/conda/lib/python3.10/site-packages (from torch>=1.9.0->tabpfn) (4.6.3)\n",
      "Requirement already satisfied: sympy in /opt/conda/lib/python3.10/site-packages (from torch>=1.9.0->tabpfn) (1.12)\n",
      "Requirement already satisfied: networkx in /opt/conda/lib/python3.10/site-packages (from torch>=1.9.0->tabpfn) (3.1)\n",
      "Requirement already satisfied: jinja2 in /opt/conda/lib/python3.10/site-packages (from torch>=1.9.0->tabpfn) (3.1.2)\n",
      "Requirement already satisfied: MarkupSafe>=2.0 in /opt/conda/lib/python3.10/site-packages (from jinja2->torch>=1.9.0->tabpfn) (2.1.3)\n",
      "Requirement already satisfied: mpmath>=0.19 in /opt/conda/lib/python3.10/site-packages (from sympy->torch>=1.9.0->tabpfn) (1.3.0)\n",
      "Installing collected packages: tabpfn\n",
      "Successfully installed tabpfn-0.1.9\n"
     ]
    }
   ],
   "source": [
    "!pip install tabpfn --no-index --find-links=file:///kaggle/input/pip-packages-icr/pip-packages\n",
    "!mkdir -p /opt/conda/lib/python3.10/site-packages/tabpfn/models_diff\n",
    "!cp /kaggle/input/pip-packages-icr/pip-packages/prior_diff_real_checkpoint_n_0_epoch_100.cpkt /opt/conda/lib/python3.10/site-packages/tabpfn/models_diff/"
   ]
  },
  {
   "cell_type": "code",
   "execution_count": 2,
   "metadata": {
    "execution": {
     "iopub.execute_input": "2023-08-09T23:48:09.358746Z",
     "iopub.status.busy": "2023-08-09T23:48:09.357852Z",
     "iopub.status.idle": "2023-08-09T23:48:16.499829Z",
     "shell.execute_reply": "2023-08-09T23:48:16.498595Z",
     "shell.execute_reply.started": "2023-08-09T23:48:09.358698Z"
    }
   },
   "outputs": [],
   "source": [
    "import time\n",
    "import numpy as np\n",
    "import pandas as pd\n",
    "import warnings\n",
    "def ignore_warn(*args,**kwargs):\n",
    "    pass\n",
    "warnings.warn = ignore_warn\n",
    "import matplotlib\n",
    "import matplotlib.pyplot as plt\n",
    "import seaborn as sns\n",
    "import optuna\n",
    "from sklearn.preprocessing import LabelEncoder\n",
    "from sklearn.model_selection import cross_val_score, KFold, train_test_split\n",
    "from sklearn.metrics import f1_score\n",
    "import xgboost as xgboost\n",
    "import lightgbm as lgb\n",
    "from catboost import CatBoostClassifier\n",
    "from sklearn.ensemble import RandomForestClassifier, AdaBoostClassifier, HistGradientBoostingClassifier, BaggingClassifier, StackingClassifier, VotingClassifier, GradientBoostingClassifier\n",
    "from sklearn.tree import DecisionTreeClassifier\n",
    "from sklearn.experimental import enable_hist_gradient_boosting  \n",
    "from sklearn.model_selection import cross_val_predict\n",
    "from sklearn.impute import KNNImputer\n",
    "from tabpfn import TabPFNClassifier\n",
    "from sklearn.linear_model import LogisticRegression"
   ]
  },
  {
   "cell_type": "markdown",
   "metadata": {},
   "source": [
    "## Data Preprocessing"
   ]
  },
  {
   "cell_type": "code",
   "execution_count": 3,
   "metadata": {
    "execution": {
     "iopub.execute_input": "2023-08-09T23:48:16.502289Z",
     "iopub.status.busy": "2023-08-09T23:48:16.501253Z",
     "iopub.status.idle": "2023-08-09T23:48:16.555884Z",
     "shell.execute_reply": "2023-08-09T23:48:16.554627Z",
     "shell.execute_reply.started": "2023-08-09T23:48:16.502237Z"
    }
   },
   "outputs": [],
   "source": [
    "train = pd.read_csv('/kaggle/input/icr-identify-age-related-conditions/train.csv')\n",
    "test = pd.read_csv('/kaggle/input/icr-identify-age-related-conditions/test.csv')\n",
    "final = pd.read_csv('/kaggle/input/icr-identify-age-related-conditions/sample_submission.csv')"
   ]
  },
  {
   "cell_type": "code",
   "execution_count": 4,
   "metadata": {
    "execution": {
     "iopub.execute_input": "2023-08-09T23:48:16.559210Z",
     "iopub.status.busy": "2023-08-09T23:48:16.558531Z",
     "iopub.status.idle": "2023-08-09T23:48:16.570780Z",
     "shell.execute_reply": "2023-08-09T23:48:16.569647Z",
     "shell.execute_reply.started": "2023-08-09T23:48:16.559177Z"
    }
   },
   "outputs": [],
   "source": [
    "encoder = LabelEncoder()\n",
    "train.loc[:, 'EJ'] = encoder.fit_transform(train.loc[:, 'EJ'])\n",
    "test.loc[:, 'EJ'] = encoder.fit_transform(test.loc[:, 'EJ'])"
   ]
  },
  {
   "cell_type": "code",
   "execution_count": 5,
   "metadata": {
    "execution": {
     "iopub.execute_input": "2023-08-09T23:48:16.572201Z",
     "iopub.status.busy": "2023-08-09T23:48:16.571910Z",
     "iopub.status.idle": "2023-08-09T23:48:16.639810Z",
     "shell.execute_reply": "2023-08-09T23:48:16.638200Z",
     "shell.execute_reply.started": "2023-08-09T23:48:16.572176Z"
    }
   },
   "outputs": [],
   "source": [
    "imputer = KNNImputer(n_neighbors = 10)\n",
    "train_no_id = train.drop(['Id'], axis = 1)\n",
    "train_no_id = imputer.fit_transform(train_no_id)\n",
    "train_no_id = pd.DataFrame(train_no_id, columns = train.drop(['Id'], axis = 1).columns)\n",
    "train = pd.concat([train['Id'], train_no_id], axis = 1)"
   ]
  },
  {
   "cell_type": "code",
   "execution_count": 6,
   "metadata": {
    "execution": {
     "iopub.execute_input": "2023-08-09T23:48:16.652215Z",
     "iopub.status.busy": "2023-08-09T23:48:16.648023Z",
     "iopub.status.idle": "2023-08-09T23:48:16.694095Z",
     "shell.execute_reply": "2023-08-09T23:48:16.692494Z",
     "shell.execute_reply.started": "2023-08-09T23:48:16.652143Z"
    }
   },
   "outputs": [],
   "source": [
    "# taken directly from https://www.kaggle.com/code/chensilin/icr-eda-lightgbm-xgboost-optuna/input\n",
    "seed = 617\n",
    "zero, one = np.bincount(train.loc[:, 'Class'])\n",
    "one_df = train.iloc[(train.loc[:, 'Class'] == 1).tolist(), :] \n",
    "zero_df = train.iloc[(train.loc[:, 'Class'] == 0).tolist(), :]\n",
    "zero_df = zero_df.sample(n=one, random_state=seed)\n",
    "oversampled_df = pd.concat([train.iloc[(train.loc[:, 'Class'] == 0).tolist(), :], one_df, one_df, one_df, one_df])\n",
    "oversampled_df = oversampled_df.sample(frac=1, random_state=seed)"
   ]
  },
  {
   "cell_type": "code",
   "execution_count": 7,
   "metadata": {
    "execution": {
     "iopub.execute_input": "2023-08-09T23:48:16.706019Z",
     "iopub.status.busy": "2023-08-09T23:48:16.701954Z",
     "iopub.status.idle": "2023-08-09T23:48:16.720919Z",
     "shell.execute_reply": "2023-08-09T23:48:16.719403Z",
     "shell.execute_reply.started": "2023-08-09T23:48:16.705949Z"
    }
   },
   "outputs": [],
   "source": [
    "# taken directly from https://www.kaggle.com/code/chensilin/icr-eda-lightgbm-xgboost-optuna/input\n",
    "def balanced_log_loss(y_true, y_pred):\n",
    "    N_0 = np.sum(1 - y_true)\n",
    "    N_1 = np.sum(y_true)\n",
    "    w_0 = 1 / N_0\n",
    "    w_1 = 1 / N_1\n",
    "    p_1 = np.clip(y_pred[:, 1], 1e-15, 1-1e-15)\n",
    "    p_0 = 1 - p_1\n",
    "    log_loss_0 = -np.sum((1 - y_true) * np.log(p_0))\n",
    "    log_loss_1 = -np.sum(y_true * np.log(p_1))\n",
    "    balanced_log_loss = (w_0 * log_loss_0 + w_1 * log_loss_1) / 2\n",
    "    return balanced_log_loss"
   ]
  },
  {
   "cell_type": "code",
   "execution_count": 8,
   "metadata": {
    "execution": {
     "iopub.execute_input": "2023-08-09T23:48:16.732881Z",
     "iopub.status.busy": "2023-08-09T23:48:16.728586Z",
     "iopub.status.idle": "2023-08-09T23:48:16.743359Z",
     "shell.execute_reply": "2023-08-09T23:48:16.742115Z",
     "shell.execute_reply.started": "2023-08-09T23:48:16.732819Z"
    }
   },
   "outputs": [],
   "source": [
    "# taken directly from https://www.kaggle.com/code/chensilin/icr-eda-lightgbm-xgboost-optuna/input\n",
    "n_folds = 10\n",
    "def CV(model, data, loss_function):\n",
    "    skf = KFold(n_splits=n_folds, shuffle=True, random_state=seed)\n",
    "    kfold = skf.split(data.iloc[:, 1:-1], data.iloc[:, -1])\n",
    "    losses = []\n",
    "    for (train_id, val_id) in kfold:\n",
    "        x_train = data.iloc[train_id, 1:-1]\n",
    "        y_train = data.iloc[train_id, -1]\n",
    "        x_val = data.iloc[val_id, 1:-1]\n",
    "        y_val = data.iloc[val_id, -1]\n",
    "        model.fit(x_train, y_train)\n",
    "        pred_val = model.predict_proba(x_val)\n",
    "        loss = loss_function(y_val, pred_val)\n",
    "        losses.append(loss)\n",
    "    return np.sum(losses) / n_folds"
   ]
  },
  {
   "cell_type": "code",
   "execution_count": 9,
   "metadata": {
    "execution": {
     "iopub.execute_input": "2023-08-09T23:48:16.746057Z",
     "iopub.status.busy": "2023-08-09T23:48:16.745195Z",
     "iopub.status.idle": "2023-08-09T23:48:16.760449Z",
     "shell.execute_reply": "2023-08-09T23:48:16.759224Z",
     "shell.execute_reply.started": "2023-08-09T23:48:16.746014Z"
    }
   },
   "outputs": [],
   "source": [
    "X_train = oversampled_df.drop(columns=['Class', 'Id'])\n",
    "y_train = oversampled_df['Class']"
   ]
  },
  {
   "cell_type": "markdown",
   "metadata": {},
   "source": [
    "## Optuna Trial Exploration"
   ]
  },
  {
   "cell_type": "code",
   "execution_count": 10,
   "metadata": {
    "execution": {
     "iopub.execute_input": "2023-08-09T23:48:16.766268Z",
     "iopub.status.busy": "2023-08-09T23:48:16.765877Z",
     "iopub.status.idle": "2023-08-09T23:48:16.775707Z",
     "shell.execute_reply": "2023-08-09T23:48:16.774857Z",
     "shell.execute_reply.started": "2023-08-09T23:48:16.766235Z"
    }
   },
   "outputs": [],
   "source": [
    "def xgb(trial):\n",
    "    param = {\n",
    "        'n_estimators': trial.suggest_int('n_estimators', 50, 200, 10),\n",
    "        'lambda': trial.suggest_loguniform('lambda', 1e-3, 10.0),\n",
    "        'alpha': trial.suggest_loguniform('alpha', 1e-3, 10.0),\n",
    "        'colsample_bytree': trial.suggest_categorical('colsample_bytree', [0.3, 0.4, 0.5, 0.6, 0.7, 0.8, 0.9, 1.0]),\n",
    "        'subsample': trial.suggest_categorical('subsample', [0.4, 0.5, 0.6, 0.7, 0.8, 1.0]),\n",
    "        'learning_rate': trial.suggest_float('learning_rate', 1e-5, 1e-1),\n",
    "        'max_depth': trial.suggest_int('max_depth', 3, 20),\n",
    "        'min_child_weight': trial.suggest_int('min_child_weight', 1, 50),\n",
    "    }\n",
    "    model = xgb.XGBClassifier(**param, random_state = seed)\n",
    "    score = CV(model, oversampled_df, balanced_log_loss)\n",
    "    return score"
   ]
  },
  {
   "cell_type": "code",
   "execution_count": 11,
   "metadata": {
    "execution": {
     "iopub.execute_input": "2023-08-09T23:48:16.777970Z",
     "iopub.status.busy": "2023-08-09T23:48:16.777549Z",
     "iopub.status.idle": "2023-08-09T23:48:16.794323Z",
     "shell.execute_reply": "2023-08-09T23:48:16.793387Z",
     "shell.execute_reply.started": "2023-08-09T23:48:16.777931Z"
    }
   },
   "outputs": [],
   "source": [
    "def lgbm(trial):\n",
    "    param = {\n",
    "        'n_estimators': trial.suggest_int('n_estimators', 50, 200, 10),\n",
    "        'reg_alpha': trial.suggest_loguniform('reg_alpha', 1e-3, 10.0),\n",
    "        'reg_lambda': trial.suggest_loguniform('reg_lambda', 1e-3, 10.0),\n",
    "        'colsample_bytree': trial.suggest_categorical('colsample_bytree', [0.3,0.4,0.5,0.6,0.7,0.8,0.9,1.0]),\n",
    "        'subsample': trial.suggest_categorical('subsample', [0.4,0.5,0.6,0.7,0.8,1.0]),\n",
    "        'learning_rate': trial.suggest_float('learning_rate', 1e-5, 1e-1),\n",
    "        'max_depth': trial.suggest_int('max_depth', 3, 20),\n",
    "        'num_leaves' : trial.suggest_int('num_leaves', 10, 50),\n",
    "        'min_child_samples': trial.suggest_int('min_child_samples', 1, 50),\n",
    "    }\n",
    "    model = lgb.LGBMClassifier(**param, random_state = seed)\n",
    "    score = CV(model, oversampled_df, balanced_log_loss)\n",
    "    return score"
   ]
  },
  {
   "cell_type": "code",
   "execution_count": 12,
   "metadata": {
    "execution": {
     "iopub.execute_input": "2023-08-09T23:48:16.796409Z",
     "iopub.status.busy": "2023-08-09T23:48:16.795771Z",
     "iopub.status.idle": "2023-08-09T23:48:16.809982Z",
     "shell.execute_reply": "2023-08-09T23:48:16.809127Z",
     "shell.execute_reply.started": "2023-08-09T23:48:16.796376Z"
    }
   },
   "outputs": [],
   "source": [
    "def catboost(trial):\n",
    "    param = {\n",
    "        'n_estimators': trial.suggest_int('n_estimators', 50, 150, 10),\n",
    "        'reg_lambda': trial.suggest_loguniform('lambda', 1e-3, 10.0),\n",
    "        'colsample_bylevel': trial.suggest_categorical('colsample_bylevel', [0.3, 0.4, 0.5, 0.6, 0.7, 0.8, 0.9, 1.0]),\n",
    "        'subsample': trial.suggest_categorical('subsample', [0.4, 0.5, 0.6, 0.7, 0.8, 1.0]),\n",
    "        'learning_rate': trial.suggest_float('learning_rate', 1e-4, 1e-1),\n",
    "        'max_depth': trial.suggest_int('max_depth', 3, 10),\n",
    "        'one_hot_max_size': trial.suggest_int('one_hot_max_size', 2, 10),\n",
    "    }\n",
    "    model = CatBoostClassifier(**param, random_seed=seed, verbose=False)\n",
    "    score = CV(model, oversampled_df, balanced_log_loss)\n",
    "    return score"
   ]
  },
  {
   "cell_type": "code",
   "execution_count": 13,
   "metadata": {
    "execution": {
     "iopub.execute_input": "2023-08-09T23:48:16.812349Z",
     "iopub.status.busy": "2023-08-09T23:48:16.811621Z",
     "iopub.status.idle": "2023-08-09T23:48:16.828917Z",
     "shell.execute_reply": "2023-08-09T23:48:16.827794Z",
     "shell.execute_reply.started": "2023-08-09T23:48:16.812291Z"
    }
   },
   "outputs": [],
   "source": [
    "def hgbc(trial):\n",
    "    param = {\n",
    "        'learning_rate': trial.suggest_float('learning_rate', 0.0001, 1.0),\n",
    "        'max_depth': trial.suggest_int('max_depth', 3, 15),\n",
    "        'min_samples_leaf': trial.suggest_int('min_samples_leaf', 1, 20),\n",
    "        'max_iter': trial.suggest_int('max_iter', 50, 200, 10),\n",
    "    }\n",
    "    model = HistGradientBoostingClassifier(**param, random_state=seed)\n",
    "    score = CV(model, oversampled_df, balanced_log_loss)\n",
    "    return score"
   ]
  },
  {
   "cell_type": "code",
   "execution_count": 14,
   "metadata": {
    "execution": {
     "iopub.execute_input": "2023-08-09T23:48:16.831170Z",
     "iopub.status.busy": "2023-08-09T23:48:16.830181Z",
     "iopub.status.idle": "2023-08-09T23:48:16.843898Z",
     "shell.execute_reply": "2023-08-09T23:48:16.842424Z",
     "shell.execute_reply.started": "2023-08-09T23:48:16.831138Z"
    }
   },
   "outputs": [],
   "source": [
    "def bagged_dt(trial):\n",
    "    param = {\n",
    "        'n_estimators': trial.suggest_int('n_estimators', 400, 600, 20),\n",
    "        'max_samples': trial.suggest_float('max_samples', 1e-2, 1.0),\n",
    "        'max_features': trial.suggest_float('max_features', 1e-2, 1.0),\n",
    "        'bootstrap': trial.suggest_categorical('bootstrap', [False, True]),\n",
    "        'bootstrap_features': trial.suggest_categorical('bootstrap_features', [False, True]),\n",
    "    }\n",
    "    model = BaggingClassifier(**param, base_estimator=DecisionTreeClassifier(), random_state=seed)\n",
    "    score = CV(model, oversampled_df, balanced_log_loss)\n",
    "    return score"
   ]
  },
  {
   "cell_type": "code",
   "execution_count": 15,
   "metadata": {
    "execution": {
     "iopub.execute_input": "2023-08-09T23:48:16.846225Z",
     "iopub.status.busy": "2023-08-09T23:48:16.845469Z",
     "iopub.status.idle": "2023-08-09T23:48:16.857983Z",
     "shell.execute_reply": "2023-08-09T23:48:16.856956Z",
     "shell.execute_reply.started": "2023-08-09T23:48:16.846185Z"
    }
   },
   "outputs": [],
   "source": [
    "def rf(trial):\n",
    "    param = {\n",
    "        'n_estimators': trial.suggest_int('n_estimators', 300, 500, 20),\n",
    "        'max_depth': trial.suggest_int('max_depth', 5, 25),\n",
    "        'min_samples_split': trial.suggest_int('min_samples_split', 2, 20),\n",
    "        'min_samples_leaf': trial.suggest_int('min_samples_leaf', 1, 20),\n",
    "        'max_features': trial.suggest_int('max_features', 1, 56),\n",
    "        'bootstrap': trial.suggest_categorical('bootstrap', [True, False]),\n",
    "    }\n",
    "    model = RandomForestClassifier(**param, random_state=seed)\n",
    "    score = CV(model, oversampled_df, balanced_log_loss)\n",
    "    return score"
   ]
  },
  {
   "cell_type": "code",
   "execution_count": 16,
   "metadata": {
    "execution": {
     "iopub.execute_input": "2023-08-09T23:48:16.860320Z",
     "iopub.status.busy": "2023-08-09T23:48:16.859395Z",
     "iopub.status.idle": "2023-08-09T23:48:16.875828Z",
     "shell.execute_reply": "2023-08-09T23:48:16.874646Z",
     "shell.execute_reply.started": "2023-08-09T23:48:16.860261Z"
    }
   },
   "outputs": [],
   "source": [
    "def adaboost(trial):\n",
    "    param = {\n",
    "        'n_estimators': trial.suggest_int('n_estimators', 400, 500, 20),\n",
    "        'learning_rate': trial.suggest_loguniform('learning_rate', 0.0001, 1),\n",
    "        'base_estimator': DecisionTreeClassifier(max_depth=trial.suggest_int('max_depth', 1, 20)),\n",
    "    }\n",
    "    model = AdaBoostClassifier(**param, random_state=seed)\n",
    "    score = CV(model, oversampled_df, balanced_log_loss)\n",
    "    return score"
   ]
  },
  {
   "cell_type": "code",
   "execution_count": 17,
   "metadata": {
    "execution": {
     "iopub.execute_input": "2023-08-09T23:48:16.878261Z",
     "iopub.status.busy": "2023-08-09T23:48:16.877806Z",
     "iopub.status.idle": "2023-08-09T23:48:16.891915Z",
     "shell.execute_reply": "2023-08-09T23:48:16.891010Z",
     "shell.execute_reply.started": "2023-08-09T23:48:16.878219Z"
    }
   },
   "outputs": [],
   "source": [
    "def gradient(trial):\n",
    "    param = {\n",
    "        'n_estimators': trial.suggest_int('n_estimators', 10, 500, 20),\n",
    "        'learning_rate': trial.suggest_loguniform('learning_rate', 0.0001, 1.0),\n",
    "        'max_depth': trial.suggest_int('max_depth', 3, 20),\n",
    "        'min_samples_split': trial.suggest_int('min_samples_split', 2, 20),\n",
    "        'min_samples_leaf': trial.suggest_int('min_samples_leaf', 1, 20),\n",
    "        'subsample': trial.suggest_float('subsample', 0.3, 1.0),\n",
    "    }\n",
    "    model = GradientBoostingClassifier(**param, random_state=seed)\n",
    "    score = CV(model, oversampled_df, balanced_log_loss)\n",
    "    return score"
   ]
  },
  {
   "cell_type": "code",
   "execution_count": 18,
   "metadata": {
    "execution": {
     "iopub.execute_input": "2023-08-09T23:48:16.894654Z",
     "iopub.status.busy": "2023-08-09T23:48:16.893549Z",
     "iopub.status.idle": "2023-08-09T23:48:16.906506Z",
     "shell.execute_reply": "2023-08-09T23:48:16.905534Z",
     "shell.execute_reply.started": "2023-08-09T23:48:16.894618Z"
    }
   },
   "outputs": [],
   "source": [
    "def tabpfn(trial):\n",
    "    param = {\n",
    "        'N_ensemble_configurations': trial.suggest_int('N_ensemble_configurations', 20, 70),\n",
    "    }\n",
    "    model = TabPFNClassifier(**param)\n",
    "    score = CV(model, oversampled_df, balanced_log_loss)\n",
    "    return score"
   ]
  },
  {
   "cell_type": "code",
   "execution_count": 19,
   "metadata": {
    "execution": {
     "iopub.execute_input": "2023-08-09T23:48:16.908832Z",
     "iopub.status.busy": "2023-08-09T23:48:16.908111Z",
     "iopub.status.idle": "2023-08-09T23:48:16.919357Z",
     "shell.execute_reply": "2023-08-09T23:48:16.918550Z",
     "shell.execute_reply.started": "2023-08-09T23:48:16.908791Z"
    }
   },
   "outputs": [],
   "source": [
    "def catboost_meta(trial):\n",
    "    param = {\n",
    "        'n_estimators': trial.suggest_int('n_estimators', 50, 150, 10),\n",
    "        'reg_lambda': trial.suggest_loguniform('lambda', 1e-3, 0.1),\n",
    "        'colsample_bylevel': trial.suggest_categorical('colsample_bylevel', [0.3, 0.4, 0.5, 0.6, 0.7, 0.8, 0.9, 1.0]),\n",
    "        'subsample': trial.suggest_categorical('subsample', [0.4, 0.5, 0.6, 0.7, 0.8, 1.0]),\n",
    "        'learning_rate': trial.suggest_float('learning_rate', 1e-3, 1e-1),\n",
    "        'max_depth': trial.suggest_int('max_depth', 3, 10),\n",
    "        'one_hot_max_size': trial.suggest_int('one_hot_max_size', 2, 10),\n",
    "    }\n",
    "    model = StackingClassifier(\n",
    "        estimators=[(\"catboost\", cat_model), (\"hist_gradient_boosting\", hgbc_model),\n",
    "                    (\"lgbm\", lgbm_model), (\"xgboost\", xgb_model)],\n",
    "        final_estimator=CatBoostClassifier(**param, random_state=seed, verbose=False)\n",
    "    )\n",
    "    score = CV(model, oversampled_df, balanced_log_loss)\n",
    "    return score"
   ]
  },
  {
   "cell_type": "code",
   "execution_count": 20,
   "metadata": {
    "execution": {
     "iopub.execute_input": "2023-08-09T23:48:16.921647Z",
     "iopub.status.busy": "2023-08-09T23:48:16.920936Z",
     "iopub.status.idle": "2023-08-09T23:48:16.938333Z",
     "shell.execute_reply": "2023-08-09T23:48:16.937441Z",
     "shell.execute_reply.started": "2023-08-09T23:48:16.921607Z"
    }
   },
   "outputs": [],
   "source": [
    "def xgb_meta(trial):\n",
    "    param = {\n",
    "        'n_estimators': trial.suggest_int('n_estimators', 50, 200, 10),\n",
    "        'lambda': trial.suggest_loguniform('lambda', 1e-3, 0.1),\n",
    "        'alpha': trial.suggest_loguniform('alpha', 1e-3, 0.1),\n",
    "        'colsample_bytree': trial.suggest_categorical('colsample_bytree', [0.3, 0.4, 0.5, 0.6, 0.7, 0.8, 0.9, 1.0]),\n",
    "        'subsample': trial.suggest_categorical('subsample', [0.4, 0.5, 0.6, 0.7, 0.8, 1.0]),\n",
    "        'learning_rate': trial.suggest_float('learning_rate', 1e-4, 1e-1),\n",
    "        'max_depth': trial.suggest_int('max_depth', 3, 20),\n",
    "        'min_child_weight': trial.suggest_int('min_child_weight', 1, 50),\n",
    "    }\n",
    "    model = StackingClassifier(\n",
    "        estimators=[(\"catboost\", cat_model), (\"hist_gradient_boosting\", hgbc_model),\n",
    "                    (\"lgbm\", lgbm_model), (\"xgboost\", xgb_model)],\n",
    "        final_estimator=xgboost.XGBClassifier(**param, random_state=seed)\n",
    "    )\n",
    "    score = CV(model, oversampled_df, balanced_log_loss)\n",
    "    return score"
   ]
  },
  {
   "cell_type": "code",
   "execution_count": 21,
   "metadata": {
    "execution": {
     "iopub.execute_input": "2023-08-09T23:48:16.940327Z",
     "iopub.status.busy": "2023-08-09T23:48:16.939741Z",
     "iopub.status.idle": "2023-08-09T23:48:16.952446Z",
     "shell.execute_reply": "2023-08-09T23:48:16.951355Z",
     "shell.execute_reply.started": "2023-08-09T23:48:16.940275Z"
    }
   },
   "outputs": [],
   "source": [
    "def hgbc_meta(trial):\n",
    "    param = {\n",
    "        'learning_rate': trial.suggest_float('learning_rate', 0.0001, 1.0),\n",
    "        'max_depth': trial.suggest_int('max_depth', 3, 15),\n",
    "        'min_samples_leaf': trial.suggest_int('min_samples_leaf', 1, 20),\n",
    "        'max_iter': trial.suggest_int('max_iter', 50, 200, 10),\n",
    "    }\n",
    "    model = StackingClassifier(\n",
    "        estimators=[(\"catboost\", cat_model), (\"hist_gradient_boosting\", hgbc_model),\n",
    "                    (\"lgbm\", lgbm_model), (\"xgboost\", xgb_model)],\n",
    "        final_estimator=HistGradientBoostingClassifier(**param, random_state=seed)\n",
    "    )\n",
    "    score = CV(model, oversampled_df, balanced_log_loss)\n",
    "    return score"
   ]
  },
  {
   "cell_type": "code",
   "execution_count": 22,
   "metadata": {
    "execution": {
     "iopub.execute_input": "2023-08-09T23:48:16.954609Z",
     "iopub.status.busy": "2023-08-09T23:48:16.954016Z",
     "iopub.status.idle": "2023-08-09T23:48:16.971917Z",
     "shell.execute_reply": "2023-08-09T23:48:16.970757Z",
     "shell.execute_reply.started": "2023-08-09T23:48:16.954579Z"
    }
   },
   "outputs": [],
   "source": [
    "def lgbm_meta(trial):\n",
    "    param = {\n",
    "        'n_estimators': trial.suggest_int('n_estimators', 50, 200, 10),\n",
    "        'reg_alpha': trial.suggest_loguniform('reg_alpha', 1e-3, 0.1),\n",
    "        'reg_lambda': trial.suggest_loguniform('reg_lambda', 1e-3, 0.1),\n",
    "        'colsample_bytree': trial.suggest_categorical('colsample_bytree', [0.3,0.4,0.5,0.6,0.7,0.8,0.9,1.0]),\n",
    "        'subsample': trial.suggest_categorical('subsample', [0.4,0.5,0.6,0.7,0.8,1.0]),\n",
    "        'learning_rate': trial.suggest_float('learning_rate', 1e-4, 1e-1),\n",
    "        'max_depth': trial.suggest_int('max_depth', 3, 20),\n",
    "        'num_leaves' : trial.suggest_int('num_leaves', 10, 50),\n",
    "        'min_child_samples': trial.suggest_int('min_child_samples', 1, 50),\n",
    "    }\n",
    "    model = StackingClassifier(\n",
    "        estimators=[(\"catboost\", cat_model), (\"hist_gradient_boosting\", hgbc_model),\n",
    "                    (\"lgbm\", lgbm_model), (\"xgboost\", xgb_model)],\n",
    "        final_estimator=lgb.LGBMClassifier(**param, random_state=seed)\n",
    "    )\n",
    "    score = CV(model, oversampled_df, balanced_log_loss)\n",
    "    return score"
   ]
  },
  {
   "cell_type": "code",
   "execution_count": 23,
   "metadata": {
    "execution": {
     "iopub.execute_input": "2023-08-09T23:48:16.973667Z",
     "iopub.status.busy": "2023-08-09T23:48:16.973256Z",
     "iopub.status.idle": "2023-08-09T23:48:16.985712Z",
     "shell.execute_reply": "2023-08-09T23:48:16.984708Z",
     "shell.execute_reply.started": "2023-08-09T23:48:16.973627Z"
    }
   },
   "outputs": [],
   "source": [
    "def logistic_meta(trial):\n",
    "    param = {\n",
    "        'C': trial.suggest_loguniform('C', 1e-4, 1e4),\n",
    "        'penalty': trial.suggest_categorical('penalty', [None, 'l1', 'l2', 'elasticnet']),\n",
    "        'solver': trial.suggest_categorical('solver', ['lbfgs', 'liblinear', 'newton-cg', 'newton-cholesky', 'sag', 'saga']),\n",
    "        'l1_ratio': trial.suggest_float('l1_ratio', 1e-3, 1)\n",
    "    }\n",
    "    model = StackingClassifier(\n",
    "        estimators=[(\"catboost\", cat_model), (\"tabpfn\", tab_lower_model),\n",
    "                    (\"lgbm\", lgbm_model), (\"xgboost\", xgb_model), (\"adaboost\", ada_model)],\n",
    "        final_estimator=LogisticRegression(**param, random_state=seed)\n",
    "    )\n",
    "    score = CV(model, oversampled_df, balanced_log_loss)\n",
    "    return score"
   ]
  },
  {
   "cell_type": "code",
   "execution_count": 24,
   "metadata": {
    "execution": {
     "iopub.execute_input": "2023-08-09T23:48:16.987684Z",
     "iopub.status.busy": "2023-08-09T23:48:16.986879Z",
     "iopub.status.idle": "2023-08-09T23:48:17.004816Z",
     "shell.execute_reply": "2023-08-09T23:48:17.003582Z",
     "shell.execute_reply.started": "2023-08-09T23:48:16.987645Z"
    }
   },
   "outputs": [],
   "source": [
    "#cv_scores = []\n",
    "#for i in range(1, 70):\n",
    "#    cv_scores.append(CV(TabPFNClassifier(N_ensemble_configurations=i).fit(X_train, y_train), oversampled_df, balanced_log_loss))\n",
    "#    print(\"Finished scoring iteration: \", i)\n",
    "#print(cv_scores)\n",
    "# tabpfn_cv_scores = [0.09816634530404814, 0.06528742315606546, 0.07164710694330415, 0.0638588867076252, 0.06678059459477922, \n",
    "#                     0.06248073905402122, 0.06022244222278583, 0.05686026255684793, 0.05689105574304978, 0.055132598406416614, \n",
    "#                     0.05647036841993689, 0.05590923914786228, 0.05717749825124045, 0.056481389014045424, 0.05585544466795472, \n",
    "#                     0.05429705547774719, 0.05411289464998228, 0.053594943435855504, 0.05330166286267148, 0.05248949135011284, \n",
    "#                     0.05360971138750451, 0.053185855277044544, 0.05442991634568051, 0.054041848842559824, 0.05442855850281584, \n",
    "#                     0.054167697496943834, 0.05464900294529094, 0.05452444890518441, 0.05537642870820436, 0.05530201264890257, \n",
    "#                     0.05508454012654403, 0.05454951688798497, 0.055158959487388484, 0.05487638328640315, 0.05475942057273066, \n",
    "#                     0.054363820012922115, 0.05444429556509187, 0.05417317343226857, 0.05412096729914397, 0.05351279626269752, \n",
    "#                     0.05340841118461925, 0.053096957471938544, 0.053109073061545865, 0.052836328953108344, 0.05318516573142357, \n",
    "#                     0.053126580472636464, 0.05360923926329571, 0.053408860579671494, 0.05393021365358299, 0.05382474507832467, \n",
    "#                     0.05371423691544534, 0.05321754224273796, 0.053625478068834165, 0.05351067456999581, 0.053520923141210576, \n",
    "#                     0.05313957104926818, 0.053584265552239566, 0.05343326935461631, 0.05377785617124854, 0.05370929324862032, \n",
    "#                     0.053595077061113806, 0.053302678221229506, 0.053333914849297705, 0.053023531220070495, 0.0529506407276686, \n",
    "#                     0.052713977186699276, 0.05300799494093289, 0.05295979717175845, 0.05318406292878591]"
   ]
  },
  {
   "cell_type": "code",
   "execution_count": 25,
   "metadata": {
    "execution": {
     "iopub.execute_input": "2023-08-09T23:48:17.006844Z",
     "iopub.status.busy": "2023-08-09T23:48:17.006216Z",
     "iopub.status.idle": "2023-08-09T23:48:17.024016Z",
     "shell.execute_reply": "2023-08-09T23:48:17.022894Z",
     "shell.execute_reply.started": "2023-08-09T23:48:17.006802Z"
    }
   },
   "outputs": [],
   "source": [
    "# start = time.time()\n",
    "\n",
    "# study1 = optuna.create_study(direction='minimize')\n",
    "# n_trials = 100\n",
    "# study1.optimize(logistic_meta, n_trials=n_trials)\n",
    "# print('Best trial:', study1.best_trial.params)\n",
    "# print('Best values:', study1.best_value)\n",
    "\n",
    "# end = time.time()\n",
    "# print('It has taken {:.5f} seconds to search for the best Hyperparameter'.format(end-start))"
   ]
  },
  {
   "cell_type": "markdown",
   "metadata": {},
   "source": [
    "## Creating Models"
   ]
  },
  {
   "cell_type": "code",
   "execution_count": 26,
   "metadata": {
    "execution": {
     "iopub.execute_input": "2023-08-09T23:48:17.026017Z",
     "iopub.status.busy": "2023-08-09T23:48:17.025430Z",
     "iopub.status.idle": "2023-08-09T23:48:17.042105Z",
     "shell.execute_reply": "2023-08-09T23:48:17.041133Z",
     "shell.execute_reply.started": "2023-08-09T23:48:17.025986Z"
    }
   },
   "outputs": [],
   "source": [
    "# CV(TabPFNClassifier(N_ensemble_configurations=24).fit(X_train, y_train), oversampled_df, balanced_log_loss)\n",
    "# # for each test performance on 1s and 0s"
   ]
  },
  {
   "cell_type": "code",
   "execution_count": 27,
   "metadata": {
    "execution": {
     "iopub.execute_input": "2023-08-09T23:48:17.043963Z",
     "iopub.status.busy": "2023-08-09T23:48:17.043453Z",
     "iopub.status.idle": "2023-08-09T23:48:17.056672Z",
     "shell.execute_reply": "2023-08-09T23:48:17.055560Z",
     "shell.execute_reply.started": "2023-08-09T23:48:17.043932Z"
    }
   },
   "outputs": [],
   "source": [
    "#add way to do rule-based and adaptive ensembling\n",
    "#see what others did"
   ]
  },
  {
   "cell_type": "code",
   "execution_count": 28,
   "metadata": {
    "execution": {
     "iopub.execute_input": "2023-08-09T23:48:17.064632Z",
     "iopub.status.busy": "2023-08-09T23:48:17.063908Z",
     "iopub.status.idle": "2023-08-09T23:48:17.392779Z",
     "shell.execute_reply": "2023-08-09T23:48:17.391818Z",
     "shell.execute_reply.started": "2023-08-09T23:48:17.064585Z"
    }
   },
   "outputs": [],
   "source": [
    "xgb_model = xgboost.XGBClassifier(n_estimators=200, reg_lambda=0.15325900166549988, reg_alpha=0.0044700650580230235, \n",
    "                              colsample_bytree=0.3, subsample=1.0, learning_rate=0.09975673376458177, \n",
    "                              max_depth=11, min_child_weight=2, random_state=seed).fit(X_train, y_train)"
   ]
  },
  {
   "cell_type": "code",
   "execution_count": 29,
   "metadata": {
    "execution": {
     "iopub.execute_input": "2023-08-09T23:48:17.399320Z",
     "iopub.status.busy": "2023-08-09T23:48:17.398279Z",
     "iopub.status.idle": "2023-08-09T23:48:18.520929Z",
     "shell.execute_reply": "2023-08-09T23:48:18.519761Z",
     "shell.execute_reply.started": "2023-08-09T23:48:17.399254Z"
    }
   },
   "outputs": [],
   "source": [
    "lgbm_model = lgb.LGBMClassifier(n_estimators=200, reg_alpha=0.0016725623110267532, reg_lambda=0.0038043774323061946, \n",
    "                                 colsample_bytree=0.3, subsample=0.4, learning_rate=0.09367295744238123, max_depth=11, \n",
    "                                 num_leaves=50, min_child_samples=26, random_state=seed).fit(X_train, y_train)"
   ]
  },
  {
   "cell_type": "code",
   "execution_count": 30,
   "metadata": {
    "execution": {
     "iopub.execute_input": "2023-08-09T23:48:18.522608Z",
     "iopub.status.busy": "2023-08-09T23:48:18.522275Z",
     "iopub.status.idle": "2023-08-09T23:48:20.827186Z",
     "shell.execute_reply": "2023-08-09T23:48:20.826036Z",
     "shell.execute_reply.started": "2023-08-09T23:48:18.522580Z"
    }
   },
   "outputs": [],
   "source": [
    "cat_model = CatBoostClassifier(n_estimators=70, reg_lambda=0.01606738047167, colsample_bylevel=0.3, \n",
    "                              subsample=0.7, learning_rate=0.0865881098465479, \n",
    "                              max_depth=9, one_hot_max_size=10, random_state=seed, verbose=False).fit(X_train, y_train)"
   ]
  },
  {
   "cell_type": "code",
   "execution_count": 31,
   "metadata": {
    "execution": {
     "iopub.execute_input": "2023-08-09T23:48:20.828955Z",
     "iopub.status.busy": "2023-08-09T23:48:20.828604Z",
     "iopub.status.idle": "2023-08-09T23:48:21.475670Z",
     "shell.execute_reply": "2023-08-09T23:48:21.474515Z",
     "shell.execute_reply.started": "2023-08-09T23:48:20.828924Z"
    }
   },
   "outputs": [],
   "source": [
    "hgbc_model = HistGradientBoostingClassifier(max_iter=170, max_depth=4, min_samples_leaf=9,\n",
    "                                         learning_rate=0.17193627413211837, random_state=seed).fit(X_train, y_train)"
   ]
  },
  {
   "cell_type": "code",
   "execution_count": 32,
   "metadata": {
    "execution": {
     "iopub.execute_input": "2023-08-09T23:48:21.477721Z",
     "iopub.status.busy": "2023-08-09T23:48:21.477250Z",
     "iopub.status.idle": "2023-08-09T23:48:33.617780Z",
     "shell.execute_reply": "2023-08-09T23:48:33.616721Z",
     "shell.execute_reply.started": "2023-08-09T23:48:21.477678Z"
    }
   },
   "outputs": [],
   "source": [
    "dt_model = BaggingClassifier(base_estimator=DecisionTreeClassifier(), n_estimators=500, max_samples=0.994711990802652,\n",
    "                           max_features=0.7844039008030275, bootstrap=False, bootstrap_features=True, random_state=seed).fit(X_train, y_train)"
   ]
  },
  {
   "cell_type": "code",
   "execution_count": 33,
   "metadata": {
    "execution": {
     "iopub.execute_input": "2023-08-09T23:48:33.620466Z",
     "iopub.status.busy": "2023-08-09T23:48:33.619346Z",
     "iopub.status.idle": "2023-08-09T23:48:36.150408Z",
     "shell.execute_reply": "2023-08-09T23:48:36.149158Z",
     "shell.execute_reply.started": "2023-08-09T23:48:33.620424Z"
    }
   },
   "outputs": [],
   "source": [
    "rf_model = RandomForestClassifier(n_estimators=420, max_depth=13, min_samples_split=3, \n",
    "                                  min_samples_leaf=1, max_features=9, bootstrap=False, random_state=seed).fit(X_train, y_train)"
   ]
  },
  {
   "cell_type": "code",
   "execution_count": 34,
   "metadata": {
    "execution": {
     "iopub.execute_input": "2023-08-09T23:48:36.152495Z",
     "iopub.status.busy": "2023-08-09T23:48:36.152034Z",
     "iopub.status.idle": "2023-08-09T23:48:44.160885Z",
     "shell.execute_reply": "2023-08-09T23:48:44.159914Z",
     "shell.execute_reply.started": "2023-08-09T23:48:36.152452Z"
    }
   },
   "outputs": [],
   "source": [
    "ada_model = AdaBoostClassifier(n_estimators=420, learning_rate=0.6794771047521856, \n",
    "                               base_estimator=DecisionTreeClassifier(max_depth=4), random_state=seed).fit(X_train, y_train)"
   ]
  },
  {
   "cell_type": "code",
   "execution_count": 35,
   "metadata": {
    "execution": {
     "iopub.execute_input": "2023-08-09T23:48:44.162615Z",
     "iopub.status.busy": "2023-08-09T23:48:44.162299Z",
     "iopub.status.idle": "2023-08-09T23:48:47.424604Z",
     "shell.execute_reply": "2023-08-09T23:48:47.423469Z",
     "shell.execute_reply.started": "2023-08-09T23:48:44.162589Z"
    }
   },
   "outputs": [],
   "source": [
    "gradient_model = GradientBoostingClassifier(n_estimators=170, learning_rate=0.05893342084840253, max_depth=6, \n",
    "                                            min_samples_split=16, min_samples_leaf=11, subsample=0.9112739951878389, random_state=seed).fit(X_train, y_train)"
   ]
  },
  {
   "cell_type": "code",
   "execution_count": 36,
   "metadata": {
    "execution": {
     "iopub.execute_input": "2023-08-09T23:48:47.426535Z",
     "iopub.status.busy": "2023-08-09T23:48:47.426061Z",
     "iopub.status.idle": "2023-08-09T23:48:50.420656Z",
     "shell.execute_reply": "2023-08-09T23:48:50.419623Z",
     "shell.execute_reply.started": "2023-08-09T23:48:47.426502Z"
    }
   },
   "outputs": [
    {
     "name": "stdout",
     "output_type": "stream",
     "text": [
      "Loading model that can be used for inference only\n",
      "Using a Transformer with 25.82 M parameters\n"
     ]
    }
   ],
   "source": [
    "tab_lower_model = TabPFNClassifier(N_ensemble_configurations=20).fit(X_train, y_train)"
   ]
  },
  {
   "cell_type": "code",
   "execution_count": 37,
   "metadata": {
    "execution": {
     "iopub.execute_input": "2023-08-09T23:48:50.422416Z",
     "iopub.status.busy": "2023-08-09T23:48:50.422083Z",
     "iopub.status.idle": "2023-08-09T23:48:53.270563Z",
     "shell.execute_reply": "2023-08-09T23:48:53.269561Z",
     "shell.execute_reply.started": "2023-08-09T23:48:50.422387Z"
    }
   },
   "outputs": [
    {
     "name": "stdout",
     "output_type": "stream",
     "text": [
      "Loading model that can be used for inference only\n",
      "Using a Transformer with 25.82 M parameters\n"
     ]
    }
   ],
   "source": [
    "tab_upper_model = TabPFNClassifier(N_ensemble_configurations=66).fit(X_train, y_train)"
   ]
  },
  {
   "cell_type": "code",
   "execution_count": 38,
   "metadata": {
    "execution": {
     "iopub.execute_input": "2023-08-09T23:48:53.272813Z",
     "iopub.status.busy": "2023-08-09T23:48:53.272375Z",
     "iopub.status.idle": "2023-08-09T23:48:55.680582Z",
     "shell.execute_reply": "2023-08-09T23:48:55.679602Z",
     "shell.execute_reply.started": "2023-08-09T23:48:53.272768Z"
    }
   },
   "outputs": [],
   "source": [
    "stacking_cat_model = CatBoostClassifier(n_estimators=150, reg_lambda=0.05055956136270572, colsample_bylevel=0.6, \n",
    "                                        subsample=0.5, learning_rate=0.08699165501504001, max_depth=7, \n",
    "                                        one_hot_max_size=8, random_state=seed, verbose=False).fit(X_train, y_train)"
   ]
  },
  {
   "cell_type": "code",
   "execution_count": 39,
   "metadata": {
    "execution": {
     "iopub.execute_input": "2023-08-09T23:48:55.682763Z",
     "iopub.status.busy": "2023-08-09T23:48:55.682078Z",
     "iopub.status.idle": "2023-08-09T23:48:56.165017Z",
     "shell.execute_reply": "2023-08-09T23:48:56.163800Z",
     "shell.execute_reply.started": "2023-08-09T23:48:55.682720Z"
    }
   },
   "outputs": [],
   "source": [
    "stacking_xgb_model = xgboost.XGBClassifier(n_estimators=160, reg_lambda=0.030554982480056614, alpha=0.022993963306149747, \n",
    "                                           colsample_bytree=0.4, subsample=0.6, learning_rate=0.08378145372235492, \n",
    "                                           max_depth=17, min_child_weight=1, random_state=seed).fit(X_train, y_train)"
   ]
  },
  {
   "cell_type": "code",
   "execution_count": 40,
   "metadata": {
    "execution": {
     "iopub.execute_input": "2023-08-09T23:48:56.167320Z",
     "iopub.status.busy": "2023-08-09T23:48:56.166736Z",
     "iopub.status.idle": "2023-08-09T23:48:56.519286Z",
     "shell.execute_reply": "2023-08-09T23:48:56.518347Z",
     "shell.execute_reply.started": "2023-08-09T23:48:56.167221Z"
    }
   },
   "outputs": [],
   "source": [
    "stacking_lgbm_model = lgb.LGBMClassifier(n_estimators=130, reg_alpha=0.017987440901161444, reg_lambda=0.0010110144342120994, \n",
    "                                colsample_bytree=0.8, subsample=0.5, learning_rate=0.08786840365732179, \n",
    "                                max_depth=5, num_leaves=10, min_child_samples=48, random_state=seed).fit(X_train, y_train)"
   ]
  },
  {
   "cell_type": "code",
   "execution_count": 41,
   "metadata": {
    "execution": {
     "iopub.execute_input": "2023-08-09T23:48:56.520955Z",
     "iopub.status.busy": "2023-08-09T23:48:56.520645Z",
     "iopub.status.idle": "2023-08-09T23:48:56.820502Z",
     "shell.execute_reply": "2023-08-09T23:48:56.819365Z",
     "shell.execute_reply.started": "2023-08-09T23:48:56.520928Z"
    }
   },
   "outputs": [],
   "source": [
    "stacking_hgbc_model = HistGradientBoostingClassifier(learning_rate=0.9112141545526848, max_depth=5, min_samples_leaf=18, \n",
    "                                                     max_iter=160, random_state=seed).fit(X_train, y_train)"
   ]
  },
  {
   "cell_type": "markdown",
   "metadata": {},
   "source": [
    "## Testing Models"
   ]
  },
  {
   "cell_type": "code",
   "execution_count": 42,
   "metadata": {
    "execution": {
     "iopub.execute_input": "2023-08-09T23:48:56.822592Z",
     "iopub.status.busy": "2023-08-09T23:48:56.822229Z",
     "iopub.status.idle": "2023-08-09T23:48:56.835812Z",
     "shell.execute_reply": "2023-08-09T23:48:56.834622Z",
     "shell.execute_reply.started": "2023-08-09T23:48:56.822562Z"
    }
   },
   "outputs": [],
   "source": [
    "n_folds = 10\n",
    "def CV_plus(model, data, loss_function):\n",
    "    skf = KFold(n_splits=n_folds, shuffle=True, random_state=seed)\n",
    "    kfold = skf.split(data.iloc[:, 1:-1], data.iloc[:, -1])\n",
    "    losses = []\n",
    "    num_predictions_lt_01 = []\n",
    "    num_predictions_gt_09 = []\n",
    "    num_predictions_lt_02 = []\n",
    "    num_predictions_gt_08 = []\n",
    "    total_predictions = []\n",
    "    num_wrong_class1_predictions = []\n",
    "    num_wrong_class0_predictions = []\n",
    "    \n",
    "    for (train_id, val_id) in kfold:\n",
    "        x_train = data.iloc[train_id, 1:-1]\n",
    "        y_train = data.iloc[train_id, -1]\n",
    "        x_val = data.iloc[val_id, 1:-1]\n",
    "        y_val = data.iloc[val_id, -1]\n",
    "        model.fit(x_train, y_train)\n",
    "        pred_val = model.predict_proba(x_val)\n",
    "        pred_val_one = model.predict_proba(x_val)[:, 1]\n",
    "        loss = loss_function(y_val, pred_val)\n",
    "        losses.append(loss)\n",
    "        num_predictions_lt_01.append(np.sum((pred_val_one < 0.1)))\n",
    "        num_predictions_gt_09.append(np.sum((pred_val_one > 0.9)))\n",
    "        num_predictions_lt_02.append(np.sum((pred_val_one < 0.2)))\n",
    "        num_predictions_gt_08.append(np.sum((pred_val_one > 0.8)))\n",
    "        num_wrong_class1_predictions.append(np.sum(((y_val == 1) & (pred_val_one < 0.5))))\n",
    "        num_wrong_class0_predictions.append(np.sum(((y_val == 0) & (pred_val_one > 0.5))))\n",
    "        total_predictions.append(len(pred_val))\n",
    "    \n",
    "    avg_log_loss = np.sum(losses)\n",
    "    \n",
    "    return avg_log_loss, num_predictions_lt_01, num_predictions_gt_09, num_wrong_class1_predictions, num_wrong_class0_predictions, num_predictions_lt_02, num_predictions_gt_08, total_predictions"
   ]
  },
  {
   "cell_type": "code",
   "execution_count": 43,
   "metadata": {
    "execution": {
     "iopub.execute_input": "2023-08-09T23:48:56.837572Z",
     "iopub.status.busy": "2023-08-09T23:48:56.837215Z",
     "iopub.status.idle": "2023-08-09T23:48:56.855957Z",
     "shell.execute_reply": "2023-08-09T23:48:56.854962Z",
     "shell.execute_reply.started": "2023-08-09T23:48:56.837544Z"
    }
   },
   "outputs": [],
   "source": [
    "# models = [xgb_model, lgbm_model, cat_model, hgbc_model, dt_model, \n",
    "#           rf_model, ada_model, gradient_model, tab_lower_model, \n",
    "#           tab_upper_model, stacking_cat_model, stacking_xgb_model, \n",
    "#           stacking_lgbm_model, stacking_hgbc_model]\n",
    "\n",
    "# results_df = pd.DataFrame(columns=['Model', 'Accuracy', 'CV Balanced-Log-Loss', 'Predictions < 0.1', 'Predictions < 0.2',\n",
    "#                                    'Predictions > 0.8', 'Predictions > 0.9', 'Class 0 Wrong', 'Class 1 Wrong', 'Total'])\n",
    "\n",
    "# for model in models:\n",
    "#     print(\"Working on model: \", str(model))\n",
    "#     avg_log_loss, avg_num_predictions_lt_01, avg_num_predictions_gt_09, avg_num_wrong_class1_predictions, avg_num_wrong_class0_predictions, avg_num_predictions_lt_02, avg_num_predictions_gt_08, total_predictions = CV_plus(model, oversampled_df, balanced_log_loss)\n",
    "#     accuracy = 1.0 - (np.sum(avg_num_wrong_class1_predictions) + np.sum(avg_num_wrong_class0_predictions))/ len(oversampled_df)\n",
    "#     results_df = results_df.append({'Model': str(model), 'Accuracy': accuracy,\n",
    "#                                     'CV Balanced-Log-Loss': avg_log_loss, 'Predictions < 0.1': np.sum(avg_num_predictions_lt_01), 'Predictions < 0.2': np.sum(avg_num_predictions_lt_02),\n",
    "#                                     'Predictions > 0.8': np.sum(avg_num_predictions_gt_08), 'Predictions > 0.9': np.sum(avg_num_predictions_gt_09), 'Class 0 Wrong': np.sum(avg_num_wrong_class0_predictions), \n",
    "#                                     'Class 1 Wrong': np.sum(avg_num_wrong_class1_predictions), 'Total': np.sum(total_predictions)}, ignore_index=True)\n",
    "\n",
    "# print(results_df)"
   ]
  },
  {
   "cell_type": "code",
   "execution_count": 1,
   "metadata": {
    "execution": {
     "iopub.execute_input": "2023-08-09T23:48:56.857861Z",
     "iopub.status.busy": "2023-08-09T23:48:56.857536Z",
     "iopub.status.idle": "2023-08-09T23:49:43.382338Z",
     "shell.execute_reply": "2023-08-09T23:49:43.379610Z",
     "shell.execute_reply.started": "2023-08-09T23:48:56.857834Z"
    }
   },
   "outputs": [],
   "source": [
    "# Uncomment this model to run\n",
    "\n",
    "# model = StackingClassifier(\n",
    "#         estimators=[(\"tabpfn\", tab_lower_model),\n",
    "#                     (\"lgbm\", lgbm_model), (\"xgboost\", xgb_model), (\"adaboost\", ada_model)],\n",
    "#         final_estimator=LogisticRegression(C=0.1, random_state=seed)\n",
    "#     ).fit(X_train, y_train)"
   ]
  },
  {
   "cell_type": "markdown",
   "metadata": {},
   "source": [
    "## Submission"
   ]
  },
  {
   "cell_type": "code",
   "execution_count": null,
   "metadata": {
    "execution": {
     "iopub.status.busy": "2023-08-09T23:49:43.383704Z",
     "iopub.status.idle": "2023-08-09T23:49:43.384328Z",
     "shell.execute_reply": "2023-08-09T23:49:43.384028Z",
     "shell.execute_reply.started": "2023-08-09T23:49:43.383999Z"
    }
   },
   "outputs": [],
   "source": [
    "def round_up_down(num):\n",
    "    return 1 if num >= 0.5 else 0"
   ]
  },
  {
   "cell_type": "code",
   "execution_count": null,
   "metadata": {
    "execution": {
     "iopub.status.busy": "2023-08-09T23:49:43.386423Z",
     "iopub.status.idle": "2023-08-09T23:49:43.387474Z",
     "shell.execute_reply": "2023-08-09T23:49:43.387178Z",
     "shell.execute_reply.started": "2023-08-09T23:49:43.387150Z"
    }
   },
   "outputs": [],
   "source": [
    "final.iloc[:, 1], final.iloc[:, -1] = model.predict_proba(test.iloc[:, 1:])[:, 0], model.predict_proba(test.iloc[:, 1:])[:, 1]\n",
    "final.to_csv('submission.csv', index=False)\n",
    "submission = pd.read_csv('submission.csv')\n",
    "submission"
   ]
  }
 ],
 "metadata": {
  "kernelspec": {
   "display_name": "Python 3 (ipykernel)",
   "language": "python",
   "name": "python3"
  },
  "language_info": {
   "codemirror_mode": {
    "name": "ipython",
    "version": 3
   },
   "file_extension": ".py",
   "mimetype": "text/x-python",
   "name": "python",
   "nbconvert_exporter": "python",
   "pygments_lexer": "ipython3",
   "version": "3.9.7"
  }
 },
 "nbformat": 4,
 "nbformat_minor": 4
}
