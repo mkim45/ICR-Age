{
 "cells": [
  {
   "cell_type": "code",
   "execution_count": 104,
   "id": "f52acf34",
   "metadata": {},
   "outputs": [],
   "source": [
    "import pandas as pd\n",
    "import numpy as np\n",
    "import seaborn as sns\n",
    "import matplotlib.pyplot as plt\n",
    "from sklearn.metrics import mean_squared_error\n",
    "from sklearn.model_selection import cross_val_score,train_test_split, KFold, cross_val_predict\n",
    "from sklearn.metrics import mean_squared_error,r2_score,roc_curve,auc,precision_recall_curve, accuracy_score, \\\n",
    "recall_score, precision_score, confusion_matrix\n",
    "from sklearn.tree import DecisionTreeRegressor,DecisionTreeClassifier\n",
    "from sklearn.model_selection import GridSearchCV, ParameterGrid, StratifiedKFold, RandomizedSearchCV\n",
    "from sklearn.ensemble import VotingRegressor, VotingClassifier, StackingRegressor, StackingClassifier, GradientBoostingRegressor,GradientBoostingClassifier, BaggingRegressor,BaggingClassifier,RandomForestRegressor,RandomForestClassifier,AdaBoostRegressor,AdaBoostClassifier\n",
    "from sklearn.linear_model import LinearRegression,LogisticRegression, LassoCV, RidgeCV, ElasticNetCV\n",
    "from sklearn.neighbors import KNeighborsRegressor\n",
    "import itertools as it\n",
    "import time as time\n",
    "import xgboost as xgb\n",
    "from pyearth import Earth\n",
    "from sklearn.impute import KNNImputer\n",
    "from sklearn.preprocessing import StandardScaler\n",
    "from sklearn.feature_selection import VarianceThreshold\n",
    "from catboost import CatBoostClassifier\n",
    "import warnings\n",
    "warnings.filterwarnings(\"ignore\")\n",
    "from sklearn.isotonic import IsotonicRegression\n",
    "from sklearn.metrics import log_loss\n",
    "from sklearn.feature_selection import RFE\n",
    "from lightgbm import LGBMClassifier"
   ]
  },
  {
   "cell_type": "code",
   "execution_count": 65,
   "id": "a679850e",
   "metadata": {},
   "outputs": [],
   "source": [
    "# Import the data\n",
    "train = pd.read_csv('train.csv')\n",
    "test = pd.read_csv('test.csv')\n",
    "greeks = pd.read_csv('greeks.csv')"
   ]
  },
  {
   "cell_type": "code",
   "execution_count": 66,
   "id": "576405a9",
   "metadata": {},
   "outputs": [],
   "source": [
    "# Change to dummy variables\n",
    "train['EJ'] = train['EJ'].apply(lambda x: 0 if x == 'A' else 1)\n",
    "test['EJ'] = test['EJ'].apply(lambda x: 0 if x == 'A' else 1)\n",
    "\n",
    "#Separating train data for predictors and response\n",
    "X_train = train.drop('Class', axis = 1)\n",
    "y_train = train.loc[:, 'Class']\n",
    "\n",
    "#Dropping id column\n",
    "X_train = X_train.drop('Id', axis = 1)\n",
    "test = test.drop('Id', axis = 1)\n",
    "\n",
    "#Creating validation data set\n",
    "X_train, X_val, y_train, y_val = train_test_split(X_train, y_train, test_size = 0.10, stratify = y_train)\n",
    "\n",
    "#Scaling the train and test data\n",
    "scaler = StandardScaler()\n",
    "X_train_scaled = scaler.fit_transform(X_train)\n",
    "X_test_scaled = scaler.transform(test)\n",
    "X_val_scaled = scaler.transform(X_val)\n",
    "X_train = pd.DataFrame(X_train_scaled)\n",
    "X_test = pd.DataFrame(X_test_scaled)\n",
    "X_val = pd.DataFrame(X_val_scaled)"
   ]
  },
  {
   "cell_type": "code",
   "execution_count": 78,
   "id": "5b2d7e76",
   "metadata": {},
   "outputs": [],
   "source": [
    "#SKIP!!!\n",
    "#Using for loop to iterate over potential values of n_neighbors for imputing missing values, using a \n",
    "#CatBoostRegressor() to get train MSE as the parameter to choose best value\n",
    "scores = []\n",
    "val_scores = []\n",
    "for i in range(1, 40):\n",
    "    imputer = KNNImputer(n_neighbors = i)\n",
    "    X_train_imputed = imputer.fit_transform(X_train)\n",
    "    model_test = CatBoostClassifier(verbose = False)\n",
    "    model_test.fit(X_train_imputed, y_train)\n",
    "\n",
    "    true_labels = np.array(y_train)\n",
    "    predicted_probs = np.array(model_test.predict_proba(X_train_imputed))\n",
    "\n",
    "    class_weights = np.mean(true_labels) / np.bincount(true_labels)\n",
    "    logloss_per_class = log_loss(true_labels, predicted_probs, labels=[0, 1], normalize=False)\n",
    "    balanced_logloss = np.sum(logloss_per_class * class_weights)\n",
    "    scores.append(balanced_logloss)\n",
    "    true_labels = np.array(y_val)\n",
    "    predicted_probs = np.array(model_test.predict_proba(X_val))\n",
    "\n",
    "    class_weights = np.mean(true_labels) / np.bincount(true_labels)\n",
    "    logloss_per_class = log_loss(true_labels, predicted_probs, labels=[0, 1], normalize=False)\n",
    "    balanced_logloss = np.sum(logloss_per_class * class_weights)\n",
    "    \n",
    "    val_scores.append(balanced_logloss)"
   ]
  },
  {
   "cell_type": "code",
   "execution_count": 79,
   "id": "75fced00",
   "metadata": {},
   "outputs": [
    {
     "data": {
      "text/plain": [
       "<matplotlib.legend.Legend at 0x7ff63ba0eba8>"
      ]
     },
     "execution_count": 79,
     "metadata": {},
     "output_type": "execute_result"
    },
    {
     "data": {
      "image/png": "[encoded data removed]",
      "text/plain": [
       "<Figure size 432x288 with 1 Axes>"
      ]
     },
     "metadata": {
      "needs_background": "light"
     },
     "output_type": "display_data"
    }
   ],
   "source": [
    "x = range(1, len(scores) + 1)\n",
    "plt.plot(x, scores, label = 'Train Scores')\n",
    "plt.plot(x, val_scores, label = 'Validation Scores')\n",
    "plt.legend()"
   ]
  },
  {
   "cell_type": "code",
   "execution_count": 80,
   "id": "65836e6a",
   "metadata": {},
   "outputs": [],
   "source": [
    "imputer = KNNImputer(n_neighbors = 10)\n",
    "X_train_imputed = imputer.fit_transform(X_train)\n",
    "X_val_imputed = imputer.transform(X_val)\n",
    "X_train = pd.DataFrame(X_train_imputed)\n",
    "X_val = pd.DataFrame(X_val_imputed)"
   ]
  },
  {
   "cell_type": "code",
   "execution_count": 67,
   "id": "90992635",
   "metadata": {},
   "outputs": [],
   "source": [
    "# Initial data analysis\n",
    "#print(train.isnull().sum())"
   ]
  },
  {
   "cell_type": "code",
   "execution_count": 75,
   "id": "77a9e648",
   "metadata": {},
   "outputs": [
    {
     "data": {
      "text/plain": [
       "292    0\n",
       "450    0\n",
       "148    0\n",
       "559    1\n",
       "522    0\n",
       "      ..\n",
       "58     0\n",
       "178    0\n",
       "610    0\n",
       "233    0\n",
       "216    0\n",
       "Name: Class, Length: 555, dtype: int64"
      ]
     },
     "execution_count": 75,
     "metadata": {},
     "output_type": "execute_result"
    }
   ],
   "source": [
    "y_train"
   ]
  },
  {
   "cell_type": "code",
   "execution_count": 71,
   "id": "37fd7881",
   "metadata": {},
   "outputs": [],
   "source": [
    "def balanced_log_loss(X_train, y_train, X_val, y_val, model_test):\n",
    "    scores = []\n",
    "    true_labels = np.array(y_train)\n",
    "    predicted_probs = np.array(model_test.predict_proba(X_train))\n",
    "    class_weights = np.mean(true_labels) / np.bincount(true_labels)\n",
    "    logloss_per_class = log_loss(true_labels, predicted_probs, labels=[0, 1], normalize=False)\n",
    "    balanced_logloss = np.sum(logloss_per_class * class_weights)\n",
    "    scores.append(balanced_logloss)\n",
    "    true_labels = np.array(y_val)\n",
    "    predicted_probs = np.array(model_test.predict_proba(X_val))\n",
    "    class_weights = np.mean(true_labels) / np.bincount(true_labels)\n",
    "    logloss_per_class = log_loss(true_labels, predicted_probs, labels=[0, 1], normalize=False)\n",
    "    balanced_logloss = np.sum(logloss_per_class * class_weights)\n",
    "    scores.append(balanced_logloss)\n",
    "    return scores"
   ]
  },
  {
   "cell_type": "code",
   "execution_count": 93,
   "id": "3d6d2b34",
   "metadata": {},
   "outputs": [
    {
     "name": "stdout",
     "output_type": "stream",
     "text": [
      "The results are 0.08264023663397657 for train data and 0.9237965382605047 for validation data.\n"
     ]
    }
   ],
   "source": [
    "# With all performance\n",
    "model = RandomForestClassifier()\n",
    "model.fit(X_train, y_train)\n",
    "results = balanced_log_loss(X_train, y_train, X_val, y_val, model)\n",
    "print(f'The results are {results[0]} for train data and {results[1]} for validation data.')"
   ]
  },
  {
   "cell_type": "code",
   "execution_count": 94,
   "id": "a8b1214e",
   "metadata": {},
   "outputs": [
    {
     "name": "stdout",
     "output_type": "stream",
     "text": [
      "The results are 0.08294645924201895 for train data and 0.3432603163684188 for validation data.\n"
     ]
    }
   ],
   "source": [
    "# With 50 variables performance\n",
    "model = RandomForestClassifier()\n",
    "rfe = RFE(model, n_features_to_select=50)\n",
    "rfe.fit(X_train, y_train)\n",
    "results = balanced_log_loss(X_train, y_train, X_val, y_val, rfe)\n",
    "print(f'The results are {results[0]} for train data and {results[1]} for validation data.')"
   ]
  },
  {
   "cell_type": "code",
   "execution_count": 95,
   "id": "4d6cb214",
   "metadata": {},
   "outputs": [
    {
     "name": "stdout",
     "output_type": "stream",
     "text": [
      "The results are 0.08005792163385073 for train data and 0.32501721659281196 for validation data.\n"
     ]
    }
   ],
   "source": [
    "# With 40 variables performance\n",
    "model = RandomForestClassifier()\n",
    "rfe = RFE(model, n_features_to_select=40)\n",
    "rfe.fit(X_train, y_train)\n",
    "results = balanced_log_loss(X_train, y_train, X_val, y_val, rfe)\n",
    "print(f'The results are {results[0]} for train data and {results[1]} for validation data.')"
   ]
  },
  {
   "cell_type": "code",
   "execution_count": 99,
   "id": "3742d5a2",
   "metadata": {},
   "outputs": [
    {
     "name": "stdout",
     "output_type": "stream",
     "text": [
      "The results are 0.07577995942699271 for train data and 0.32218710570319986 for validation data.\n"
     ]
    }
   ],
   "source": [
    "# With 30 variables performance\n",
    "model = RandomForestClassifier()\n",
    "rfe = RFE(model, n_features_to_select=30)\n",
    "rfe.fit(X_train, y_train)\n",
    "results = balanced_log_loss(X_train, y_train, X_val, y_val, rfe)\n",
    "print(f'The results are {results[0]} for train data and {results[1]} for validation data.')"
   ]
  },
  {
   "cell_type": "code",
   "execution_count": 97,
   "id": "f2b26941",
   "metadata": {},
   "outputs": [
    {
     "name": "stdout",
     "output_type": "stream",
     "text": [
      "The results are 0.07242304973221542 for train data and 0.9020813926608242 for validation data.\n"
     ]
    }
   ],
   "source": [
    "# With 20 variables performance\n",
    "model = RandomForestClassifier()\n",
    "rfe = RFE(model, n_features_to_select=20)\n",
    "rfe.fit(X_train, y_train)\n",
    "results = balanced_log_loss(X_train, y_train, X_val, y_val, rfe)\n",
    "print(f'The results are {results[0]} for train data and {results[1]} for validation data.')"
   ]
  },
  {
   "cell_type": "code",
   "execution_count": 98,
   "id": "fc07aa04",
   "metadata": {},
   "outputs": [
    {
     "name": "stdout",
     "output_type": "stream",
     "text": [
      "The results are 0.07508378540226826 for train data and 0.8997287742485649 for validation data.\n"
     ]
    }
   ],
   "source": [
    "# With 10 variables performance\n",
    "model = RandomForestClassifier()\n",
    "rfe = RFE(model, n_features_to_select=10)\n",
    "rfe.fit(X_train, y_train)\n",
    "results = balanced_log_loss(X_train, y_train, X_val, y_val, rfe)\n",
    "print(f'The results are {results[0]} for train data and {results[1]} for validation data.')"
   ]
  },
  {
   "cell_type": "code",
   "execution_count": 102,
   "id": "ffed3688",
   "metadata": {},
   "outputs": [
    {
     "name": "stdout",
     "output_type": "stream",
     "text": [
      "Fitting 5 folds for each of 200 candidates, totalling 1000 fits\n",
      "Optimal parameter values = {'subsample': 1.0, 'reg_lambda': 10, 'n_estimators': 100, 'max_depth': 6, 'learning_rate': 0.2, 'colsample_bylevel': 0.75}\n",
      "Optimal cross validation log loss =  0.1851785439310943\n",
      "Time taken =  19  minutes\n"
     ]
    }
   ],
   "source": [
    "start_time = time.time()\n",
    "param_grid = {'max_depth': [4, 6, 8],\n",
    "              'learning_rate': [0.01, 0.1, 0.2],\n",
    "               'reg_lambda': [0.1, 1, 100],\n",
    "                'n_estimators': [100, 500, 1000],\n",
    "                'subsample': [0.5, 0.75, 1.0],\n",
    "             'reg_lambda': [0, 10, 100],\n",
    "             'colsample_bylevel': [0.5, 0.75, 1.0]}\n",
    "\n",
    "cv = KFold(n_splits = 5,shuffle = True, random_state = 1)\n",
    "optimal_params = RandomizedSearchCV(estimator = CatBoostClassifier(random_state = 1, verbose = False),                                                       \n",
    "                             param_distributions = param_grid, n_iter = 200,\n",
    "                             verbose = 1,random_state = 1,\n",
    "                             n_jobs = -1,\n",
    "                             cv = cv, scoring = 'neg_log_loss')\n",
    "optimal_params.fit(X_train, y_train, early_stopping_rounds = 10)\n",
    "print(\"Optimal parameter values =\", optimal_params.best_params_)\n",
    "print(\"Optimal cross validation log loss = \", -optimal_params.best_score_)\n",
    "print(\"Time taken = \", round((time.time() - start_time)/60), \" minutes\")"
   ]
  },
  {
   "cell_type": "code",
   "execution_count": 107,
   "id": "f3d6b5cf",
   "metadata": {},
   "outputs": [
    {
     "name": "stdout",
     "output_type": "stream",
     "text": [
      "Fitting 5 folds for each of 200 candidates, totalling 1000 fits\n",
      "[1]\ttraining's binary_logloss: 0.43672\tvalid_1's binary_logloss: 0.44148\n",
      "Training until validation scores don't improve for 10 rounds\n",
      "[2]\ttraining's binary_logloss: 0.412502\tvalid_1's binary_logloss: 0.425692\n",
      "[3]\ttraining's binary_logloss: 0.391769\tvalid_1's binary_logloss: 0.409989\n",
      "[4]\ttraining's binary_logloss: 0.373577\tvalid_1's binary_logloss: 0.393872\n",
      "[5]\ttraining's binary_logloss: 0.356068\tvalid_1's binary_logloss: 0.380561\n",
      "[6]\ttraining's binary_logloss: 0.343455\tvalid_1's binary_logloss: 0.374834\n",
      "[7]\ttraining's binary_logloss: 0.328676\tvalid_1's binary_logloss: 0.363502\n",
      "[8]\ttraining's binary_logloss: 0.315712\tvalid_1's binary_logloss: 0.354828\n",
      "[9]\ttraining's binary_logloss: 0.303533\tvalid_1's binary_logloss: 0.347242\n",
      "[10]\ttraining's binary_logloss: 0.292548\tvalid_1's binary_logloss: 0.33537\n",
      "[11]\ttraining's binary_logloss: 0.282278\tvalid_1's binary_logloss: 0.328692\n",
      "[12]\ttraining's binary_logloss: 0.273901\tvalid_1's binary_logloss: 0.32295\n",
      "[13]\ttraining's binary_logloss: 0.264603\tvalid_1's binary_logloss: 0.314037\n",
      "[14]\ttraining's binary_logloss: 0.256372\tvalid_1's binary_logloss: 0.307476\n",
      "[15]\ttraining's binary_logloss: 0.247624\tvalid_1's binary_logloss: 0.301101\n",
      "[16]\ttraining's binary_logloss: 0.240277\tvalid_1's binary_logloss: 0.295566\n",
      "[17]\ttraining's binary_logloss: 0.233384\tvalid_1's binary_logloss: 0.292087\n",
      "[18]\ttraining's binary_logloss: 0.226142\tvalid_1's binary_logloss: 0.289734\n",
      "[19]\ttraining's binary_logloss: 0.219905\tvalid_1's binary_logloss: 0.286691\n",
      "[20]\ttraining's binary_logloss: 0.213239\tvalid_1's binary_logloss: 0.282234\n",
      "[21]\ttraining's binary_logloss: 0.206653\tvalid_1's binary_logloss: 0.276464\n",
      "[22]\ttraining's binary_logloss: 0.200538\tvalid_1's binary_logloss: 0.273876\n",
      "[23]\ttraining's binary_logloss: 0.195154\tvalid_1's binary_logloss: 0.272514\n",
      "[24]\ttraining's binary_logloss: 0.189476\tvalid_1's binary_logloss: 0.268586\n",
      "[25]\ttraining's binary_logloss: 0.185183\tvalid_1's binary_logloss: 0.264808\n",
      "[26]\ttraining's binary_logloss: 0.180449\tvalid_1's binary_logloss: 0.261061\n",
      "[27]\ttraining's binary_logloss: 0.175421\tvalid_1's binary_logloss: 0.258746\n",
      "[28]\ttraining's binary_logloss: 0.170987\tvalid_1's binary_logloss: 0.256723\n",
      "[29]\ttraining's binary_logloss: 0.166519\tvalid_1's binary_logloss: 0.253619\n",
      "[30]\ttraining's binary_logloss: 0.161942\tvalid_1's binary_logloss: 0.250736\n",
      "[31]\ttraining's binary_logloss: 0.157186\tvalid_1's binary_logloss: 0.248883\n",
      "[32]\ttraining's binary_logloss: 0.15364\tvalid_1's binary_logloss: 0.24505\n",
      "[33]\ttraining's binary_logloss: 0.149599\tvalid_1's binary_logloss: 0.242855\n",
      "[34]\ttraining's binary_logloss: 0.145499\tvalid_1's binary_logloss: 0.241861\n",
      "[35]\ttraining's binary_logloss: 0.142421\tvalid_1's binary_logloss: 0.240458\n",
      "[36]\ttraining's binary_logloss: 0.138842\tvalid_1's binary_logloss: 0.238842\n",
      "[37]\ttraining's binary_logloss: 0.135626\tvalid_1's binary_logloss: 0.236019\n",
      "[38]\ttraining's binary_logloss: 0.132706\tvalid_1's binary_logloss: 0.234081\n",
      "[39]\ttraining's binary_logloss: 0.129553\tvalid_1's binary_logloss: 0.232728\n",
      "[40]\ttraining's binary_logloss: 0.125853\tvalid_1's binary_logloss: 0.231634\n",
      "[41]\ttraining's binary_logloss: 0.123057\tvalid_1's binary_logloss: 0.230868\n",
      "[42]\ttraining's binary_logloss: 0.120286\tvalid_1's binary_logloss: 0.228869\n",
      "[43]\ttraining's binary_logloss: 0.117566\tvalid_1's binary_logloss: 0.227321\n",
      "[44]\ttraining's binary_logloss: 0.115111\tvalid_1's binary_logloss: 0.226862\n",
      "[45]\ttraining's binary_logloss: 0.113402\tvalid_1's binary_logloss: 0.225978\n",
      "[46]\ttraining's binary_logloss: 0.110969\tvalid_1's binary_logloss: 0.226854\n",
      "[47]\ttraining's binary_logloss: 0.108878\tvalid_1's binary_logloss: 0.224501\n",
      "[48]\ttraining's binary_logloss: 0.106209\tvalid_1's binary_logloss: 0.223906\n",
      "[49]\ttraining's binary_logloss: 0.104069\tvalid_1's binary_logloss: 0.225839\n",
      "[50]\ttraining's binary_logloss: 0.101975\tvalid_1's binary_logloss: 0.226774\n",
      "[51]\ttraining's binary_logloss: 0.0997312\tvalid_1's binary_logloss: 0.226637\n",
      "[52]\ttraining's binary_logloss: 0.0981176\tvalid_1's binary_logloss: 0.226605\n",
      "[53]\ttraining's binary_logloss: 0.0957357\tvalid_1's binary_logloss: 0.226646\n",
      "[54]\ttraining's binary_logloss: 0.0935831\tvalid_1's binary_logloss: 0.224933\n",
      "[55]\ttraining's binary_logloss: 0.0915968\tvalid_1's binary_logloss: 0.224997\n",
      "[56]\ttraining's binary_logloss: 0.0896337\tvalid_1's binary_logloss: 0.223678\n",
      "[57]\ttraining's binary_logloss: 0.0879613\tvalid_1's binary_logloss: 0.220649\n",
      "[58]\ttraining's binary_logloss: 0.085963\tvalid_1's binary_logloss: 0.22089\n",
      "[59]\ttraining's binary_logloss: 0.0839762\tvalid_1's binary_logloss: 0.219856\n",
      "[60]\ttraining's binary_logloss: 0.0829583\tvalid_1's binary_logloss: 0.219054\n",
      "[61]\ttraining's binary_logloss: 0.0809952\tvalid_1's binary_logloss: 0.220314\n",
      "[62]\ttraining's binary_logloss: 0.0795351\tvalid_1's binary_logloss: 0.219844\n",
      "[63]\ttraining's binary_logloss: 0.0778128\tvalid_1's binary_logloss: 0.221039\n",
      "[64]\ttraining's binary_logloss: 0.0762896\tvalid_1's binary_logloss: 0.219877\n",
      "[65]\ttraining's binary_logloss: 0.0747395\tvalid_1's binary_logloss: 0.220385\n",
      "[66]\ttraining's binary_logloss: 0.0732245\tvalid_1's binary_logloss: 0.221835\n",
      "[67]\ttraining's binary_logloss: 0.0719563\tvalid_1's binary_logloss: 0.222746\n",
      "[68]\ttraining's binary_logloss: 0.0707164\tvalid_1's binary_logloss: 0.221052\n",
      "[69]\ttraining's binary_logloss: 0.0692543\tvalid_1's binary_logloss: 0.221204\n",
      "[70]\ttraining's binary_logloss: 0.0682842\tvalid_1's binary_logloss: 0.221676\n",
      "Early stopping, best iteration is:\n",
      "[60]\ttraining's binary_logloss: 0.0829583\tvalid_1's binary_logloss: 0.219054\n",
      "Optimal parameter values = {'subsample': 0.5, 'reg_lambda': 0, 'reg_alpha': 0, 'num_leaves': 40, 'n_estimators': 1000, 'max_depth': 4, 'learning_rate': 0.05, 'colsample_bytree': 0.75}\n",
      "Optimal cross validation log loss =  0.17993056364823096\n",
      "Time taken =  0  minutes\n"
     ]
    }
   ],
   "source": [
    "start_time = time.time()\n",
    "param_grid = {'max_depth': [4, 6, 8],\n",
    "              'num_leaves': [20, 31, 40],\n",
    "              'learning_rate': [0.01, 0.05, 0.1],\n",
    "               'reg_lambda':[0, 10, 100],\n",
    "                'n_estimators':[100, 500, 1000],\n",
    "                'reg_alpha': [0, 10, 100],\n",
    "                'subsample': [0.5, 0.75, 1.0],\n",
    "                'colsample_bytree': [0.5, 0.75, 1.0]}\n",
    "\n",
    "cv = KFold(n_splits=5, shuffle=True, random_state=1)\n",
    "optimal_params = RandomizedSearchCV(estimator=LGBMClassifier(random_state=1),                                                       \n",
    "                             param_distributions = param_grid, n_iter = 200,\n",
    "                             verbose = 1,\n",
    "                             n_jobs=-1,\n",
    "                             cv = cv, scoring = 'neg_log_loss')\n",
    "optimal_params.fit(X_train, y_train, early_stopping_rounds = 10, eval_metric='logloss', eval_set=[(X_train, y_train), (X_val, y_val)])\n",
    "print(\"Optimal parameter values =\", optimal_params.best_params_)\n",
    "print(\"Optimal cross validation log loss = \", -optimal_params.best_score_)\n",
    "print(\"Time taken = \", round((time.time()-start_time)/60), \" minutes\")"
   ]
  },
  {
   "cell_type": "code",
   "execution_count": 116,
   "id": "00859d3a",
   "metadata": {},
   "outputs": [
    {
     "name": "stdout",
     "output_type": "stream",
     "text": [
      "Fitting 5 folds for each of 54 candidates, totalling 270 fits\n",
      "Best Parameters:  {'bootstrap': False, 'max_depth': 18, 'max_features': 11, 'n_estimators': 500}\n",
      "Best Score:  -0.2271324969611638\n"
     ]
    }
   ],
   "source": [
    "params = {'n_estimators': [500],\n",
    "          'max_features': list(range(1,18,2)),\n",
    "          'max_depth': [12,15,18],\n",
    "          'bootstrap': [True, False]}\n",
    "\n",
    "cv = KFold(n_splits=5,shuffle=True,random_state=1)\n",
    "rf_regressor_grid = GridSearchCV(RandomForestClassifier(random_state=1, n_jobs=-1), \n",
    "                                      param_grid =params, cv=cv, n_jobs=-1, verbose=1, scoring='neg_log_loss')\n",
    "rf_regressor_grid.fit(X_train, y_train)\n",
    "print('Best Parameters: ', rf_regressor_grid.best_params_)\n",
    "print('Best Score: ', -rf_regressor_grid.best_score_)"
   ]
  },
  {
   "cell_type": "code",
   "execution_count": null,
   "id": "73b44828",
   "metadata": {},
   "outputs": [],
   "source": [
    "params = {\n",
    "    'n_estimators': [400],\n",
    "    'max_samples': [0.5, 0.75, 1.0],\n",
    "    'max_features': [0.5, 0.75, 1.0],\n",
    "    'bootstrap': [True, False],\n",
    "    'bootstrap_features': [True, False]\n",
    "}\n",
    "\n",
    "cv = KFold(n_splits = 5, shuffle = True, random_state = 1)\n",
    "\n",
    "bagging_regressor_grid = GridSearchCV(\n",
    "    BaggingClassifier(),\n",
    "    param_grid = params,\n",
    "    cv = cv,\n",
    "    scoring = 'neg_log_loss',\n",
    "    n_jobs = -1,\n",
    "    verbose = 1\n",
    ")\n",
    "\n",
    "bagging_regressor_grid.fit(X_train, y_train)\n",
    "print('Best Parameters: ', bagging_regressor_grid.best_params_)\n",
    "print('Best Score: ', -bagging_regressor_grid.best_score_)"
   ]
  }
 ],
 "metadata": {
  "kernelspec": {
   "display_name": "Python 3",
   "language": "python",
   "name": "python3"
  },
  "language_info": {
   "codemirror_mode": {
    "name": "ipython",
    "version": 3
   },
   "file_extension": ".py",
   "mimetype": "text/x-python",
   "name": "python",
   "nbconvert_exporter": "python",
   "pygments_lexer": "ipython3",
   "version": "3.6.13"
  }
 },
 "nbformat": 4,
 "nbformat_minor": 5
}
